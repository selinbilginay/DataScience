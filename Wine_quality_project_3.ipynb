{
 "cells": [
  {
   "cell_type": "code",
   "execution_count": 1,
   "id": "f5f6722e",
   "metadata": {},
   "outputs": [],
   "source": [
    "import pandas as pd\n",
    "import numpy as np \n",
    "import seaborn as sns\n",
    "import matplotlib.pyplot as plt\n",
    "from sklearn.linear_model import LogisticRegression\n",
    "from sklearn.model_selection import train_test_split\n",
    "from sklearn.metrics import confusion_matrix\n",
    "from sklearn.metrics import classification_report\n",
    "from sklearn.preprocessing import MinMaxScaler\n",
    "from imblearn.pipeline import Pipeline as imbpipeline\n",
    "from sklearn.pipeline import Pipeline\n",
    "from sklearn.model_selection import train_test_split, GridSearchCV, StratifiedKFold\n",
    "\n",
    "import warnings\n",
    "warnings.filterwarnings('ignore')\n",
    "title_font = {'family': 'arial', 'color': 'darkred','weight': 'bold','size': 13 }\n",
    "axis_font  = {'family': 'arial', 'color': 'darkblue','weight': 'bold','size': 10 }"
   ]
  },
  {
   "cell_type": "code",
   "execution_count": 2,
   "id": "4a043f83",
   "metadata": {},
   "outputs": [],
   "source": [
    "wine_quality_red=pd.read_csv('C:/Users/Hp/Downloads/winequality-red.csv',sep=';')"
   ]
  },
  {
   "cell_type": "code",
   "execution_count": 3,
   "id": "02d71a53",
   "metadata": {},
   "outputs": [],
   "source": [
    "wine_quality_white=pd.read_csv('C:/Users/Hp/Downloads/winequality-white.csv',sep=';')"
   ]
  },
  {
   "cell_type": "code",
   "execution_count": 4,
   "id": "ffb3bd74",
   "metadata": {},
   "outputs": [
    {
     "name": "stdout",
     "output_type": "stream",
     "text": [
      "<class 'pandas.core.frame.DataFrame'>\n",
      "RangeIndex: 1599 entries, 0 to 1598\n",
      "Data columns (total 12 columns):\n",
      " #   Column                Non-Null Count  Dtype  \n",
      "---  ------                --------------  -----  \n",
      " 0   fixed acidity         1599 non-null   float64\n",
      " 1   volatile acidity      1599 non-null   float64\n",
      " 2   citric acid           1599 non-null   float64\n",
      " 3   residual sugar        1599 non-null   float64\n",
      " 4   chlorides             1599 non-null   float64\n",
      " 5   free sulfur dioxide   1599 non-null   float64\n",
      " 6   total sulfur dioxide  1599 non-null   float64\n",
      " 7   density               1599 non-null   float64\n",
      " 8   pH                    1599 non-null   float64\n",
      " 9   sulphates             1599 non-null   float64\n",
      " 10  alcohol               1599 non-null   float64\n",
      " 11  quality               1599 non-null   int64  \n",
      "dtypes: float64(11), int64(1)\n",
      "memory usage: 150.0 KB\n"
     ]
    }
   ],
   "source": [
    "wine_quality_red.info()"
   ]
  },
  {
   "cell_type": "code",
   "execution_count": 5,
   "id": "f12c339a",
   "metadata": {},
   "outputs": [
    {
     "name": "stdout",
     "output_type": "stream",
     "text": [
      "<class 'pandas.core.frame.DataFrame'>\n",
      "RangeIndex: 4898 entries, 0 to 4897\n",
      "Data columns (total 12 columns):\n",
      " #   Column                Non-Null Count  Dtype  \n",
      "---  ------                --------------  -----  \n",
      " 0   fixed acidity         4898 non-null   float64\n",
      " 1   volatile acidity      4898 non-null   float64\n",
      " 2   citric acid           4898 non-null   float64\n",
      " 3   residual sugar        4898 non-null   float64\n",
      " 4   chlorides             4898 non-null   float64\n",
      " 5   free sulfur dioxide   4898 non-null   float64\n",
      " 6   total sulfur dioxide  4898 non-null   float64\n",
      " 7   density               4898 non-null   float64\n",
      " 8   pH                    4898 non-null   float64\n",
      " 9   sulphates             4898 non-null   float64\n",
      " 10  alcohol               4898 non-null   float64\n",
      " 11  quality               4898 non-null   int64  \n",
      "dtypes: float64(11), int64(1)\n",
      "memory usage: 459.3 KB\n"
     ]
    }
   ],
   "source": [
    "wine_quality_white.info()"
   ]
  },
  {
   "cell_type": "code",
   "execution_count": 6,
   "id": "111d6fa5",
   "metadata": {},
   "outputs": [],
   "source": [
    "wine_quality_red.insert(12,'Wine Type','red')"
   ]
  },
  {
   "cell_type": "code",
   "execution_count": 7,
   "id": "aff9f083",
   "metadata": {},
   "outputs": [],
   "source": [
    "wine_quality_white.insert(12,'Wine Type','white')"
   ]
  },
  {
   "cell_type": "code",
   "execution_count": 8,
   "id": "5c85346b",
   "metadata": {},
   "outputs": [
    {
     "data": {
      "text/html": [
       "<div>\n",
       "<style scoped>\n",
       "    .dataframe tbody tr th:only-of-type {\n",
       "        vertical-align: middle;\n",
       "    }\n",
       "\n",
       "    .dataframe tbody tr th {\n",
       "        vertical-align: top;\n",
       "    }\n",
       "\n",
       "    .dataframe thead th {\n",
       "        text-align: right;\n",
       "    }\n",
       "</style>\n",
       "<table border=\"1\" class=\"dataframe\">\n",
       "  <thead>\n",
       "    <tr style=\"text-align: right;\">\n",
       "      <th></th>\n",
       "      <th>fixed acidity</th>\n",
       "      <th>volatile acidity</th>\n",
       "      <th>citric acid</th>\n",
       "      <th>residual sugar</th>\n",
       "      <th>chlorides</th>\n",
       "      <th>free sulfur dioxide</th>\n",
       "      <th>total sulfur dioxide</th>\n",
       "      <th>density</th>\n",
       "      <th>pH</th>\n",
       "      <th>sulphates</th>\n",
       "      <th>alcohol</th>\n",
       "      <th>quality</th>\n",
       "      <th>Wine Type</th>\n",
       "    </tr>\n",
       "  </thead>\n",
       "  <tbody>\n",
       "    <tr>\n",
       "      <th>0</th>\n",
       "      <td>7.0</td>\n",
       "      <td>0.27</td>\n",
       "      <td>0.36</td>\n",
       "      <td>20.7</td>\n",
       "      <td>0.045</td>\n",
       "      <td>45.0</td>\n",
       "      <td>170.0</td>\n",
       "      <td>1.0010</td>\n",
       "      <td>3.00</td>\n",
       "      <td>0.45</td>\n",
       "      <td>8.8</td>\n",
       "      <td>6</td>\n",
       "      <td>white</td>\n",
       "    </tr>\n",
       "    <tr>\n",
       "      <th>1</th>\n",
       "      <td>6.3</td>\n",
       "      <td>0.30</td>\n",
       "      <td>0.34</td>\n",
       "      <td>1.6</td>\n",
       "      <td>0.049</td>\n",
       "      <td>14.0</td>\n",
       "      <td>132.0</td>\n",
       "      <td>0.9940</td>\n",
       "      <td>3.30</td>\n",
       "      <td>0.49</td>\n",
       "      <td>9.5</td>\n",
       "      <td>6</td>\n",
       "      <td>white</td>\n",
       "    </tr>\n",
       "    <tr>\n",
       "      <th>2</th>\n",
       "      <td>8.1</td>\n",
       "      <td>0.28</td>\n",
       "      <td>0.40</td>\n",
       "      <td>6.9</td>\n",
       "      <td>0.050</td>\n",
       "      <td>30.0</td>\n",
       "      <td>97.0</td>\n",
       "      <td>0.9951</td>\n",
       "      <td>3.26</td>\n",
       "      <td>0.44</td>\n",
       "      <td>10.1</td>\n",
       "      <td>6</td>\n",
       "      <td>white</td>\n",
       "    </tr>\n",
       "    <tr>\n",
       "      <th>3</th>\n",
       "      <td>7.2</td>\n",
       "      <td>0.23</td>\n",
       "      <td>0.32</td>\n",
       "      <td>8.5</td>\n",
       "      <td>0.058</td>\n",
       "      <td>47.0</td>\n",
       "      <td>186.0</td>\n",
       "      <td>0.9956</td>\n",
       "      <td>3.19</td>\n",
       "      <td>0.40</td>\n",
       "      <td>9.9</td>\n",
       "      <td>6</td>\n",
       "      <td>white</td>\n",
       "    </tr>\n",
       "    <tr>\n",
       "      <th>4</th>\n",
       "      <td>7.2</td>\n",
       "      <td>0.23</td>\n",
       "      <td>0.32</td>\n",
       "      <td>8.5</td>\n",
       "      <td>0.058</td>\n",
       "      <td>47.0</td>\n",
       "      <td>186.0</td>\n",
       "      <td>0.9956</td>\n",
       "      <td>3.19</td>\n",
       "      <td>0.40</td>\n",
       "      <td>9.9</td>\n",
       "      <td>6</td>\n",
       "      <td>white</td>\n",
       "    </tr>\n",
       "  </tbody>\n",
       "</table>\n",
       "</div>"
      ],
      "text/plain": [
       "   fixed acidity  volatile acidity  citric acid  residual sugar  chlorides  \\\n",
       "0            7.0              0.27         0.36            20.7      0.045   \n",
       "1            6.3              0.30         0.34             1.6      0.049   \n",
       "2            8.1              0.28         0.40             6.9      0.050   \n",
       "3            7.2              0.23         0.32             8.5      0.058   \n",
       "4            7.2              0.23         0.32             8.5      0.058   \n",
       "\n",
       "   free sulfur dioxide  total sulfur dioxide  density    pH  sulphates  \\\n",
       "0                 45.0                 170.0   1.0010  3.00       0.45   \n",
       "1                 14.0                 132.0   0.9940  3.30       0.49   \n",
       "2                 30.0                  97.0   0.9951  3.26       0.44   \n",
       "3                 47.0                 186.0   0.9956  3.19       0.40   \n",
       "4                 47.0                 186.0   0.9956  3.19       0.40   \n",
       "\n",
       "   alcohol  quality Wine Type  \n",
       "0      8.8        6     white  \n",
       "1      9.5        6     white  \n",
       "2     10.1        6     white  \n",
       "3      9.9        6     white  \n",
       "4      9.9        6     white  "
      ]
     },
     "execution_count": 8,
     "metadata": {},
     "output_type": "execute_result"
    }
   ],
   "source": [
    "wine_quality_white.head()"
   ]
  },
  {
   "cell_type": "code",
   "execution_count": 9,
   "id": "f3a8d8fa",
   "metadata": {},
   "outputs": [
    {
     "data": {
      "text/html": [
       "<div>\n",
       "<style scoped>\n",
       "    .dataframe tbody tr th:only-of-type {\n",
       "        vertical-align: middle;\n",
       "    }\n",
       "\n",
       "    .dataframe tbody tr th {\n",
       "        vertical-align: top;\n",
       "    }\n",
       "\n",
       "    .dataframe thead th {\n",
       "        text-align: right;\n",
       "    }\n",
       "</style>\n",
       "<table border=\"1\" class=\"dataframe\">\n",
       "  <thead>\n",
       "    <tr style=\"text-align: right;\">\n",
       "      <th></th>\n",
       "      <th>fixed acidity</th>\n",
       "      <th>volatile acidity</th>\n",
       "      <th>citric acid</th>\n",
       "      <th>residual sugar</th>\n",
       "      <th>chlorides</th>\n",
       "      <th>free sulfur dioxide</th>\n",
       "      <th>total sulfur dioxide</th>\n",
       "      <th>density</th>\n",
       "      <th>pH</th>\n",
       "      <th>sulphates</th>\n",
       "      <th>alcohol</th>\n",
       "      <th>quality</th>\n",
       "      <th>Wine Type</th>\n",
       "    </tr>\n",
       "  </thead>\n",
       "  <tbody>\n",
       "    <tr>\n",
       "      <th>0</th>\n",
       "      <td>7.4</td>\n",
       "      <td>0.70</td>\n",
       "      <td>0.00</td>\n",
       "      <td>1.9</td>\n",
       "      <td>0.076</td>\n",
       "      <td>11.0</td>\n",
       "      <td>34.0</td>\n",
       "      <td>0.9978</td>\n",
       "      <td>3.51</td>\n",
       "      <td>0.56</td>\n",
       "      <td>9.4</td>\n",
       "      <td>5</td>\n",
       "      <td>red</td>\n",
       "    </tr>\n",
       "    <tr>\n",
       "      <th>1</th>\n",
       "      <td>7.8</td>\n",
       "      <td>0.88</td>\n",
       "      <td>0.00</td>\n",
       "      <td>2.6</td>\n",
       "      <td>0.098</td>\n",
       "      <td>25.0</td>\n",
       "      <td>67.0</td>\n",
       "      <td>0.9968</td>\n",
       "      <td>3.20</td>\n",
       "      <td>0.68</td>\n",
       "      <td>9.8</td>\n",
       "      <td>5</td>\n",
       "      <td>red</td>\n",
       "    </tr>\n",
       "    <tr>\n",
       "      <th>2</th>\n",
       "      <td>7.8</td>\n",
       "      <td>0.76</td>\n",
       "      <td>0.04</td>\n",
       "      <td>2.3</td>\n",
       "      <td>0.092</td>\n",
       "      <td>15.0</td>\n",
       "      <td>54.0</td>\n",
       "      <td>0.9970</td>\n",
       "      <td>3.26</td>\n",
       "      <td>0.65</td>\n",
       "      <td>9.8</td>\n",
       "      <td>5</td>\n",
       "      <td>red</td>\n",
       "    </tr>\n",
       "    <tr>\n",
       "      <th>3</th>\n",
       "      <td>11.2</td>\n",
       "      <td>0.28</td>\n",
       "      <td>0.56</td>\n",
       "      <td>1.9</td>\n",
       "      <td>0.075</td>\n",
       "      <td>17.0</td>\n",
       "      <td>60.0</td>\n",
       "      <td>0.9980</td>\n",
       "      <td>3.16</td>\n",
       "      <td>0.58</td>\n",
       "      <td>9.8</td>\n",
       "      <td>6</td>\n",
       "      <td>red</td>\n",
       "    </tr>\n",
       "    <tr>\n",
       "      <th>4</th>\n",
       "      <td>7.4</td>\n",
       "      <td>0.70</td>\n",
       "      <td>0.00</td>\n",
       "      <td>1.9</td>\n",
       "      <td>0.076</td>\n",
       "      <td>11.0</td>\n",
       "      <td>34.0</td>\n",
       "      <td>0.9978</td>\n",
       "      <td>3.51</td>\n",
       "      <td>0.56</td>\n",
       "      <td>9.4</td>\n",
       "      <td>5</td>\n",
       "      <td>red</td>\n",
       "    </tr>\n",
       "  </tbody>\n",
       "</table>\n",
       "</div>"
      ],
      "text/plain": [
       "   fixed acidity  volatile acidity  citric acid  residual sugar  chlorides  \\\n",
       "0            7.4              0.70         0.00             1.9      0.076   \n",
       "1            7.8              0.88         0.00             2.6      0.098   \n",
       "2            7.8              0.76         0.04             2.3      0.092   \n",
       "3           11.2              0.28         0.56             1.9      0.075   \n",
       "4            7.4              0.70         0.00             1.9      0.076   \n",
       "\n",
       "   free sulfur dioxide  total sulfur dioxide  density    pH  sulphates  \\\n",
       "0                 11.0                  34.0   0.9978  3.51       0.56   \n",
       "1                 25.0                  67.0   0.9968  3.20       0.68   \n",
       "2                 15.0                  54.0   0.9970  3.26       0.65   \n",
       "3                 17.0                  60.0   0.9980  3.16       0.58   \n",
       "4                 11.0                  34.0   0.9978  3.51       0.56   \n",
       "\n",
       "   alcohol  quality Wine Type  \n",
       "0      9.4        5       red  \n",
       "1      9.8        5       red  \n",
       "2      9.8        5       red  \n",
       "3      9.8        6       red  \n",
       "4      9.4        5       red  "
      ]
     },
     "execution_count": 9,
     "metadata": {},
     "output_type": "execute_result"
    }
   ],
   "source": [
    "wine_quality_red.head()"
   ]
  },
  {
   "cell_type": "code",
   "execution_count": 10,
   "id": "e9107217",
   "metadata": {},
   "outputs": [
    {
     "data": {
      "text/html": [
       "<div>\n",
       "<style scoped>\n",
       "    .dataframe tbody tr th:only-of-type {\n",
       "        vertical-align: middle;\n",
       "    }\n",
       "\n",
       "    .dataframe tbody tr th {\n",
       "        vertical-align: top;\n",
       "    }\n",
       "\n",
       "    .dataframe thead th {\n",
       "        text-align: right;\n",
       "    }\n",
       "</style>\n",
       "<table border=\"1\" class=\"dataframe\">\n",
       "  <thead>\n",
       "    <tr style=\"text-align: right;\">\n",
       "      <th></th>\n",
       "      <th>fixed acidity</th>\n",
       "      <th>volatile acidity</th>\n",
       "      <th>citric acid</th>\n",
       "      <th>residual sugar</th>\n",
       "      <th>chlorides</th>\n",
       "      <th>free sulfur dioxide</th>\n",
       "      <th>total sulfur dioxide</th>\n",
       "      <th>density</th>\n",
       "      <th>pH</th>\n",
       "      <th>sulphates</th>\n",
       "      <th>alcohol</th>\n",
       "      <th>quality</th>\n",
       "      <th>Wine Type</th>\n",
       "    </tr>\n",
       "  </thead>\n",
       "  <tbody>\n",
       "    <tr>\n",
       "      <th>0</th>\n",
       "      <td>7.4</td>\n",
       "      <td>0.70</td>\n",
       "      <td>0.00</td>\n",
       "      <td>1.9</td>\n",
       "      <td>0.076</td>\n",
       "      <td>11.0</td>\n",
       "      <td>34.0</td>\n",
       "      <td>0.99780</td>\n",
       "      <td>3.51</td>\n",
       "      <td>0.56</td>\n",
       "      <td>9.4</td>\n",
       "      <td>5</td>\n",
       "      <td>red</td>\n",
       "    </tr>\n",
       "    <tr>\n",
       "      <th>1</th>\n",
       "      <td>7.8</td>\n",
       "      <td>0.88</td>\n",
       "      <td>0.00</td>\n",
       "      <td>2.6</td>\n",
       "      <td>0.098</td>\n",
       "      <td>25.0</td>\n",
       "      <td>67.0</td>\n",
       "      <td>0.99680</td>\n",
       "      <td>3.20</td>\n",
       "      <td>0.68</td>\n",
       "      <td>9.8</td>\n",
       "      <td>5</td>\n",
       "      <td>red</td>\n",
       "    </tr>\n",
       "    <tr>\n",
       "      <th>2</th>\n",
       "      <td>7.8</td>\n",
       "      <td>0.76</td>\n",
       "      <td>0.04</td>\n",
       "      <td>2.3</td>\n",
       "      <td>0.092</td>\n",
       "      <td>15.0</td>\n",
       "      <td>54.0</td>\n",
       "      <td>0.99700</td>\n",
       "      <td>3.26</td>\n",
       "      <td>0.65</td>\n",
       "      <td>9.8</td>\n",
       "      <td>5</td>\n",
       "      <td>red</td>\n",
       "    </tr>\n",
       "    <tr>\n",
       "      <th>3</th>\n",
       "      <td>11.2</td>\n",
       "      <td>0.28</td>\n",
       "      <td>0.56</td>\n",
       "      <td>1.9</td>\n",
       "      <td>0.075</td>\n",
       "      <td>17.0</td>\n",
       "      <td>60.0</td>\n",
       "      <td>0.99800</td>\n",
       "      <td>3.16</td>\n",
       "      <td>0.58</td>\n",
       "      <td>9.8</td>\n",
       "      <td>6</td>\n",
       "      <td>red</td>\n",
       "    </tr>\n",
       "    <tr>\n",
       "      <th>4</th>\n",
       "      <td>7.4</td>\n",
       "      <td>0.70</td>\n",
       "      <td>0.00</td>\n",
       "      <td>1.9</td>\n",
       "      <td>0.076</td>\n",
       "      <td>11.0</td>\n",
       "      <td>34.0</td>\n",
       "      <td>0.99780</td>\n",
       "      <td>3.51</td>\n",
       "      <td>0.56</td>\n",
       "      <td>9.4</td>\n",
       "      <td>5</td>\n",
       "      <td>red</td>\n",
       "    </tr>\n",
       "    <tr>\n",
       "      <th>...</th>\n",
       "      <td>...</td>\n",
       "      <td>...</td>\n",
       "      <td>...</td>\n",
       "      <td>...</td>\n",
       "      <td>...</td>\n",
       "      <td>...</td>\n",
       "      <td>...</td>\n",
       "      <td>...</td>\n",
       "      <td>...</td>\n",
       "      <td>...</td>\n",
       "      <td>...</td>\n",
       "      <td>...</td>\n",
       "      <td>...</td>\n",
       "    </tr>\n",
       "    <tr>\n",
       "      <th>6492</th>\n",
       "      <td>6.2</td>\n",
       "      <td>0.21</td>\n",
       "      <td>0.29</td>\n",
       "      <td>1.6</td>\n",
       "      <td>0.039</td>\n",
       "      <td>24.0</td>\n",
       "      <td>92.0</td>\n",
       "      <td>0.99114</td>\n",
       "      <td>3.27</td>\n",
       "      <td>0.50</td>\n",
       "      <td>11.2</td>\n",
       "      <td>6</td>\n",
       "      <td>white</td>\n",
       "    </tr>\n",
       "    <tr>\n",
       "      <th>6493</th>\n",
       "      <td>6.6</td>\n",
       "      <td>0.32</td>\n",
       "      <td>0.36</td>\n",
       "      <td>8.0</td>\n",
       "      <td>0.047</td>\n",
       "      <td>57.0</td>\n",
       "      <td>168.0</td>\n",
       "      <td>0.99490</td>\n",
       "      <td>3.15</td>\n",
       "      <td>0.46</td>\n",
       "      <td>9.6</td>\n",
       "      <td>5</td>\n",
       "      <td>white</td>\n",
       "    </tr>\n",
       "    <tr>\n",
       "      <th>6494</th>\n",
       "      <td>6.5</td>\n",
       "      <td>0.24</td>\n",
       "      <td>0.19</td>\n",
       "      <td>1.2</td>\n",
       "      <td>0.041</td>\n",
       "      <td>30.0</td>\n",
       "      <td>111.0</td>\n",
       "      <td>0.99254</td>\n",
       "      <td>2.99</td>\n",
       "      <td>0.46</td>\n",
       "      <td>9.4</td>\n",
       "      <td>6</td>\n",
       "      <td>white</td>\n",
       "    </tr>\n",
       "    <tr>\n",
       "      <th>6495</th>\n",
       "      <td>5.5</td>\n",
       "      <td>0.29</td>\n",
       "      <td>0.30</td>\n",
       "      <td>1.1</td>\n",
       "      <td>0.022</td>\n",
       "      <td>20.0</td>\n",
       "      <td>110.0</td>\n",
       "      <td>0.98869</td>\n",
       "      <td>3.34</td>\n",
       "      <td>0.38</td>\n",
       "      <td>12.8</td>\n",
       "      <td>7</td>\n",
       "      <td>white</td>\n",
       "    </tr>\n",
       "    <tr>\n",
       "      <th>6496</th>\n",
       "      <td>6.0</td>\n",
       "      <td>0.21</td>\n",
       "      <td>0.38</td>\n",
       "      <td>0.8</td>\n",
       "      <td>0.020</td>\n",
       "      <td>22.0</td>\n",
       "      <td>98.0</td>\n",
       "      <td>0.98941</td>\n",
       "      <td>3.26</td>\n",
       "      <td>0.32</td>\n",
       "      <td>11.8</td>\n",
       "      <td>6</td>\n",
       "      <td>white</td>\n",
       "    </tr>\n",
       "  </tbody>\n",
       "</table>\n",
       "<p>6497 rows × 13 columns</p>\n",
       "</div>"
      ],
      "text/plain": [
       "      fixed acidity  volatile acidity  citric acid  residual sugar  chlorides  \\\n",
       "0               7.4              0.70         0.00             1.9      0.076   \n",
       "1               7.8              0.88         0.00             2.6      0.098   \n",
       "2               7.8              0.76         0.04             2.3      0.092   \n",
       "3              11.2              0.28         0.56             1.9      0.075   \n",
       "4               7.4              0.70         0.00             1.9      0.076   \n",
       "...             ...               ...          ...             ...        ...   \n",
       "6492            6.2              0.21         0.29             1.6      0.039   \n",
       "6493            6.6              0.32         0.36             8.0      0.047   \n",
       "6494            6.5              0.24         0.19             1.2      0.041   \n",
       "6495            5.5              0.29         0.30             1.1      0.022   \n",
       "6496            6.0              0.21         0.38             0.8      0.020   \n",
       "\n",
       "      free sulfur dioxide  total sulfur dioxide  density    pH  sulphates  \\\n",
       "0                    11.0                  34.0  0.99780  3.51       0.56   \n",
       "1                    25.0                  67.0  0.99680  3.20       0.68   \n",
       "2                    15.0                  54.0  0.99700  3.26       0.65   \n",
       "3                    17.0                  60.0  0.99800  3.16       0.58   \n",
       "4                    11.0                  34.0  0.99780  3.51       0.56   \n",
       "...                   ...                   ...      ...   ...        ...   \n",
       "6492                 24.0                  92.0  0.99114  3.27       0.50   \n",
       "6493                 57.0                 168.0  0.99490  3.15       0.46   \n",
       "6494                 30.0                 111.0  0.99254  2.99       0.46   \n",
       "6495                 20.0                 110.0  0.98869  3.34       0.38   \n",
       "6496                 22.0                  98.0  0.98941  3.26       0.32   \n",
       "\n",
       "      alcohol  quality Wine Type  \n",
       "0         9.4        5       red  \n",
       "1         9.8        5       red  \n",
       "2         9.8        5       red  \n",
       "3         9.8        6       red  \n",
       "4         9.4        5       red  \n",
       "...       ...      ...       ...  \n",
       "6492     11.2        6     white  \n",
       "6493      9.6        5     white  \n",
       "6494      9.4        6     white  \n",
       "6495     12.8        7     white  \n",
       "6496     11.8        6     white  \n",
       "\n",
       "[6497 rows x 13 columns]"
      ]
     },
     "execution_count": 10,
     "metadata": {},
     "output_type": "execute_result"
    }
   ],
   "source": [
    "wine_quality=pd.concat([wine_quality_red,wine_quality_white],ignore_index=True)\n",
    "wine_quality"
   ]
  },
  {
   "cell_type": "code",
   "execution_count": 11,
   "id": "208732b9",
   "metadata": {},
   "outputs": [
    {
     "name": "stdout",
     "output_type": "stream",
     "text": [
      "<class 'pandas.core.frame.DataFrame'>\n",
      "RangeIndex: 6497 entries, 0 to 6496\n",
      "Data columns (total 13 columns):\n",
      " #   Column                Non-Null Count  Dtype  \n",
      "---  ------                --------------  -----  \n",
      " 0   fixed acidity         6497 non-null   float64\n",
      " 1   volatile acidity      6497 non-null   float64\n",
      " 2   citric acid           6497 non-null   float64\n",
      " 3   residual sugar        6497 non-null   float64\n",
      " 4   chlorides             6497 non-null   float64\n",
      " 5   free sulfur dioxide   6497 non-null   float64\n",
      " 6   total sulfur dioxide  6497 non-null   float64\n",
      " 7   density               6497 non-null   float64\n",
      " 8   pH                    6497 non-null   float64\n",
      " 9   sulphates             6497 non-null   float64\n",
      " 10  alcohol               6497 non-null   float64\n",
      " 11  quality               6497 non-null   int64  \n",
      " 12  Wine Type             6497 non-null   object \n",
      "dtypes: float64(11), int64(1), object(1)\n",
      "memory usage: 660.0+ KB\n"
     ]
    }
   ],
   "source": [
    "wine_quality.info()"
   ]
  },
  {
   "cell_type": "markdown",
   "id": "adc13136",
   "metadata": {},
   "source": [
    "Up to here, I united to dataset for wine quality which were seperated as white and red. To not confuse which wine it is, i added a column named 'Wine Type' and i will use this column as a target variable for classification. As for regression part, i will use Quality part."
   ]
  },
  {
   "cell_type": "markdown",
   "id": "e179a7e8",
   "metadata": {},
   "source": [
    "From here, I will turn Wine Type column into integer using labelencoder."
   ]
  },
  {
   "cell_type": "code",
   "execution_count": 12,
   "id": "098a5b9f",
   "metadata": {},
   "outputs": [],
   "source": [
    "from sklearn import preprocessing"
   ]
  },
  {
   "cell_type": "code",
   "execution_count": 13,
   "id": "bb483a79",
   "metadata": {},
   "outputs": [],
   "source": [
    "labelencoder=preprocessing.LabelEncoder()"
   ]
  },
  {
   "cell_type": "code",
   "execution_count": 14,
   "id": "cefa7759",
   "metadata": {},
   "outputs": [],
   "source": [
    "wine_quality['Wine Type']=labelencoder.fit_transform(wine_quality['Wine Type'])"
   ]
  },
  {
   "cell_type": "code",
   "execution_count": 15,
   "id": "c1f0a257",
   "metadata": {},
   "outputs": [
    {
     "data": {
      "text/html": [
       "<div>\n",
       "<style scoped>\n",
       "    .dataframe tbody tr th:only-of-type {\n",
       "        vertical-align: middle;\n",
       "    }\n",
       "\n",
       "    .dataframe tbody tr th {\n",
       "        vertical-align: top;\n",
       "    }\n",
       "\n",
       "    .dataframe thead th {\n",
       "        text-align: right;\n",
       "    }\n",
       "</style>\n",
       "<table border=\"1\" class=\"dataframe\">\n",
       "  <thead>\n",
       "    <tr style=\"text-align: right;\">\n",
       "      <th></th>\n",
       "      <th>fixed acidity</th>\n",
       "      <th>volatile acidity</th>\n",
       "      <th>citric acid</th>\n",
       "      <th>residual sugar</th>\n",
       "      <th>chlorides</th>\n",
       "      <th>free sulfur dioxide</th>\n",
       "      <th>total sulfur dioxide</th>\n",
       "      <th>density</th>\n",
       "      <th>pH</th>\n",
       "      <th>sulphates</th>\n",
       "      <th>alcohol</th>\n",
       "      <th>quality</th>\n",
       "      <th>Wine Type</th>\n",
       "    </tr>\n",
       "  </thead>\n",
       "  <tbody>\n",
       "    <tr>\n",
       "      <th>0</th>\n",
       "      <td>7.4</td>\n",
       "      <td>0.70</td>\n",
       "      <td>0.00</td>\n",
       "      <td>1.9</td>\n",
       "      <td>0.076</td>\n",
       "      <td>11.0</td>\n",
       "      <td>34.0</td>\n",
       "      <td>0.99780</td>\n",
       "      <td>3.51</td>\n",
       "      <td>0.56</td>\n",
       "      <td>9.4</td>\n",
       "      <td>5</td>\n",
       "      <td>0</td>\n",
       "    </tr>\n",
       "    <tr>\n",
       "      <th>1</th>\n",
       "      <td>7.8</td>\n",
       "      <td>0.88</td>\n",
       "      <td>0.00</td>\n",
       "      <td>2.6</td>\n",
       "      <td>0.098</td>\n",
       "      <td>25.0</td>\n",
       "      <td>67.0</td>\n",
       "      <td>0.99680</td>\n",
       "      <td>3.20</td>\n",
       "      <td>0.68</td>\n",
       "      <td>9.8</td>\n",
       "      <td>5</td>\n",
       "      <td>0</td>\n",
       "    </tr>\n",
       "    <tr>\n",
       "      <th>2</th>\n",
       "      <td>7.8</td>\n",
       "      <td>0.76</td>\n",
       "      <td>0.04</td>\n",
       "      <td>2.3</td>\n",
       "      <td>0.092</td>\n",
       "      <td>15.0</td>\n",
       "      <td>54.0</td>\n",
       "      <td>0.99700</td>\n",
       "      <td>3.26</td>\n",
       "      <td>0.65</td>\n",
       "      <td>9.8</td>\n",
       "      <td>5</td>\n",
       "      <td>0</td>\n",
       "    </tr>\n",
       "    <tr>\n",
       "      <th>3</th>\n",
       "      <td>11.2</td>\n",
       "      <td>0.28</td>\n",
       "      <td>0.56</td>\n",
       "      <td>1.9</td>\n",
       "      <td>0.075</td>\n",
       "      <td>17.0</td>\n",
       "      <td>60.0</td>\n",
       "      <td>0.99800</td>\n",
       "      <td>3.16</td>\n",
       "      <td>0.58</td>\n",
       "      <td>9.8</td>\n",
       "      <td>6</td>\n",
       "      <td>0</td>\n",
       "    </tr>\n",
       "    <tr>\n",
       "      <th>4</th>\n",
       "      <td>7.4</td>\n",
       "      <td>0.70</td>\n",
       "      <td>0.00</td>\n",
       "      <td>1.9</td>\n",
       "      <td>0.076</td>\n",
       "      <td>11.0</td>\n",
       "      <td>34.0</td>\n",
       "      <td>0.99780</td>\n",
       "      <td>3.51</td>\n",
       "      <td>0.56</td>\n",
       "      <td>9.4</td>\n",
       "      <td>5</td>\n",
       "      <td>0</td>\n",
       "    </tr>\n",
       "    <tr>\n",
       "      <th>...</th>\n",
       "      <td>...</td>\n",
       "      <td>...</td>\n",
       "      <td>...</td>\n",
       "      <td>...</td>\n",
       "      <td>...</td>\n",
       "      <td>...</td>\n",
       "      <td>...</td>\n",
       "      <td>...</td>\n",
       "      <td>...</td>\n",
       "      <td>...</td>\n",
       "      <td>...</td>\n",
       "      <td>...</td>\n",
       "      <td>...</td>\n",
       "    </tr>\n",
       "    <tr>\n",
       "      <th>6492</th>\n",
       "      <td>6.2</td>\n",
       "      <td>0.21</td>\n",
       "      <td>0.29</td>\n",
       "      <td>1.6</td>\n",
       "      <td>0.039</td>\n",
       "      <td>24.0</td>\n",
       "      <td>92.0</td>\n",
       "      <td>0.99114</td>\n",
       "      <td>3.27</td>\n",
       "      <td>0.50</td>\n",
       "      <td>11.2</td>\n",
       "      <td>6</td>\n",
       "      <td>1</td>\n",
       "    </tr>\n",
       "    <tr>\n",
       "      <th>6493</th>\n",
       "      <td>6.6</td>\n",
       "      <td>0.32</td>\n",
       "      <td>0.36</td>\n",
       "      <td>8.0</td>\n",
       "      <td>0.047</td>\n",
       "      <td>57.0</td>\n",
       "      <td>168.0</td>\n",
       "      <td>0.99490</td>\n",
       "      <td>3.15</td>\n",
       "      <td>0.46</td>\n",
       "      <td>9.6</td>\n",
       "      <td>5</td>\n",
       "      <td>1</td>\n",
       "    </tr>\n",
       "    <tr>\n",
       "      <th>6494</th>\n",
       "      <td>6.5</td>\n",
       "      <td>0.24</td>\n",
       "      <td>0.19</td>\n",
       "      <td>1.2</td>\n",
       "      <td>0.041</td>\n",
       "      <td>30.0</td>\n",
       "      <td>111.0</td>\n",
       "      <td>0.99254</td>\n",
       "      <td>2.99</td>\n",
       "      <td>0.46</td>\n",
       "      <td>9.4</td>\n",
       "      <td>6</td>\n",
       "      <td>1</td>\n",
       "    </tr>\n",
       "    <tr>\n",
       "      <th>6495</th>\n",
       "      <td>5.5</td>\n",
       "      <td>0.29</td>\n",
       "      <td>0.30</td>\n",
       "      <td>1.1</td>\n",
       "      <td>0.022</td>\n",
       "      <td>20.0</td>\n",
       "      <td>110.0</td>\n",
       "      <td>0.98869</td>\n",
       "      <td>3.34</td>\n",
       "      <td>0.38</td>\n",
       "      <td>12.8</td>\n",
       "      <td>7</td>\n",
       "      <td>1</td>\n",
       "    </tr>\n",
       "    <tr>\n",
       "      <th>6496</th>\n",
       "      <td>6.0</td>\n",
       "      <td>0.21</td>\n",
       "      <td>0.38</td>\n",
       "      <td>0.8</td>\n",
       "      <td>0.020</td>\n",
       "      <td>22.0</td>\n",
       "      <td>98.0</td>\n",
       "      <td>0.98941</td>\n",
       "      <td>3.26</td>\n",
       "      <td>0.32</td>\n",
       "      <td>11.8</td>\n",
       "      <td>6</td>\n",
       "      <td>1</td>\n",
       "    </tr>\n",
       "  </tbody>\n",
       "</table>\n",
       "<p>6497 rows × 13 columns</p>\n",
       "</div>"
      ],
      "text/plain": [
       "      fixed acidity  volatile acidity  citric acid  residual sugar  chlorides  \\\n",
       "0               7.4              0.70         0.00             1.9      0.076   \n",
       "1               7.8              0.88         0.00             2.6      0.098   \n",
       "2               7.8              0.76         0.04             2.3      0.092   \n",
       "3              11.2              0.28         0.56             1.9      0.075   \n",
       "4               7.4              0.70         0.00             1.9      0.076   \n",
       "...             ...               ...          ...             ...        ...   \n",
       "6492            6.2              0.21         0.29             1.6      0.039   \n",
       "6493            6.6              0.32         0.36             8.0      0.047   \n",
       "6494            6.5              0.24         0.19             1.2      0.041   \n",
       "6495            5.5              0.29         0.30             1.1      0.022   \n",
       "6496            6.0              0.21         0.38             0.8      0.020   \n",
       "\n",
       "      free sulfur dioxide  total sulfur dioxide  density    pH  sulphates  \\\n",
       "0                    11.0                  34.0  0.99780  3.51       0.56   \n",
       "1                    25.0                  67.0  0.99680  3.20       0.68   \n",
       "2                    15.0                  54.0  0.99700  3.26       0.65   \n",
       "3                    17.0                  60.0  0.99800  3.16       0.58   \n",
       "4                    11.0                  34.0  0.99780  3.51       0.56   \n",
       "...                   ...                   ...      ...   ...        ...   \n",
       "6492                 24.0                  92.0  0.99114  3.27       0.50   \n",
       "6493                 57.0                 168.0  0.99490  3.15       0.46   \n",
       "6494                 30.0                 111.0  0.99254  2.99       0.46   \n",
       "6495                 20.0                 110.0  0.98869  3.34       0.38   \n",
       "6496                 22.0                  98.0  0.98941  3.26       0.32   \n",
       "\n",
       "      alcohol  quality  Wine Type  \n",
       "0         9.4        5          0  \n",
       "1         9.8        5          0  \n",
       "2         9.8        5          0  \n",
       "3         9.8        6          0  \n",
       "4         9.4        5          0  \n",
       "...       ...      ...        ...  \n",
       "6492     11.2        6          1  \n",
       "6493      9.6        5          1  \n",
       "6494      9.4        6          1  \n",
       "6495     12.8        7          1  \n",
       "6496     11.8        6          1  \n",
       "\n",
       "[6497 rows x 13 columns]"
      ]
     },
     "execution_count": 15,
     "metadata": {},
     "output_type": "execute_result"
    }
   ],
   "source": [
    "wine_quality"
   ]
  },
  {
   "cell_type": "markdown",
   "id": "e06b52f5",
   "metadata": {},
   "source": [
    "Now let us look at the correlation matrix."
   ]
  },
  {
   "cell_type": "code",
   "execution_count": 16,
   "id": "b2f33cf3",
   "metadata": {},
   "outputs": [
    {
     "data": {
      "image/png": "[encoded data removed]",
      "text/plain": [
       "<Figure size 1080x792 with 2 Axes>"
      ]
     },
     "metadata": {
      "needs_background": "light"
     },
     "output_type": "display_data"
    }
   ],
   "source": [
    "plt.figure(figsize=(15,11))\n",
    "sns.heatmap(wine_quality.corr(), annot=True, fmt='.2f', annot_kws={\"size\": 15}, linewidths=.5, vmin=0, vmax=1, cmap='viridis')\n",
    "plt.title(\"Correlation Matrix (Wine Quality)\", fontdict=title_font)\n",
    "\n",
    "plt.show()"
   ]
  },
  {
   "cell_type": "markdown",
   "id": "da72b128",
   "metadata": {},
   "source": [
    "We can see from the heatmap that total sulfur dioxide is highly correlated with wine type and free sulfur dioxide. This might cause problem in our model so i will exlude that feature from dataset."
   ]
  },
  {
   "cell_type": "code",
   "execution_count": 17,
   "id": "d5dda28b",
   "metadata": {},
   "outputs": [],
   "source": [
    "wine_quality.drop(['total sulfur dioxide'],axis=1,inplace=True)"
   ]
  },
  {
   "cell_type": "markdown",
   "id": "038d89aa",
   "metadata": {},
   "source": [
    "So, we see that red=0 and white=1"
   ]
  },
  {
   "cell_type": "markdown",
   "id": "b2d1af57",
   "metadata": {},
   "source": [
    "First,let us look whether our data is imbalanced or not."
   ]
  },
  {
   "cell_type": "code",
   "execution_count": 18,
   "id": "2af35bda",
   "metadata": {},
   "outputs": [
    {
     "name": "stdout",
     "output_type": "stream",
     "text": [
      "White Wine ratio : %75.39\n",
      "Red Wine ratio     : %24.61\n"
     ]
    },
    {
     "data": {
      "image/png": "[encoded data removed]",
      "text/plain": [
       "<Figure size 432x288 with 1 Axes>"
      ]
     },
     "metadata": {
      "needs_background": "light"
     },
     "output_type": "display_data"
    }
   ],
   "source": [
    "sns.countplot(wine_quality['Wine Type'])\n",
    "\n",
    "print(\"White Wine ratio : %{:.2f}\".format(sum(wine_quality['Wine Type'])/len(wine_quality['Wine Type'])*100))\n",
    "print(\"Red Wine ratio     : %{:.2f}\".format((len(wine_quality['Wine Type'])-sum(wine_quality['Wine Type']))/len(wine_quality['Wine Type'])*100))"
   ]
  },
  {
   "cell_type": "markdown",
   "id": "14798035",
   "metadata": {},
   "source": [
    "So we can see that there is more data for white wine than red wine. Now let us overcome this issue."
   ]
  },
  {
   "cell_type": "markdown",
   "id": "0cddda4f",
   "metadata": {},
   "source": [
    "First let us look our model without any algorithm"
   ]
  },
  {
   "cell_type": "code",
   "execution_count": 19,
   "id": "ac21080b",
   "metadata": {},
   "outputs": [],
   "source": [
    "X_type=wine_quality.drop(['Wine Type','quality'],axis=1)\n",
    "y_type=wine_quality['Wine Type']"
   ]
  },
  {
   "cell_type": "markdown",
   "id": "46291813",
   "metadata": {},
   "source": [
    "Now here, i split my data as train and test and from now on, i will try to apply algortihms without changing the test data."
   ]
  },
  {
   "cell_type": "code",
   "execution_count": 20,
   "id": "03bdc67c",
   "metadata": {},
   "outputs": [],
   "source": [
    "X_train,X_test,y_train,y_test=train_test_split(X_type,y_type,test_size=0.2,random_state=0)"
   ]
  },
  {
   "cell_type": "code",
   "execution_count": 21,
   "id": "7f9e03e2",
   "metadata": {},
   "outputs": [
    {
     "name": "stdout",
     "output_type": "stream",
     "text": [
      "Number transactions X_train dataset:  (5197, 10)\n",
      "Number transactions y_train dataset:  (5197,)\n",
      "Number transactions X_test dataset:  (1300, 10)\n",
      "Number transactions y_test dataset:  (1300,)\n"
     ]
    }
   ],
   "source": [
    "print(\"Number transactions X_train dataset: \", X_train.shape)\n",
    "print(\"Number transactions y_train dataset: \", y_train.shape)\n",
    "print(\"Number transactions X_test dataset: \", X_test.shape)\n",
    "print(\"Number transactions y_test dataset: \", y_test.shape)"
   ]
  },
  {
   "cell_type": "code",
   "execution_count": 22,
   "id": "09c283ee",
   "metadata": {},
   "outputs": [
    {
     "name": "stdout",
     "output_type": "stream",
     "text": [
      "Accuracy : 0.96\n",
      "\n",
      "Train Dataset\n",
      "              precision    recall  f1-score   support\n",
      "\n",
      "           0       0.95      0.93      0.94      1288\n",
      "           1       0.98      0.98      0.98      3909\n",
      "\n",
      "    accuracy                           0.97      5197\n",
      "   macro avg       0.96      0.95      0.96      5197\n",
      "weighted avg       0.97      0.97      0.97      5197\n",
      "\n",
      "Test Dataset\n",
      "              precision    recall  f1-score   support\n",
      "\n",
      "           0       0.94      0.89      0.91       311\n",
      "           1       0.97      0.98      0.97       989\n",
      "\n",
      "    accuracy                           0.96      1300\n",
      "   macro avg       0.95      0.94      0.94      1300\n",
      "weighted avg       0.96      0.96      0.96      1300\n",
      "\n"
     ]
    }
   ],
   "source": [
    "lr = LogisticRegression()\n",
    "lr.fit(X_train, y_train)\n",
    "\n",
    "predictions_train = lr.predict(X_train)\n",
    "predictions_test = lr.predict(X_test)\n",
    "\n",
    "print(\"Accuracy : {}\\n\".format(lr.score(X_test, y_test)))\n",
    "print(\"Train Dataset\")\n",
    "print(classification_report(y_train, predictions_train))\n",
    "print(\"Test Dataset\")\n",
    "print(classification_report(y_test, predictions_test))"
   ]
  },
  {
   "cell_type": "markdown",
   "id": "ca7c611c",
   "metadata": {},
   "source": [
    "As expected, results are a little bit higher for white wine."
   ]
  },
  {
   "cell_type": "markdown",
   "id": "14813889",
   "metadata": {},
   "source": [
    "First let us try resampling algorithms."
   ]
  },
  {
   "cell_type": "code",
   "execution_count": 23,
   "id": "4df3ee51",
   "metadata": {},
   "outputs": [],
   "source": [
    "from sklearn.utils import resample"
   ]
  },
  {
   "cell_type": "code",
   "execution_count": 24,
   "id": "c5fcf529",
   "metadata": {},
   "outputs": [
    {
     "data": {
      "text/plain": [
       "0    4898\n",
       "1    4898\n",
       "Name: Wine Type, dtype: int64"
      ]
     },
     "execution_count": 24,
     "metadata": {},
     "output_type": "execute_result"
    }
   ],
   "source": [
    "white_wine=wine_quality[wine_quality['Wine Type']==1]\n",
    "red_wine=wine_quality[wine_quality['Wine Type']==0]\n",
    "\n",
    "red_wine_upsampled = resample(red_wine,\n",
    "                                         replace = True,\n",
    "                                         n_samples = len(white_wine),\n",
    "                                         random_state = 111)\n",
    "\n",
    "upsampled_df = pd.concat([white_wine, red_wine_upsampled])\n",
    "upsampled_df['Wine Type'].value_counts()"
   ]
  },
  {
   "cell_type": "code",
   "execution_count": 25,
   "id": "215c6c17",
   "metadata": {},
   "outputs": [
    {
     "name": "stdout",
     "output_type": "stream",
     "text": [
      "Accuracy : 0.9615384615384616\n",
      "\n",
      "Train Dataset\n",
      "              precision    recall  f1-score   support\n",
      "\n",
      "           0       0.97      0.97      0.97      3909\n",
      "           1       0.97      0.97      0.97      3927\n",
      "\n",
      "    accuracy                           0.97      7836\n",
      "   macro avg       0.97      0.97      0.97      7836\n",
      "weighted avg       0.97      0.97      0.97      7836\n",
      "\n",
      "Test Dataset\n",
      "              precision    recall  f1-score   support\n",
      "\n",
      "           0       0.88      0.96      0.92       311\n",
      "           1       0.99      0.96      0.97       989\n",
      "\n",
      "    accuracy                           0.96      1300\n",
      "   macro avg       0.94      0.96      0.95      1300\n",
      "weighted avg       0.96      0.96      0.96      1300\n",
      "\n"
     ]
    }
   ],
   "source": [
    "X_upsampled = upsampled_df.drop(['Wine Type','quality'], axis=1)\n",
    "y_upsampled = upsampled_df['Wine Type']\n",
    "X_train_up,X_test_up,y_train_up,y_test_up=train_test_split(X_upsampled,y_upsampled,test_size=0.2,random_state=0)\n",
    "lr.fit(X_train_up, y_train_up)\n",
    "predictions_train_up = lr.predict(X_train_up)\n",
    "predictions_test_up = lr.predict(X_test)\n",
    "print(\"Accuracy : {}\\n\".format(lr.score(X_test, y_test)))\n",
    "print(\"Train Dataset\")\n",
    "print(classification_report(y_train_up, predictions_train_up))\n",
    "print(\"Test Dataset\")\n",
    "print(classification_report(y_test, predictions_test_up))"
   ]
  },
  {
   "cell_type": "code",
   "execution_count": 26,
   "id": "62969de7",
   "metadata": {},
   "outputs": [
    {
     "data": {
      "text/plain": [
       "0    1599\n",
       "1    1599\n",
       "Name: Wine Type, dtype: int64"
      ]
     },
     "execution_count": 26,
     "metadata": {},
     "output_type": "execute_result"
    }
   ],
   "source": [
    "red_wine_downsampled = resample(white_wine,\n",
    "                                         replace = True,\n",
    "                                         n_samples = len(red_wine),\n",
    "                                         random_state = 111)\n",
    "\n",
    "downsampled_df = pd.concat([red_wine, red_wine_downsampled])\n",
    "downsampled_df['Wine Type'].value_counts()"
   ]
  },
  {
   "cell_type": "code",
   "execution_count": 27,
   "id": "1bc6a592",
   "metadata": {},
   "outputs": [
    {
     "name": "stdout",
     "output_type": "stream",
     "text": [
      "Accuracy : 0.9623076923076923\n",
      "\n",
      "Train Dataset\n",
      "              precision    recall  f1-score   support\n",
      "\n",
      "           0       0.96      0.97      0.96      1276\n",
      "           1       0.97      0.96      0.96      1282\n",
      "\n",
      "    accuracy                           0.96      2558\n",
      "   macro avg       0.96      0.96      0.96      2558\n",
      "weighted avg       0.96      0.96      0.96      2558\n",
      "\n",
      "Test Dataset\n",
      "              precision    recall  f1-score   support\n",
      "\n",
      "           0       0.89      0.96      0.92       311\n",
      "           1       0.99      0.96      0.97       989\n",
      "\n",
      "    accuracy                           0.96      1300\n",
      "   macro avg       0.94      0.96      0.95      1300\n",
      "weighted avg       0.96      0.96      0.96      1300\n",
      "\n"
     ]
    }
   ],
   "source": [
    "X_downsampled = downsampled_df.drop(['Wine Type','quality'], axis=1)\n",
    "y_downsampled = downsampled_df['Wine Type']\n",
    "X_train_down,X_test_down,y_train_down,y_test_down=train_test_split(X_downsampled,y_downsampled,test_size=0.2,random_state=0)\n",
    "lr.fit(X_train_down, y_train_down)\n",
    "predictions_train_down = lr.predict(X_train_down)\n",
    "predictions_test_down = lr.predict(X_test)\n",
    "print(\"Accuracy : {}\\n\".format(lr.score(X_test, y_test)))\n",
    "print(\"Train Dataset\")\n",
    "print(classification_report(y_train_down, predictions_train_down))\n",
    "print(\"Test Dataset\")\n",
    "print(classification_report(y_test, predictions_test_down))"
   ]
  },
  {
   "cell_type": "markdown",
   "id": "db9d576e",
   "metadata": {},
   "source": [
    "So far, they look a little bit suspicious so i will try other algorithms too."
   ]
  },
  {
   "cell_type": "markdown",
   "id": "0bffe2e3",
   "metadata": {},
   "source": [
    "First, let us try SMOTE"
   ]
  },
  {
   "cell_type": "code",
   "execution_count": 28,
   "id": "cdfec03d",
   "metadata": {},
   "outputs": [],
   "source": [
    "from imblearn.over_sampling import SMOTE\n",
    "\n",
    "sm = SMOTE(random_state=27, sampling_strategy=1.0)\n",
    "X_train_smote, y_train_smote = sm.fit_resample(X_train, y_train)"
   ]
  },
  {
   "cell_type": "code",
   "execution_count": 29,
   "id": "84364bcb",
   "metadata": {},
   "outputs": [
    {
     "name": "stdout",
     "output_type": "stream",
     "text": [
      "Before OverSampling, counts of label '1': 3909\n",
      "Before OverSampling, counts of label '0': 1288 \n",
      "\n",
      "After OverSampling, the shape of train_X: (7818, 10)\n",
      "After OverSampling, the shape of train_y: (7818,) \n",
      "\n",
      "After OverSampling, counts of label '1': 3909\n",
      "After OverSampling, counts of label '0': 3909\n"
     ]
    }
   ],
   "source": [
    "print(\"Before OverSampling, counts of label '1': {}\".format(sum(y_train == 1)))\n",
    "print(\"Before OverSampling, counts of label '0': {} \\n\".format(sum(y_train == 0)))\n",
    "print('After OverSampling, the shape of train_X: {}'.format(X_train_smote.shape))\n",
    "print('After OverSampling, the shape of train_y: {} \\n'.format(y_train_smote.shape))\n",
    "  \n",
    "print(\"After OverSampling, counts of label '1': {}\".format(sum(y_train_smote == 1)))\n",
    "print(\"After OverSampling, counts of label '0': {}\".format(sum(y_train_smote == 0)))"
   ]
  },
  {
   "cell_type": "code",
   "execution_count": 30,
   "id": "656c8556",
   "metadata": {},
   "outputs": [
    {
     "name": "stdout",
     "output_type": "stream",
     "text": [
      "Accuracy : 0.963076923076923\n",
      "\n",
      "Train Dataset\n",
      "              precision    recall  f1-score   support\n",
      "\n",
      "           0       0.97      0.98      0.97      3909\n",
      "           1       0.98      0.97      0.97      3909\n",
      "\n",
      "    accuracy                           0.97      7818\n",
      "   macro avg       0.97      0.97      0.97      7818\n",
      "weighted avg       0.97      0.97      0.97      7818\n",
      "\n",
      "Test Dataset\n",
      "              precision    recall  f1-score   support\n",
      "\n",
      "           0       0.89      0.96      0.93       311\n",
      "           1       0.99      0.96      0.98       989\n",
      "\n",
      "    accuracy                           0.96      1300\n",
      "   macro avg       0.94      0.96      0.95      1300\n",
      "weighted avg       0.96      0.96      0.96      1300\n",
      "\n"
     ]
    }
   ],
   "source": [
    "lr.fit(X_train_smote, y_train_smote)\n",
    "predictions_train_smote = lr.predict(X_train_smote)\n",
    "predictions_test_smote = lr.predict(X_test)\n",
    "print(\"Accuracy : {}\\n\".format(lr.score(X_test, y_test)))\n",
    "print(\"Train Dataset\")\n",
    "print(classification_report(y_train_smote, predictions_train_smote))\n",
    "print(\"Test Dataset\")\n",
    "print(classification_report(y_test, predictions_test_smote))"
   ]
  },
  {
   "cell_type": "markdown",
   "id": "3dd24b7f",
   "metadata": {},
   "source": [
    "Now finally let us look as ADASYN"
   ]
  },
  {
   "cell_type": "code",
   "execution_count": 31,
   "id": "d65f001e",
   "metadata": {},
   "outputs": [],
   "source": [
    "from imblearn.over_sampling import ADASYN"
   ]
  },
  {
   "cell_type": "code",
   "execution_count": 32,
   "id": "5dac4b05",
   "metadata": {},
   "outputs": [],
   "source": [
    "ad = ADASYN()\n",
    "X_train_adasyn, y_train_adasyn = ad.fit_resample(X_train, y_train)"
   ]
  },
  {
   "cell_type": "code",
   "execution_count": 33,
   "id": "54cfc055",
   "metadata": {},
   "outputs": [
    {
     "name": "stdout",
     "output_type": "stream",
     "text": [
      "Accuracy : 0.953076923076923\n",
      "\n",
      "Train Dataset\n",
      "              precision    recall  f1-score   support\n",
      "\n",
      "           0       0.95      0.96      0.96      4000\n",
      "           1       0.96      0.95      0.96      3909\n",
      "\n",
      "    accuracy                           0.96      7909\n",
      "   macro avg       0.96      0.96      0.96      7909\n",
      "weighted avg       0.96      0.96      0.96      7909\n",
      "\n",
      "Test Dataset\n",
      "              precision    recall  f1-score   support\n",
      "\n",
      "           0       0.85      0.98      0.91       311\n",
      "           1       0.99      0.95      0.97       989\n",
      "\n",
      "    accuracy                           0.95      1300\n",
      "   macro avg       0.92      0.96      0.94      1300\n",
      "weighted avg       0.96      0.95      0.95      1300\n",
      "\n"
     ]
    }
   ],
   "source": [
    "lr.fit(X_train_adasyn, y_train_adasyn)\n",
    "predictions_train_adasyn = lr.predict(X_train_adasyn)\n",
    "predictions_test_adasyn = lr.predict(X_test)\n",
    "print(\"Accuracy : {}\\n\".format(lr.score(X_test, y_test)))\n",
    "print(\"Train Dataset\")\n",
    "print(classification_report(y_train_adasyn, predictions_train_adasyn))\n",
    "print(\"Test Dataset\")\n",
    "print(classification_report(y_test, predictions_test_adasyn))"
   ]
  },
  {
   "cell_type": "markdown",
   "id": "19d2f349",
   "metadata": {},
   "source": [
    "When i look at the results, I think that SMOTE algorithm works best for this dataset and I decided to use SMOTE."
   ]
  },
  {
   "cell_type": "code",
   "execution_count": 34,
   "id": "91f6c9f0",
   "metadata": {},
   "outputs": [],
   "source": [
    "X_train=X_train_smote\n",
    "y_train=y_train_smote"
   ]
  },
  {
   "cell_type": "markdown",
   "id": "0d451482",
   "metadata": {},
   "source": [
    "After here, i wanted to apply PCA just to chech whether dimension reduction make any difference in our model or not."
   ]
  },
  {
   "cell_type": "code",
   "execution_count": 35,
   "id": "74c10c02",
   "metadata": {},
   "outputs": [],
   "source": [
    "from sklearn.decomposition import PCA\n",
    "from sklearn.preprocessing import StandardScaler"
   ]
  },
  {
   "cell_type": "code",
   "execution_count": 36,
   "id": "aa9221be",
   "metadata": {},
   "outputs": [
    {
     "data": {
      "text/plain": [
       "10"
      ]
     },
     "execution_count": 36,
     "metadata": {},
     "output_type": "execute_result"
    }
   ],
   "source": [
    "len(X_type.columns)"
   ]
  },
  {
   "cell_type": "code",
   "execution_count": 37,
   "id": "cd0e4a49",
   "metadata": {},
   "outputs": [],
   "source": [
    "X_values=X_type.values"
   ]
  },
  {
   "cell_type": "code",
   "execution_count": 38,
   "id": "988cf41d",
   "metadata": {},
   "outputs": [],
   "source": [
    "X_values = StandardScaler().fit_transform(X_values)\n",
    "pca = PCA(n_components=10)\n",
    "principalComponents=pca.fit_transform(X_values)"
   ]
  },
  {
   "cell_type": "code",
   "execution_count": 39,
   "id": "186d94d9",
   "metadata": {},
   "outputs": [
    {
     "name": "stdout",
     "output_type": "stream",
     "text": [
      "[0.25473165 0.23350911 0.15323139 0.09289836 0.07032378 0.05946849\n",
      " 0.05164429 0.04906158 0.03172762 0.00340372]\n",
      "[25.47 48.82 64.14 73.43 80.46 86.41 91.57 96.48 99.65 99.99]\n"
     ]
    }
   ],
   "source": [
    "exp_var= pca.explained_variance_ratio_\n",
    "cumsum_var=np.cumsum(np.round(pca.explained_variance_ratio_, decimals=4)*100)\n",
    "print(exp_var)\n",
    "print(cumsum_var)"
   ]
  },
  {
   "cell_type": "code",
   "execution_count": 40,
   "id": "e3b19c61",
   "metadata": {},
   "outputs": [
    {
     "data": {
      "text/plain": [
       "Text(0, 0.5, '% of Variance Explained')"
      ]
     },
     "execution_count": 40,
     "metadata": {},
     "output_type": "execute_result"
    },
    {
     "data": {
      "image/png": "[encoded data removed]",
      "text/plain": [
       "<Figure size 432x288 with 1 Axes>"
      ]
     },
     "metadata": {
      "needs_background": "light"
     },
     "output_type": "display_data"
    }
   ],
   "source": [
    "plt.plot(cumsum_var)\n",
    "plt.xlabel('Number of Components')\n",
    "plt.ylabel('% of Variance Explained')"
   ]
  },
  {
   "cell_type": "markdown",
   "id": "9fb7d161",
   "metadata": {},
   "source": [
    "After the 8th component there is a breaking point i guess, so i look at the first 8 component."
   ]
  },
  {
   "cell_type": "code",
   "execution_count": 41,
   "id": "95f5a32c",
   "metadata": {},
   "outputs": [],
   "source": [
    "X_values = StandardScaler().fit_transform(X_values)\n",
    "pca = PCA(n_components=8)\n",
    "principalComponents=pca.fit_transform(X_values)"
   ]
  },
  {
   "cell_type": "code",
   "execution_count": 42,
   "id": "ea6842a6",
   "metadata": {},
   "outputs": [
    {
     "name": "stdout",
     "output_type": "stream",
     "text": [
      "[0.25473165 0.23350911 0.15323139 0.09289836 0.07032378 0.05946849\n",
      " 0.05164429 0.04906158]\n",
      "[25.47 48.82 64.14 73.43 80.46 86.41 91.57 96.48]\n"
     ]
    }
   ],
   "source": [
    "exp_var= pca.explained_variance_ratio_\n",
    "cumsum_var=np.cumsum(np.round(pca.explained_variance_ratio_, decimals=4)*100)\n",
    "print(exp_var)\n",
    "print(cumsum_var)"
   ]
  },
  {
   "cell_type": "code",
   "execution_count": 43,
   "id": "d9e26bae",
   "metadata": {},
   "outputs": [
    {
     "data": {
      "text/plain": [
       "Text(0, 0.5, '% of Variance Explained')"
      ]
     },
     "execution_count": 43,
     "metadata": {},
     "output_type": "execute_result"
    },
    {
     "data": {
      "image/png": "[encoded data removed]",
      "text/plain": [
       "<Figure size 432x288 with 1 Axes>"
      ]
     },
     "metadata": {
      "needs_background": "light"
     },
     "output_type": "display_data"
    }
   ],
   "source": [
    "plt.plot(cumsum_var)\n",
    "plt.xlabel('Number of Components')\n",
    "plt.ylabel('% of Variance Explained')"
   ]
  },
  {
   "cell_type": "code",
   "execution_count": 44,
   "id": "f9ba27a7",
   "metadata": {},
   "outputs": [
    {
     "data": {
      "image/png": "[encoded data removed]",
      "text/plain": [
       "<Figure size 432x288 with 1 Axes>"
      ]
     },
     "metadata": {
      "needs_background": "light"
     },
     "output_type": "display_data"
    }
   ],
   "source": [
    "plt.plot(pca.explained_variance_ratio_)\n",
    "plt.xlabel('number of components')\n",
    "plt.ylabel('cumulative explained variance')\n",
    "plt.show()"
   ]
  },
  {
   "cell_type": "code",
   "execution_count": 45,
   "id": "2ae1ce20",
   "metadata": {},
   "outputs": [
    {
     "data": {
      "image/png": "[encoded data removed]",
      "text/plain": [
       "<Figure size 432x288 with 1 Axes>"
      ]
     },
     "metadata": {
      "needs_background": "light"
     },
     "output_type": "display_data"
    }
   ],
   "source": [
    "percent_variance = np.round(pca.explained_variance_ratio_* 100, decimals =2)\n",
    "columns = ['PC1', 'PC2','PC3','PC4','PC5','PC6','PC7','PC8']\n",
    "plt.bar(x= range(1,9), height=percent_variance, tick_label=columns)\n",
    "plt.ylabel('Percentate of Variance Explained')\n",
    "plt.xlabel('Principal Component')\n",
    "plt.title('PCA Scree Plot')\n",
    "plt.show()"
   ]
  },
  {
   "cell_type": "code",
   "execution_count": 46,
   "id": "82300368",
   "metadata": {},
   "outputs": [],
   "source": [
    "X = pd.DataFrame(X_values, columns=X_type.columns)"
   ]
  },
  {
   "cell_type": "code",
   "execution_count": 47,
   "id": "ee88ab7c",
   "metadata": {},
   "outputs": [],
   "source": [
    "def myplot(score,coeff,labels=None):\n",
    "    xs = score[:,0]\n",
    "    ys = score[:,1]\n",
    "    n = coeff.shape[0]\n",
    "    scalex = 1.0/(xs.max() - xs.min())\n",
    "    scaley = 1.0/(ys.max() - ys.min())\n",
    "    fig = plt.figure(figsize=(12,6), dpi=100)\n",
    "    plt.scatter(xs * scalex,ys * scaley,s=5)\n",
    "    for i in range(n):\n",
    "        plt.arrow(0, 0, coeff[i,0], coeff[i,1],color = 'r',alpha = 0.5)\n",
    "        if labels is None:\n",
    "            plt.text(coeff[i,0]* 1.15, coeff[i,1] * 1.15, \"Var\"+str(i+1), color = 'green', ha = 'center', va = 'center')\n",
    "        else:\n",
    "            plt.text(coeff[i,0]* 1.15, coeff[i,1] * 1.15, labels[i], color = 'g', ha = 'center', va = 'center')\n",
    " \n",
    "    plt.xlabel(\"PC{}\".format(1))\n",
    "    plt.ylabel(\"PC{}\".format(2))\n",
    "    plt.grid()"
   ]
  },
  {
   "cell_type": "code",
   "execution_count": 48,
   "id": "09acbfce",
   "metadata": {},
   "outputs": [
    {
     "data": {
      "image/png": "[encoded data removed]",
      "text/plain": [
       "<Figure size 1200x600 with 1 Axes>"
      ]
     },
     "metadata": {
      "needs_background": "light"
     },
     "output_type": "display_data"
    }
   ],
   "source": [
    "myplot(np.array(X)[:,0:2],np.transpose(pca.components_[0:2, :]),list(X.columns))\n",
    "plt.show()"
   ]
  },
  {
   "cell_type": "markdown",
   "id": "15dcc694",
   "metadata": {},
   "source": [
    "I tried to apply PCA to our model and I decided not to reduce dimension since I don't have a large dimension. And i also tried to exlude some features but our stats before didn't seem to change so i gave up on PCA for this dataset."
   ]
  },
  {
   "cell_type": "markdown",
   "id": "da6e355d",
   "metadata": {},
   "source": [
    "Now its time for regression part."
   ]
  },
  {
   "cell_type": "markdown",
   "id": "142bcfb4",
   "metadata": {},
   "source": [
    "For regression part, our target variable type is not continuous, it is discreate. I search online that there are 4 types of regression:\n",
    "\n",
    "1)Linear regression(for continuous type)\n",
    "\n",
    "2)Logistic Regression (binary type)\n",
    "\n",
    "3)Poisson regression (count/rate)\n",
    "\n",
    "4)Survival analysis(time to event)\n",
    "\n",
    "So now, i will try to apply Poisson regression."
   ]
  },
  {
   "cell_type": "markdown",
   "id": "fa7f75a9",
   "metadata": {},
   "source": [
    "Before we go and appy Poisson, let us look at the distribution of 'quality.'"
   ]
  },
  {
   "cell_type": "code",
   "execution_count": 49,
   "id": "113ea40f",
   "metadata": {},
   "outputs": [
    {
     "data": {
      "text/plain": [
       "array([5, 6, 7, 4, 8, 3, 9], dtype=int64)"
      ]
     },
     "execution_count": 49,
     "metadata": {},
     "output_type": "execute_result"
    }
   ],
   "source": [
    "wine_quality.quality.unique()"
   ]
  },
  {
   "cell_type": "code",
   "execution_count": 50,
   "id": "8cd43d8a",
   "metadata": {},
   "outputs": [
    {
     "name": "stdout",
     "output_type": "stream",
     "text": [
      "Rated 3 : %0.46\n",
      "Rated 4 : %3.32\n",
      "Rated 5 : %32.91\n",
      "Rated 6 : %43.65\n",
      "Rated 7 : %16.61\n",
      "Rated 8 : %2.97\n",
      "Rated 9 : %0.08\n"
     ]
    },
    {
     "data": {
      "image/png": "[encoded data removed]",
      "text/plain": [
       "<Figure size 432x288 with 1 Axes>"
      ]
     },
     "metadata": {
      "needs_background": "light"
     },
     "output_type": "display_data"
    }
   ],
   "source": [
    "sns.countplot(wine_quality['quality'])\n",
    "\n",
    "print(\"Rated 3 : %{:.2f}\".format(sum(wine_quality['quality']==3)/len(wine_quality.quality)*100))\n",
    "print(\"Rated 4 : %{:.2f}\".format(sum(wine_quality['quality']==4)/len(wine_quality.quality)*100))\n",
    "print(\"Rated 5 : %{:.2f}\".format(sum(wine_quality['quality']==5)/len(wine_quality.quality)*100))\n",
    "print(\"Rated 6 : %{:.2f}\".format(sum(wine_quality['quality']==6)/len(wine_quality.quality)*100))\n",
    "print(\"Rated 7 : %{:.2f}\".format(sum(wine_quality['quality']==7)/len(wine_quality.quality)*100))\n",
    "print(\"Rated 8 : %{:.2f}\".format(sum(wine_quality['quality']==8)/len(wine_quality.quality)*100))\n",
    "print(\"Rated 9 : %{:.2f}\".format(sum(wine_quality['quality']==9)/len(wine_quality.quality)*100))"
   ]
  },
  {
   "cell_type": "markdown",
   "id": "59a7479b",
   "metadata": {},
   "source": [
    "We can see that our data is imbalanced so when we create our model, it will mainly make predictions around 5-7. Let us observe that."
   ]
  },
  {
   "cell_type": "code",
   "execution_count": 51,
   "id": "57f1a402",
   "metadata": {},
   "outputs": [],
   "source": [
    "y_quality=wine_quality['quality']\n",
    "X_quality=wine_quality.drop(['quality'],axis=1)"
   ]
  },
  {
   "cell_type": "code",
   "execution_count": 52,
   "id": "84f3e461",
   "metadata": {},
   "outputs": [],
   "source": [
    "from patsy import dmatrices\n",
    "import statsmodels.api as sms"
   ]
  },
  {
   "cell_type": "code",
   "execution_count": 53,
   "id": "0edd3ca0",
   "metadata": {},
   "outputs": [],
   "source": [
    "X_train_quality,X_test_quality,y_train_quality,y_test_quality=train_test_split(X_quality,y_quality,test_size=0.2,random_state=0)"
   ]
  },
  {
   "cell_type": "code",
   "execution_count": 54,
   "id": "3c013490",
   "metadata": {},
   "outputs": [],
   "source": [
    "poisson_training_results = sms.GLM(y_train_quality, X_train_quality, family=sms.families.Poisson()).fit()"
   ]
  },
  {
   "cell_type": "code",
   "execution_count": 55,
   "id": "e53be978",
   "metadata": {},
   "outputs": [
    {
     "data": {
      "text/html": [
       "<table class=\"simpletable\">\n",
       "<caption>Generalized Linear Model Regression Results</caption>\n",
       "<tr>\n",
       "  <th>Dep. Variable:</th>        <td>quality</td>     <th>  No. Observations:  </th>  <td>  5197</td> \n",
       "</tr>\n",
       "<tr>\n",
       "  <th>Model:</th>                  <td>GLM</td>       <th>  Df Residuals:      </th>  <td>  5186</td> \n",
       "</tr>\n",
       "<tr>\n",
       "  <th>Model Family:</th>         <td>Poisson</td>     <th>  Df Model:          </th>  <td>    10</td> \n",
       "</tr>\n",
       "<tr>\n",
       "  <th>Link Function:</th>          <td>log</td>       <th>  Scale:             </th> <td>  1.0000</td>\n",
       "</tr>\n",
       "<tr>\n",
       "  <th>Method:</th>                <td>IRLS</td>       <th>  Log-Likelihood:    </th> <td> -9640.8</td>\n",
       "</tr>\n",
       "<tr>\n",
       "  <th>Date:</th>            <td>Wed, 16 Feb 2022</td> <th>  Deviance:          </th> <td>  485.56</td>\n",
       "</tr>\n",
       "<tr>\n",
       "  <th>Time:</th>                <td>21:49:31</td>     <th>  Pearson chi2:      </th>  <td>  481.</td> \n",
       "</tr>\n",
       "<tr>\n",
       "  <th>No. Iterations:</th>          <td>4</td>        <th>                     </th>     <td> </td>   \n",
       "</tr>\n",
       "<tr>\n",
       "  <th>Covariance Type:</th>     <td>nonrobust</td>    <th>                     </th>     <td> </td>   \n",
       "</tr>\n",
       "</table>\n",
       "<table class=\"simpletable\">\n",
       "<tr>\n",
       "           <td></td>              <th>coef</th>     <th>std err</th>      <th>z</th>      <th>P>|z|</th>  <th>[0.025</th>    <th>0.975]</th>  \n",
       "</tr>\n",
       "<tr>\n",
       "  <th>fixed acidity</th>       <td>    0.0001</td> <td>    0.007</td> <td>    0.019</td> <td> 0.985</td> <td>   -0.013</td> <td>    0.013</td>\n",
       "</tr>\n",
       "<tr>\n",
       "  <th>volatile acidity</th>    <td>   -0.2898</td> <td>    0.051</td> <td>   -5.649</td> <td> 0.000</td> <td>   -0.390</td> <td>   -0.189</td>\n",
       "</tr>\n",
       "<tr>\n",
       "  <th>citric acid</th>         <td>   -0.0292</td> <td>    0.051</td> <td>   -0.574</td> <td> 0.566</td> <td>   -0.129</td> <td>    0.071</td>\n",
       "</tr>\n",
       "<tr>\n",
       "  <th>residual sugar</th>      <td>    0.0034</td> <td>    0.002</td> <td>    2.217</td> <td> 0.027</td> <td>    0.000</td> <td>    0.006</td>\n",
       "</tr>\n",
       "<tr>\n",
       "  <th>chlorides</th>           <td>   -0.2127</td> <td>    0.218</td> <td>   -0.977</td> <td> 0.329</td> <td>   -0.639</td> <td>    0.214</td>\n",
       "</tr>\n",
       "<tr>\n",
       "  <th>free sulfur dioxide</th> <td>    0.0005</td> <td>    0.000</td> <td>    1.273</td> <td> 0.203</td> <td>   -0.000</td> <td>    0.001</td>\n",
       "</tr>\n",
       "<tr>\n",
       "  <th>density</th>             <td>    1.1354</td> <td>    0.199</td> <td>    5.716</td> <td> 0.000</td> <td>    0.746</td> <td>    1.525</td>\n",
       "</tr>\n",
       "<tr>\n",
       "  <th>pH</th>                  <td>    0.0189</td> <td>    0.046</td> <td>    0.412</td> <td> 0.681</td> <td>   -0.071</td> <td>    0.109</td>\n",
       "</tr>\n",
       "<tr>\n",
       "  <th>sulphates</th>           <td>    0.0912</td> <td>    0.045</td> <td>    2.013</td> <td> 0.044</td> <td>    0.002</td> <td>    0.180</td>\n",
       "</tr>\n",
       "<tr>\n",
       "  <th>alcohol</th>             <td>    0.0608</td> <td>    0.005</td> <td>   11.059</td> <td> 0.000</td> <td>    0.050</td> <td>    0.072</td>\n",
       "</tr>\n",
       "<tr>\n",
       "  <th>Wine Type</th>           <td>   -0.0433</td> <td>    0.026</td> <td>   -1.694</td> <td> 0.090</td> <td>   -0.093</td> <td>    0.007</td>\n",
       "</tr>\n",
       "</table>"
      ],
      "text/plain": [
       "<class 'statsmodels.iolib.summary.Summary'>\n",
       "\"\"\"\n",
       "                 Generalized Linear Model Regression Results                  \n",
       "==============================================================================\n",
       "Dep. Variable:                quality   No. Observations:                 5197\n",
       "Model:                            GLM   Df Residuals:                     5186\n",
       "Model Family:                 Poisson   Df Model:                           10\n",
       "Link Function:                    log   Scale:                          1.0000\n",
       "Method:                          IRLS   Log-Likelihood:                -9640.8\n",
       "Date:                Wed, 16 Feb 2022   Deviance:                       485.56\n",
       "Time:                        21:49:31   Pearson chi2:                     481.\n",
       "No. Iterations:                     4                                         \n",
       "Covariance Type:            nonrobust                                         \n",
       "=======================================================================================\n",
       "                          coef    std err          z      P>|z|      [0.025      0.975]\n",
       "---------------------------------------------------------------------------------------\n",
       "fixed acidity           0.0001      0.007      0.019      0.985      -0.013       0.013\n",
       "volatile acidity       -0.2898      0.051     -5.649      0.000      -0.390      -0.189\n",
       "citric acid            -0.0292      0.051     -0.574      0.566      -0.129       0.071\n",
       "residual sugar          0.0034      0.002      2.217      0.027       0.000       0.006\n",
       "chlorides              -0.2127      0.218     -0.977      0.329      -0.639       0.214\n",
       "free sulfur dioxide     0.0005      0.000      1.273      0.203      -0.000       0.001\n",
       "density                 1.1354      0.199      5.716      0.000       0.746       1.525\n",
       "pH                      0.0189      0.046      0.412      0.681      -0.071       0.109\n",
       "sulphates               0.0912      0.045      2.013      0.044       0.002       0.180\n",
       "alcohol                 0.0608      0.005     11.059      0.000       0.050       0.072\n",
       "Wine Type              -0.0433      0.026     -1.694      0.090      -0.093       0.007\n",
       "=======================================================================================\n",
       "\"\"\""
      ]
     },
     "metadata": {},
     "output_type": "display_data"
    }
   ],
   "source": [
    "display(poisson_training_results.summary())"
   ]
  },
  {
   "cell_type": "code",
   "execution_count": 56,
   "id": "405844ff",
   "metadata": {},
   "outputs": [
    {
     "data": {
      "text/html": [
       "<div>\n",
       "<style scoped>\n",
       "    .dataframe tbody tr th:only-of-type {\n",
       "        vertical-align: middle;\n",
       "    }\n",
       "\n",
       "    .dataframe tbody tr th {\n",
       "        vertical-align: top;\n",
       "    }\n",
       "\n",
       "    .dataframe thead th {\n",
       "        text-align: right;\n",
       "    }\n",
       "</style>\n",
       "<table border=\"1\" class=\"dataframe\">\n",
       "  <thead>\n",
       "    <tr style=\"text-align: right;\">\n",
       "      <th></th>\n",
       "      <th>mean</th>\n",
       "      <th>mean_se</th>\n",
       "      <th>mean_ci_lower</th>\n",
       "      <th>mean_ci_upper</th>\n",
       "    </tr>\n",
       "  </thead>\n",
       "  <tbody>\n",
       "    <tr>\n",
       "      <th>5316</th>\n",
       "      <td>5.484754</td>\n",
       "      <td>0.089146</td>\n",
       "      <td>5.312785</td>\n",
       "      <td>5.662290</td>\n",
       "    </tr>\n",
       "    <tr>\n",
       "      <th>5210</th>\n",
       "      <td>6.288918</td>\n",
       "      <td>0.094792</td>\n",
       "      <td>6.105846</td>\n",
       "      <td>6.477478</td>\n",
       "    </tr>\n",
       "    <tr>\n",
       "      <th>3518</th>\n",
       "      <td>5.731286</td>\n",
       "      <td>0.096838</td>\n",
       "      <td>5.544595</td>\n",
       "      <td>5.924263</td>\n",
       "    </tr>\n",
       "    <tr>\n",
       "      <th>1622</th>\n",
       "      <td>4.752143</td>\n",
       "      <td>0.119276</td>\n",
       "      <td>4.524024</td>\n",
       "      <td>4.991764</td>\n",
       "    </tr>\n",
       "    <tr>\n",
       "      <th>2443</th>\n",
       "      <td>6.068674</td>\n",
       "      <td>0.071480</td>\n",
       "      <td>5.930181</td>\n",
       "      <td>6.210402</td>\n",
       "    </tr>\n",
       "    <tr>\n",
       "      <th>...</th>\n",
       "      <td>...</td>\n",
       "      <td>...</td>\n",
       "      <td>...</td>\n",
       "      <td>...</td>\n",
       "    </tr>\n",
       "    <tr>\n",
       "      <th>5710</th>\n",
       "      <td>6.159962</td>\n",
       "      <td>0.084170</td>\n",
       "      <td>5.997181</td>\n",
       "      <td>6.327162</td>\n",
       "    </tr>\n",
       "    <tr>\n",
       "      <th>6475</th>\n",
       "      <td>6.049456</td>\n",
       "      <td>0.089150</td>\n",
       "      <td>5.877224</td>\n",
       "      <td>6.226735</td>\n",
       "    </tr>\n",
       "    <tr>\n",
       "      <th>1433</th>\n",
       "      <td>5.772739</td>\n",
       "      <td>0.113194</td>\n",
       "      <td>5.555091</td>\n",
       "      <td>5.998914</td>\n",
       "    </tr>\n",
       "    <tr>\n",
       "      <th>2707</th>\n",
       "      <td>6.480021</td>\n",
       "      <td>0.091271</td>\n",
       "      <td>6.303580</td>\n",
       "      <td>6.661401</td>\n",
       "    </tr>\n",
       "    <tr>\n",
       "      <th>2887</th>\n",
       "      <td>6.528868</td>\n",
       "      <td>0.088921</td>\n",
       "      <td>6.356893</td>\n",
       "      <td>6.705497</td>\n",
       "    </tr>\n",
       "  </tbody>\n",
       "</table>\n",
       "<p>1300 rows × 4 columns</p>\n",
       "</div>"
      ],
      "text/plain": [
       "          mean   mean_se  mean_ci_lower  mean_ci_upper\n",
       "5316  5.484754  0.089146       5.312785       5.662290\n",
       "5210  6.288918  0.094792       6.105846       6.477478\n",
       "3518  5.731286  0.096838       5.544595       5.924263\n",
       "1622  4.752143  0.119276       4.524024       4.991764\n",
       "2443  6.068674  0.071480       5.930181       6.210402\n",
       "...        ...       ...            ...            ...\n",
       "5710  6.159962  0.084170       5.997181       6.327162\n",
       "6475  6.049456  0.089150       5.877224       6.226735\n",
       "1433  5.772739  0.113194       5.555091       5.998914\n",
       "2707  6.480021  0.091271       6.303580       6.661401\n",
       "2887  6.528868  0.088921       6.356893       6.705497\n",
       "\n",
       "[1300 rows x 4 columns]"
      ]
     },
     "metadata": {},
     "output_type": "display_data"
    }
   ],
   "source": [
    "poisson_predictions = poisson_training_results.get_prediction(X_test_quality)\n",
    "predictions_summary_frame = poisson_predictions.summary_frame()\n",
    "display(predictions_summary_frame)"
   ]
  },
  {
   "cell_type": "markdown",
   "id": "9621f622",
   "metadata": {},
   "source": [
    "Let us try upsampling."
   ]
  },
  {
   "cell_type": "code",
   "execution_count": 57,
   "id": "0079c604",
   "metadata": {},
   "outputs": [
    {
     "data": {
      "text/plain": [
       "LogisticRegression()"
      ]
     },
     "execution_count": 57,
     "metadata": {},
     "output_type": "execute_result"
    }
   ],
   "source": [
    "logreg_model = LogisticRegression()\n",
    "logreg_model.fit(X_train_quality, y_train_quality)"
   ]
  },
  {
   "cell_type": "code",
   "execution_count": 58,
   "id": "830b8c1d",
   "metadata": {},
   "outputs": [
    {
     "data": {
      "text/plain": [
       "3    2836\n",
       "4    2836\n",
       "5    2836\n",
       "6    2836\n",
       "7    2836\n",
       "8    2836\n",
       "9    2836\n",
       "Name: quality, dtype: int64"
      ]
     },
     "execution_count": 58,
     "metadata": {},
     "output_type": "execute_result"
    }
   ],
   "source": [
    "Rated_6 = wine_quality[wine_quality.quality == 6]\n",
    "Rated_5 = wine_quality[wine_quality.quality == 5]\n",
    "Rated_4 = wine_quality[wine_quality.quality == 4]\n",
    "Rated_3 = wine_quality[wine_quality.quality == 3]\n",
    "Rated_9 = wine_quality[wine_quality.quality == 9]\n",
    "Rated_8 = wine_quality[wine_quality.quality == 8]\n",
    "Rated_7 = wine_quality[wine_quality.quality == 7]\n",
    "\n",
    "Rated_5_upsampled = resample(Rated_5,\n",
    "                                         replace = True,\n",
    "                                         n_samples = len(Rated_6),\n",
    "                                         random_state = 111)\n",
    "Rated_4_upsampled = resample(Rated_4,\n",
    "                                         replace = True,\n",
    "                                         n_samples = len(Rated_6),\n",
    "                                         random_state = 111)\n",
    "Rated_3_upsampled = resample(Rated_3,\n",
    "                                         replace = True,\n",
    "                                         n_samples = len(Rated_6),\n",
    "                                         random_state = 111)\n",
    "Rated_9_upsampled = resample(Rated_9,\n",
    "                                         replace = True,\n",
    "                                         n_samples = len(Rated_6),\n",
    "                                         random_state = 111)\n",
    "Rated_8_upsampled = resample(Rated_8,\n",
    "                                         replace = True,\n",
    "                                         n_samples = len(Rated_6),\n",
    "                                         random_state = 111)\n",
    "Rated_7_upsampled = resample(Rated_7,\n",
    "                                         replace = True,\n",
    "                                         n_samples = len(Rated_6),\n",
    "                                         random_state = 111)\n",
    "\n",
    "\n",
    "upsampled_df_rate = pd.concat([Rated_6,Rated_5_upsampled,Rated_4_upsampled,Rated_3_upsampled,Rated_9_upsampled,Rated_8_upsampled,Rated_7_upsampled])\n",
    "upsampled_df_rate.quality.value_counts()"
   ]
  },
  {
   "cell_type": "code",
   "execution_count": 59,
   "id": "27ff3a51",
   "metadata": {},
   "outputs": [],
   "source": [
    "X_quality_up=upsampled_df_rate.drop('quality', axis=1)\n",
    "y_quality_up=upsampled_df_rate['quality']"
   ]
  },
  {
   "cell_type": "code",
   "execution_count": 60,
   "id": "45a3ae33",
   "metadata": {},
   "outputs": [],
   "source": [
    "X_train_up,X_test_up,y_train_up,y_test_up=train_test_split(X_quality_up,y_quality_up,test_size=0.2,random_state=0)"
   ]
  },
  {
   "cell_type": "code",
   "execution_count": 61,
   "id": "130a723f",
   "metadata": {},
   "outputs": [],
   "source": [
    "poisson_training_results_up = sms.GLM(y_train_up, X_train_up, family=sms.families.Poisson()).fit()"
   ]
  },
  {
   "cell_type": "code",
   "execution_count": 62,
   "id": "33fe073e",
   "metadata": {},
   "outputs": [
    {
     "data": {
      "text/html": [
       "<table class=\"simpletable\">\n",
       "<caption>Generalized Linear Model Regression Results</caption>\n",
       "<tr>\n",
       "  <th>Dep. Variable:</th>        <td>quality</td>     <th>  No. Observations:  </th>  <td> 15881</td> \n",
       "</tr>\n",
       "<tr>\n",
       "  <th>Model:</th>                  <td>GLM</td>       <th>  Df Residuals:      </th>  <td> 15870</td> \n",
       "</tr>\n",
       "<tr>\n",
       "  <th>Model Family:</th>         <td>Poisson</td>     <th>  Df Model:          </th>  <td>    10</td> \n",
       "</tr>\n",
       "<tr>\n",
       "  <th>Link Function:</th>          <td>log</td>       <th>  Scale:             </th> <td>  1.0000</td>\n",
       "</tr>\n",
       "<tr>\n",
       "  <th>Method:</th>                <td>IRLS</td>       <th>  Log-Likelihood:    </th> <td> -31611.</td>\n",
       "</tr>\n",
       "<tr>\n",
       "  <th>Date:</th>            <td>Wed, 16 Feb 2022</td> <th>  Deviance:          </th> <td>  6063.4</td>\n",
       "</tr>\n",
       "<tr>\n",
       "  <th>Time:</th>                <td>21:49:33</td>     <th>  Pearson chi2:      </th> <td>5.68e+03</td>\n",
       "</tr>\n",
       "<tr>\n",
       "  <th>No. Iterations:</th>          <td>4</td>        <th>                     </th>     <td> </td>   \n",
       "</tr>\n",
       "<tr>\n",
       "  <th>Covariance Type:</th>     <td>nonrobust</td>    <th>                     </th>     <td> </td>   \n",
       "</tr>\n",
       "</table>\n",
       "<table class=\"simpletable\">\n",
       "<tr>\n",
       "           <td></td>              <th>coef</th>     <th>std err</th>      <th>z</th>      <th>P>|z|</th>  <th>[0.025</th>    <th>0.975]</th>  \n",
       "</tr>\n",
       "<tr>\n",
       "  <th>fixed acidity</th>       <td>    0.0116</td> <td>    0.004</td> <td>    3.168</td> <td> 0.002</td> <td>    0.004</td> <td>    0.019</td>\n",
       "</tr>\n",
       "<tr>\n",
       "  <th>volatile acidity</th>    <td>   -0.6168</td> <td>    0.026</td> <td>  -23.701</td> <td> 0.000</td> <td>   -0.668</td> <td>   -0.566</td>\n",
       "</tr>\n",
       "<tr>\n",
       "  <th>citric acid</th>         <td>    0.0954</td> <td>    0.032</td> <td>    2.992</td> <td> 0.003</td> <td>    0.033</td> <td>    0.158</td>\n",
       "</tr>\n",
       "<tr>\n",
       "  <th>residual sugar</th>      <td>    0.0115</td> <td>    0.001</td> <td>   12.907</td> <td> 0.000</td> <td>    0.010</td> <td>    0.013</td>\n",
       "</tr>\n",
       "<tr>\n",
       "  <th>chlorides</th>           <td>   -1.1487</td> <td>    0.142</td> <td>   -8.094</td> <td> 0.000</td> <td>   -1.427</td> <td>   -0.870</td>\n",
       "</tr>\n",
       "<tr>\n",
       "  <th>free sulfur dioxide</th> <td>   -0.0005</td> <td>    0.000</td> <td>   -3.766</td> <td> 0.000</td> <td>   -0.001</td> <td>   -0.000</td>\n",
       "</tr>\n",
       "<tr>\n",
       "  <th>density</th>             <td>   -0.2097</td> <td>    0.110</td> <td>   -1.903</td> <td> 0.057</td> <td>   -0.426</td> <td>    0.006</td>\n",
       "</tr>\n",
       "<tr>\n",
       "  <th>pH</th>                  <td>    0.2015</td> <td>    0.026</td> <td>    7.712</td> <td> 0.000</td> <td>    0.150</td> <td>    0.253</td>\n",
       "</tr>\n",
       "<tr>\n",
       "  <th>sulphates</th>           <td>    0.1515</td> <td>    0.026</td> <td>    5.734</td> <td> 0.000</td> <td>    0.100</td> <td>    0.203</td>\n",
       "</tr>\n",
       "<tr>\n",
       "  <th>alcohol</th>             <td>    0.1301</td> <td>    0.003</td> <td>   44.188</td> <td> 0.000</td> <td>    0.124</td> <td>    0.136</td>\n",
       "</tr>\n",
       "<tr>\n",
       "  <th>Wine Type</th>           <td>   -0.0508</td> <td>    0.015</td> <td>   -3.419</td> <td> 0.001</td> <td>   -0.080</td> <td>   -0.022</td>\n",
       "</tr>\n",
       "</table>"
      ],
      "text/plain": [
       "<class 'statsmodels.iolib.summary.Summary'>\n",
       "\"\"\"\n",
       "                 Generalized Linear Model Regression Results                  \n",
       "==============================================================================\n",
       "Dep. Variable:                quality   No. Observations:                15881\n",
       "Model:                            GLM   Df Residuals:                    15870\n",
       "Model Family:                 Poisson   Df Model:                           10\n",
       "Link Function:                    log   Scale:                          1.0000\n",
       "Method:                          IRLS   Log-Likelihood:                -31611.\n",
       "Date:                Wed, 16 Feb 2022   Deviance:                       6063.4\n",
       "Time:                        21:49:33   Pearson chi2:                 5.68e+03\n",
       "No. Iterations:                     4                                         \n",
       "Covariance Type:            nonrobust                                         \n",
       "=======================================================================================\n",
       "                          coef    std err          z      P>|z|      [0.025      0.975]\n",
       "---------------------------------------------------------------------------------------\n",
       "fixed acidity           0.0116      0.004      3.168      0.002       0.004       0.019\n",
       "volatile acidity       -0.6168      0.026    -23.701      0.000      -0.668      -0.566\n",
       "citric acid             0.0954      0.032      2.992      0.003       0.033       0.158\n",
       "residual sugar          0.0115      0.001     12.907      0.000       0.010       0.013\n",
       "chlorides              -1.1487      0.142     -8.094      0.000      -1.427      -0.870\n",
       "free sulfur dioxide    -0.0005      0.000     -3.766      0.000      -0.001      -0.000\n",
       "density                -0.2097      0.110     -1.903      0.057      -0.426       0.006\n",
       "pH                      0.2015      0.026      7.712      0.000       0.150       0.253\n",
       "sulphates               0.1515      0.026      5.734      0.000       0.100       0.203\n",
       "alcohol                 0.1301      0.003     44.188      0.000       0.124       0.136\n",
       "Wine Type              -0.0508      0.015     -3.419      0.001      -0.080      -0.022\n",
       "=======================================================================================\n",
       "\"\"\""
      ]
     },
     "metadata": {},
     "output_type": "display_data"
    }
   ],
   "source": [
    "display(poisson_training_results_up.summary())"
   ]
  },
  {
   "cell_type": "code",
   "execution_count": 63,
   "id": "fbdf674e",
   "metadata": {},
   "outputs": [
    {
     "data": {
      "text/html": [
       "<div>\n",
       "<style scoped>\n",
       "    .dataframe tbody tr th:only-of-type {\n",
       "        vertical-align: middle;\n",
       "    }\n",
       "\n",
       "    .dataframe tbody tr th {\n",
       "        vertical-align: top;\n",
       "    }\n",
       "\n",
       "    .dataframe thead th {\n",
       "        text-align: right;\n",
       "    }\n",
       "</style>\n",
       "<table border=\"1\" class=\"dataframe\">\n",
       "  <thead>\n",
       "    <tr style=\"text-align: right;\">\n",
       "      <th></th>\n",
       "      <th>mean</th>\n",
       "      <th>mean_se</th>\n",
       "      <th>mean_ci_lower</th>\n",
       "      <th>mean_ci_upper</th>\n",
       "    </tr>\n",
       "  </thead>\n",
       "  <tbody>\n",
       "    <tr>\n",
       "      <th>5316</th>\n",
       "      <td>4.935531</td>\n",
       "      <td>0.046690</td>\n",
       "      <td>4.844863</td>\n",
       "      <td>5.027895</td>\n",
       "    </tr>\n",
       "    <tr>\n",
       "      <th>5210</th>\n",
       "      <td>6.658379</td>\n",
       "      <td>0.060057</td>\n",
       "      <td>6.541704</td>\n",
       "      <td>6.777135</td>\n",
       "    </tr>\n",
       "    <tr>\n",
       "      <th>3518</th>\n",
       "      <td>5.659299</td>\n",
       "      <td>0.060264</td>\n",
       "      <td>5.542409</td>\n",
       "      <td>5.778655</td>\n",
       "    </tr>\n",
       "    <tr>\n",
       "      <th>1622</th>\n",
       "      <td>3.492161</td>\n",
       "      <td>0.046441</td>\n",
       "      <td>3.402315</td>\n",
       "      <td>3.584380</td>\n",
       "    </tr>\n",
       "    <tr>\n",
       "      <th>2443</th>\n",
       "      <td>6.428037</td>\n",
       "      <td>0.040769</td>\n",
       "      <td>6.348626</td>\n",
       "      <td>6.508442</td>\n",
       "    </tr>\n",
       "    <tr>\n",
       "      <th>...</th>\n",
       "      <td>...</td>\n",
       "      <td>...</td>\n",
       "      <td>...</td>\n",
       "      <td>...</td>\n",
       "    </tr>\n",
       "    <tr>\n",
       "      <th>5710</th>\n",
       "      <td>6.558071</td>\n",
       "      <td>0.049236</td>\n",
       "      <td>6.462277</td>\n",
       "      <td>6.655285</td>\n",
       "    </tr>\n",
       "    <tr>\n",
       "      <th>6475</th>\n",
       "      <td>6.440726</td>\n",
       "      <td>0.047424</td>\n",
       "      <td>6.348444</td>\n",
       "      <td>6.534349</td>\n",
       "    </tr>\n",
       "    <tr>\n",
       "      <th>1433</th>\n",
       "      <td>5.375952</td>\n",
       "      <td>0.064548</td>\n",
       "      <td>5.250917</td>\n",
       "      <td>5.503965</td>\n",
       "    </tr>\n",
       "    <tr>\n",
       "      <th>2707</th>\n",
       "      <td>7.452375</td>\n",
       "      <td>0.051918</td>\n",
       "      <td>7.351310</td>\n",
       "      <td>7.554830</td>\n",
       "    </tr>\n",
       "    <tr>\n",
       "      <th>2887</th>\n",
       "      <td>7.424574</td>\n",
       "      <td>0.049534</td>\n",
       "      <td>7.328121</td>\n",
       "      <td>7.522297</td>\n",
       "    </tr>\n",
       "  </tbody>\n",
       "</table>\n",
       "<p>1300 rows × 4 columns</p>\n",
       "</div>"
      ],
      "text/plain": [
       "          mean   mean_se  mean_ci_lower  mean_ci_upper\n",
       "5316  4.935531  0.046690       4.844863       5.027895\n",
       "5210  6.658379  0.060057       6.541704       6.777135\n",
       "3518  5.659299  0.060264       5.542409       5.778655\n",
       "1622  3.492161  0.046441       3.402315       3.584380\n",
       "2443  6.428037  0.040769       6.348626       6.508442\n",
       "...        ...       ...            ...            ...\n",
       "5710  6.558071  0.049236       6.462277       6.655285\n",
       "6475  6.440726  0.047424       6.348444       6.534349\n",
       "1433  5.375952  0.064548       5.250917       5.503965\n",
       "2707  7.452375  0.051918       7.351310       7.554830\n",
       "2887  7.424574  0.049534       7.328121       7.522297\n",
       "\n",
       "[1300 rows x 4 columns]"
      ]
     },
     "metadata": {},
     "output_type": "display_data"
    }
   ],
   "source": [
    "poisson_predictions_up = poisson_training_results_up.get_prediction(X_test_quality)\n",
    "predictions_summary_frame_up = poisson_predictions_up.summary_frame()\n",
    "display(predictions_summary_frame_up)"
   ]
  },
  {
   "cell_type": "markdown",
   "id": "635fbf18",
   "metadata": {},
   "source": [
    "Trying SMOTE."
   ]
  },
  {
   "cell_type": "code",
   "execution_count": 64,
   "id": "d859cea8",
   "metadata": {},
   "outputs": [],
   "source": [
    "sm = SMOTE('not minority')\n",
    "X_train_smote_quality, y_train_smote_quality = sm.fit_resample(X_train_quality, y_train_quality)"
   ]
  },
  {
   "cell_type": "code",
   "execution_count": 65,
   "id": "480b62e2",
   "metadata": {},
   "outputs": [],
   "source": [
    "poisson_training_results_smote = sms.GLM(y_train_smote_quality, X_train_smote_quality, family=sms.families.Poisson()).fit()"
   ]
  },
  {
   "cell_type": "code",
   "execution_count": 66,
   "id": "bb8977ed",
   "metadata": {},
   "outputs": [
    {
     "data": {
      "text/html": [
       "<table class=\"simpletable\">\n",
       "<caption>Generalized Linear Model Regression Results</caption>\n",
       "<tr>\n",
       "  <th>Dep. Variable:</th>        <td>quality</td>     <th>  No. Observations:  </th>  <td> 13546</td> \n",
       "</tr>\n",
       "<tr>\n",
       "  <th>Model:</th>                  <td>GLM</td>       <th>  Df Residuals:      </th>  <td> 13535</td> \n",
       "</tr>\n",
       "<tr>\n",
       "  <th>Model Family:</th>         <td>Poisson</td>     <th>  Df Model:          </th>  <td>    10</td> \n",
       "</tr>\n",
       "<tr>\n",
       "  <th>Link Function:</th>          <td>log</td>       <th>  Scale:             </th> <td>  1.0000</td>\n",
       "</tr>\n",
       "<tr>\n",
       "  <th>Method:</th>                <td>IRLS</td>       <th>  Log-Likelihood:    </th> <td> -26063.</td>\n",
       "</tr>\n",
       "<tr>\n",
       "  <th>Date:</th>            <td>Wed, 16 Feb 2022</td> <th>  Deviance:          </th> <td>  4394.4</td>\n",
       "</tr>\n",
       "<tr>\n",
       "  <th>Time:</th>                <td>21:49:34</td>     <th>  Pearson chi2:      </th> <td>4.23e+03</td>\n",
       "</tr>\n",
       "<tr>\n",
       "  <th>No. Iterations:</th>          <td>4</td>        <th>                     </th>     <td> </td>   \n",
       "</tr>\n",
       "<tr>\n",
       "  <th>Covariance Type:</th>     <td>nonrobust</td>    <th>                     </th>     <td> </td>   \n",
       "</tr>\n",
       "</table>\n",
       "<table class=\"simpletable\">\n",
       "<tr>\n",
       "           <td></td>              <th>coef</th>     <th>std err</th>      <th>z</th>      <th>P>|z|</th>  <th>[0.025</th>    <th>0.975]</th>  \n",
       "</tr>\n",
       "<tr>\n",
       "  <th>fixed acidity</th>       <td>   -0.0047</td> <td>    0.004</td> <td>   -1.042</td> <td> 0.297</td> <td>   -0.013</td> <td>    0.004</td>\n",
       "</tr>\n",
       "<tr>\n",
       "  <th>volatile acidity</th>    <td>   -0.5734</td> <td>    0.029</td> <td>  -20.058</td> <td> 0.000</td> <td>   -0.629</td> <td>   -0.517</td>\n",
       "</tr>\n",
       "<tr>\n",
       "  <th>citric acid</th>         <td>   -0.0630</td> <td>    0.037</td> <td>   -1.695</td> <td> 0.090</td> <td>   -0.136</td> <td>    0.010</td>\n",
       "</tr>\n",
       "<tr>\n",
       "  <th>residual sugar</th>      <td>    0.0075</td> <td>    0.001</td> <td>    7.207</td> <td> 0.000</td> <td>    0.005</td> <td>    0.010</td>\n",
       "</tr>\n",
       "<tr>\n",
       "  <th>chlorides</th>           <td>   -0.8731</td> <td>    0.145</td> <td>   -6.042</td> <td> 0.000</td> <td>   -1.156</td> <td>   -0.590</td>\n",
       "</tr>\n",
       "<tr>\n",
       "  <th>free sulfur dioxide</th> <td>   -0.0007</td> <td>    0.000</td> <td>   -3.909</td> <td> 0.000</td> <td>   -0.001</td> <td>   -0.000</td>\n",
       "</tr>\n",
       "<tr>\n",
       "  <th>density</th>             <td>    0.6329</td> <td>    0.131</td> <td>    4.825</td> <td> 0.000</td> <td>    0.376</td> <td>    0.890</td>\n",
       "</tr>\n",
       "<tr>\n",
       "  <th>pH</th>                  <td>   -0.0128</td> <td>    0.031</td> <td>   -0.405</td> <td> 0.685</td> <td>   -0.074</td> <td>    0.049</td>\n",
       "</tr>\n",
       "<tr>\n",
       "  <th>sulphates</th>           <td>    0.4489</td> <td>    0.030</td> <td>   14.840</td> <td> 0.000</td> <td>    0.390</td> <td>    0.508</td>\n",
       "</tr>\n",
       "<tr>\n",
       "  <th>alcohol</th>             <td>    0.1054</td> <td>    0.004</td> <td>   29.985</td> <td> 0.000</td> <td>    0.098</td> <td>    0.112</td>\n",
       "</tr>\n",
       "<tr>\n",
       "  <th>Wine Type</th>           <td>    0.0631</td> <td>    0.013</td> <td>    4.691</td> <td> 0.000</td> <td>    0.037</td> <td>    0.090</td>\n",
       "</tr>\n",
       "</table>"
      ],
      "text/plain": [
       "<class 'statsmodels.iolib.summary.Summary'>\n",
       "\"\"\"\n",
       "                 Generalized Linear Model Regression Results                  \n",
       "==============================================================================\n",
       "Dep. Variable:                quality   No. Observations:                13546\n",
       "Model:                            GLM   Df Residuals:                    13535\n",
       "Model Family:                 Poisson   Df Model:                           10\n",
       "Link Function:                    log   Scale:                          1.0000\n",
       "Method:                          IRLS   Log-Likelihood:                -26063.\n",
       "Date:                Wed, 16 Feb 2022   Deviance:                       4394.4\n",
       "Time:                        21:49:34   Pearson chi2:                 4.23e+03\n",
       "No. Iterations:                     4                                         \n",
       "Covariance Type:            nonrobust                                         \n",
       "=======================================================================================\n",
       "                          coef    std err          z      P>|z|      [0.025      0.975]\n",
       "---------------------------------------------------------------------------------------\n",
       "fixed acidity          -0.0047      0.004     -1.042      0.297      -0.013       0.004\n",
       "volatile acidity       -0.5734      0.029    -20.058      0.000      -0.629      -0.517\n",
       "citric acid            -0.0630      0.037     -1.695      0.090      -0.136       0.010\n",
       "residual sugar          0.0075      0.001      7.207      0.000       0.005       0.010\n",
       "chlorides              -0.8731      0.145     -6.042      0.000      -1.156      -0.590\n",
       "free sulfur dioxide    -0.0007      0.000     -3.909      0.000      -0.001      -0.000\n",
       "density                 0.6329      0.131      4.825      0.000       0.376       0.890\n",
       "pH                     -0.0128      0.031     -0.405      0.685      -0.074       0.049\n",
       "sulphates               0.4489      0.030     14.840      0.000       0.390       0.508\n",
       "alcohol                 0.1054      0.004     29.985      0.000       0.098       0.112\n",
       "Wine Type               0.0631      0.013      4.691      0.000       0.037       0.090\n",
       "=======================================================================================\n",
       "\"\"\""
      ]
     },
     "metadata": {},
     "output_type": "display_data"
    }
   ],
   "source": [
    "display(poisson_training_results_smote.summary())"
   ]
  },
  {
   "cell_type": "code",
   "execution_count": 67,
   "id": "9b7352a2",
   "metadata": {},
   "outputs": [
    {
     "data": {
      "text/html": [
       "<div>\n",
       "<style scoped>\n",
       "    .dataframe tbody tr th:only-of-type {\n",
       "        vertical-align: middle;\n",
       "    }\n",
       "\n",
       "    .dataframe tbody tr th {\n",
       "        vertical-align: top;\n",
       "    }\n",
       "\n",
       "    .dataframe thead th {\n",
       "        text-align: right;\n",
       "    }\n",
       "</style>\n",
       "<table border=\"1\" class=\"dataframe\">\n",
       "  <thead>\n",
       "    <tr style=\"text-align: right;\">\n",
       "      <th></th>\n",
       "      <th>mean</th>\n",
       "      <th>mean_se</th>\n",
       "      <th>mean_ci_lower</th>\n",
       "      <th>mean_ci_upper</th>\n",
       "    </tr>\n",
       "  </thead>\n",
       "  <tbody>\n",
       "    <tr>\n",
       "      <th>5316</th>\n",
       "      <td>5.325844</td>\n",
       "      <td>0.057250</td>\n",
       "      <td>5.214810</td>\n",
       "      <td>5.439242</td>\n",
       "    </tr>\n",
       "    <tr>\n",
       "      <th>5210</th>\n",
       "      <td>6.661477</td>\n",
       "      <td>0.068485</td>\n",
       "      <td>6.528593</td>\n",
       "      <td>6.797067</td>\n",
       "    </tr>\n",
       "    <tr>\n",
       "      <th>3518</th>\n",
       "      <td>5.627897</td>\n",
       "      <td>0.068449</td>\n",
       "      <td>5.495325</td>\n",
       "      <td>5.763667</td>\n",
       "    </tr>\n",
       "    <tr>\n",
       "      <th>1622</th>\n",
       "      <td>3.905602</td>\n",
       "      <td>0.056416</td>\n",
       "      <td>3.796580</td>\n",
       "      <td>4.017756</td>\n",
       "    </tr>\n",
       "    <tr>\n",
       "      <th>2443</th>\n",
       "      <td>6.178871</td>\n",
       "      <td>0.048823</td>\n",
       "      <td>6.083916</td>\n",
       "      <td>6.275308</td>\n",
       "    </tr>\n",
       "    <tr>\n",
       "      <th>...</th>\n",
       "      <td>...</td>\n",
       "      <td>...</td>\n",
       "      <td>...</td>\n",
       "      <td>...</td>\n",
       "    </tr>\n",
       "    <tr>\n",
       "      <th>5710</th>\n",
       "      <td>6.613002</td>\n",
       "      <td>0.056419</td>\n",
       "      <td>6.503342</td>\n",
       "      <td>6.724510</td>\n",
       "    </tr>\n",
       "    <tr>\n",
       "      <th>6475</th>\n",
       "      <td>6.190087</td>\n",
       "      <td>0.056524</td>\n",
       "      <td>6.080287</td>\n",
       "      <td>6.301869</td>\n",
       "    </tr>\n",
       "    <tr>\n",
       "      <th>1433</th>\n",
       "      <td>5.261472</td>\n",
       "      <td>0.063504</td>\n",
       "      <td>5.138467</td>\n",
       "      <td>5.387422</td>\n",
       "    </tr>\n",
       "    <tr>\n",
       "      <th>2707</th>\n",
       "      <td>7.212065</td>\n",
       "      <td>0.059076</td>\n",
       "      <td>7.097202</td>\n",
       "      <td>7.328786</td>\n",
       "    </tr>\n",
       "    <tr>\n",
       "      <th>2887</th>\n",
       "      <td>7.056861</td>\n",
       "      <td>0.058584</td>\n",
       "      <td>6.942967</td>\n",
       "      <td>7.172623</td>\n",
       "    </tr>\n",
       "  </tbody>\n",
       "</table>\n",
       "<p>1300 rows × 4 columns</p>\n",
       "</div>"
      ],
      "text/plain": [
       "          mean   mean_se  mean_ci_lower  mean_ci_upper\n",
       "5316  5.325844  0.057250       5.214810       5.439242\n",
       "5210  6.661477  0.068485       6.528593       6.797067\n",
       "3518  5.627897  0.068449       5.495325       5.763667\n",
       "1622  3.905602  0.056416       3.796580       4.017756\n",
       "2443  6.178871  0.048823       6.083916       6.275308\n",
       "...        ...       ...            ...            ...\n",
       "5710  6.613002  0.056419       6.503342       6.724510\n",
       "6475  6.190087  0.056524       6.080287       6.301869\n",
       "1433  5.261472  0.063504       5.138467       5.387422\n",
       "2707  7.212065  0.059076       7.097202       7.328786\n",
       "2887  7.056861  0.058584       6.942967       7.172623\n",
       "\n",
       "[1300 rows x 4 columns]"
      ]
     },
     "metadata": {},
     "output_type": "display_data"
    }
   ],
   "source": [
    "poisson_predictions_smote = poisson_training_results_smote.get_prediction(X_test_quality)\n",
    "predictions_summary_frame_smote = poisson_predictions_smote.summary_frame()\n",
    "display(predictions_summary_frame_smote)"
   ]
  },
  {
   "cell_type": "markdown",
   "id": "3f3ef063",
   "metadata": {},
   "source": [
    "I wanted to apply one more algorithm since i didn't get results i wanted yet. So here i will apply ADASYN."
   ]
  },
  {
   "cell_type": "code",
   "execution_count": 68,
   "id": "06da303d",
   "metadata": {},
   "outputs": [],
   "source": [
    "ad = ADASYN(sampling_strategy='not minority')\n",
    "X_train_adasyn, y_train_adasyn = ad.fit_resample(X_train_quality, y_train_quality)"
   ]
  },
  {
   "cell_type": "code",
   "execution_count": 69,
   "id": "42b6afce",
   "metadata": {},
   "outputs": [],
   "source": [
    "poisson_training_results_adasyn = sms.GLM(y_train_adasyn, X_train_adasyn, family=sms.families.Poisson()).fit()"
   ]
  },
  {
   "cell_type": "code",
   "execution_count": 70,
   "id": "e009010d",
   "metadata": {},
   "outputs": [
    {
     "data": {
      "text/html": [
       "<table class=\"simpletable\">\n",
       "<caption>Generalized Linear Model Regression Results</caption>\n",
       "<tr>\n",
       "  <th>Dep. Variable:</th>        <td>quality</td>     <th>  No. Observations:  </th>  <td> 13404</td> \n",
       "</tr>\n",
       "<tr>\n",
       "  <th>Model:</th>                  <td>GLM</td>       <th>  Df Residuals:      </th>  <td> 13393</td> \n",
       "</tr>\n",
       "<tr>\n",
       "  <th>Model Family:</th>         <td>Poisson</td>     <th>  Df Model:          </th>  <td>    10</td> \n",
       "</tr>\n",
       "<tr>\n",
       "  <th>Link Function:</th>          <td>log</td>       <th>  Scale:             </th> <td>  1.0000</td>\n",
       "</tr>\n",
       "<tr>\n",
       "  <th>Method:</th>                <td>IRLS</td>       <th>  Log-Likelihood:    </th> <td> -25794.</td>\n",
       "</tr>\n",
       "<tr>\n",
       "  <th>Date:</th>            <td>Wed, 16 Feb 2022</td> <th>  Deviance:          </th> <td>  4272.9</td>\n",
       "</tr>\n",
       "<tr>\n",
       "  <th>Time:</th>                <td>21:49:35</td>     <th>  Pearson chi2:      </th> <td>4.11e+03</td>\n",
       "</tr>\n",
       "<tr>\n",
       "  <th>No. Iterations:</th>          <td>4</td>        <th>                     </th>     <td> </td>   \n",
       "</tr>\n",
       "<tr>\n",
       "  <th>Covariance Type:</th>     <td>nonrobust</td>    <th>                     </th>     <td> </td>   \n",
       "</tr>\n",
       "</table>\n",
       "<table class=\"simpletable\">\n",
       "<tr>\n",
       "           <td></td>              <th>coef</th>     <th>std err</th>      <th>z</th>      <th>P>|z|</th>  <th>[0.025</th>    <th>0.975]</th>  \n",
       "</tr>\n",
       "<tr>\n",
       "  <th>fixed acidity</th>       <td>   -0.0026</td> <td>    0.004</td> <td>   -0.578</td> <td> 0.563</td> <td>   -0.011</td> <td>    0.006</td>\n",
       "</tr>\n",
       "<tr>\n",
       "  <th>volatile acidity</th>    <td>   -0.5755</td> <td>    0.029</td> <td>  -19.787</td> <td> 0.000</td> <td>   -0.633</td> <td>   -0.519</td>\n",
       "</tr>\n",
       "<tr>\n",
       "  <th>citric acid</th>         <td>   -0.0035</td> <td>    0.038</td> <td>   -0.094</td> <td> 0.925</td> <td>   -0.077</td> <td>    0.070</td>\n",
       "</tr>\n",
       "<tr>\n",
       "  <th>residual sugar</th>      <td>    0.0051</td> <td>    0.001</td> <td>    4.737</td> <td> 0.000</td> <td>    0.003</td> <td>    0.007</td>\n",
       "</tr>\n",
       "<tr>\n",
       "  <th>chlorides</th>           <td>   -0.9265</td> <td>    0.151</td> <td>   -6.141</td> <td> 0.000</td> <td>   -1.222</td> <td>   -0.631</td>\n",
       "</tr>\n",
       "<tr>\n",
       "  <th>free sulfur dioxide</th> <td>   -0.0005</td> <td>    0.000</td> <td>   -2.585</td> <td> 0.010</td> <td>   -0.001</td> <td>   -0.000</td>\n",
       "</tr>\n",
       "<tr>\n",
       "  <th>density</th>             <td>    0.3962</td> <td>    0.131</td> <td>    3.014</td> <td> 0.003</td> <td>    0.139</td> <td>    0.654</td>\n",
       "</tr>\n",
       "<tr>\n",
       "  <th>pH</th>                  <td>    0.0353</td> <td>    0.031</td> <td>    1.125</td> <td> 0.261</td> <td>   -0.026</td> <td>    0.097</td>\n",
       "</tr>\n",
       "<tr>\n",
       "  <th>sulphates</th>           <td>    0.4457</td> <td>    0.030</td> <td>   14.733</td> <td> 0.000</td> <td>    0.386</td> <td>    0.505</td>\n",
       "</tr>\n",
       "<tr>\n",
       "  <th>alcohol</th>             <td>    0.1106</td> <td>    0.004</td> <td>   31.066</td> <td> 0.000</td> <td>    0.104</td> <td>    0.118</td>\n",
       "</tr>\n",
       "<tr>\n",
       "  <th>Wine Type</th>           <td>    0.0654</td> <td>    0.013</td> <td>    4.927</td> <td> 0.000</td> <td>    0.039</td> <td>    0.091</td>\n",
       "</tr>\n",
       "</table>"
      ],
      "text/plain": [
       "<class 'statsmodels.iolib.summary.Summary'>\n",
       "\"\"\"\n",
       "                 Generalized Linear Model Regression Results                  \n",
       "==============================================================================\n",
       "Dep. Variable:                quality   No. Observations:                13404\n",
       "Model:                            GLM   Df Residuals:                    13393\n",
       "Model Family:                 Poisson   Df Model:                           10\n",
       "Link Function:                    log   Scale:                          1.0000\n",
       "Method:                          IRLS   Log-Likelihood:                -25794.\n",
       "Date:                Wed, 16 Feb 2022   Deviance:                       4272.9\n",
       "Time:                        21:49:35   Pearson chi2:                 4.11e+03\n",
       "No. Iterations:                     4                                         \n",
       "Covariance Type:            nonrobust                                         \n",
       "=======================================================================================\n",
       "                          coef    std err          z      P>|z|      [0.025      0.975]\n",
       "---------------------------------------------------------------------------------------\n",
       "fixed acidity          -0.0026      0.004     -0.578      0.563      -0.011       0.006\n",
       "volatile acidity       -0.5755      0.029    -19.787      0.000      -0.633      -0.519\n",
       "citric acid            -0.0035      0.038     -0.094      0.925      -0.077       0.070\n",
       "residual sugar          0.0051      0.001      4.737      0.000       0.003       0.007\n",
       "chlorides              -0.9265      0.151     -6.141      0.000      -1.222      -0.631\n",
       "free sulfur dioxide    -0.0005      0.000     -2.585      0.010      -0.001      -0.000\n",
       "density                 0.3962      0.131      3.014      0.003       0.139       0.654\n",
       "pH                      0.0353      0.031      1.125      0.261      -0.026       0.097\n",
       "sulphates               0.4457      0.030     14.733      0.000       0.386       0.505\n",
       "alcohol                 0.1106      0.004     31.066      0.000       0.104       0.118\n",
       "Wine Type               0.0654      0.013      4.927      0.000       0.039       0.091\n",
       "=======================================================================================\n",
       "\"\"\""
      ]
     },
     "metadata": {},
     "output_type": "display_data"
    }
   ],
   "source": [
    "display(poisson_training_results_adasyn.summary())"
   ]
  },
  {
   "cell_type": "code",
   "execution_count": 71,
   "id": "2c2bf540",
   "metadata": {},
   "outputs": [
    {
     "data": {
      "text/html": [
       "<div>\n",
       "<style scoped>\n",
       "    .dataframe tbody tr th:only-of-type {\n",
       "        vertical-align: middle;\n",
       "    }\n",
       "\n",
       "    .dataframe tbody tr th {\n",
       "        vertical-align: top;\n",
       "    }\n",
       "\n",
       "    .dataframe thead th {\n",
       "        text-align: right;\n",
       "    }\n",
       "</style>\n",
       "<table border=\"1\" class=\"dataframe\">\n",
       "  <thead>\n",
       "    <tr style=\"text-align: right;\">\n",
       "      <th></th>\n",
       "      <th>mean</th>\n",
       "      <th>mean_se</th>\n",
       "      <th>mean_ci_lower</th>\n",
       "      <th>mean_ci_upper</th>\n",
       "    </tr>\n",
       "  </thead>\n",
       "  <tbody>\n",
       "    <tr>\n",
       "      <th>5316</th>\n",
       "      <td>5.237430</td>\n",
       "      <td>0.057587</td>\n",
       "      <td>5.125770</td>\n",
       "      <td>5.351523</td>\n",
       "    </tr>\n",
       "    <tr>\n",
       "      <th>5210</th>\n",
       "      <td>6.707855</td>\n",
       "      <td>0.069396</td>\n",
       "      <td>6.573212</td>\n",
       "      <td>6.845256</td>\n",
       "    </tr>\n",
       "    <tr>\n",
       "      <th>3518</th>\n",
       "      <td>5.556085</td>\n",
       "      <td>0.068945</td>\n",
       "      <td>5.422586</td>\n",
       "      <td>5.692871</td>\n",
       "    </tr>\n",
       "    <tr>\n",
       "      <th>1622</th>\n",
       "      <td>3.833391</td>\n",
       "      <td>0.056067</td>\n",
       "      <td>3.725062</td>\n",
       "      <td>3.944870</td>\n",
       "    </tr>\n",
       "    <tr>\n",
       "      <th>2443</th>\n",
       "      <td>6.271286</td>\n",
       "      <td>0.049134</td>\n",
       "      <td>6.175721</td>\n",
       "      <td>6.368329</td>\n",
       "    </tr>\n",
       "    <tr>\n",
       "      <th>...</th>\n",
       "      <td>...</td>\n",
       "      <td>...</td>\n",
       "      <td>...</td>\n",
       "      <td>...</td>\n",
       "    </tr>\n",
       "    <tr>\n",
       "      <th>5710</th>\n",
       "      <td>6.673660</td>\n",
       "      <td>0.057183</td>\n",
       "      <td>6.562519</td>\n",
       "      <td>6.786683</td>\n",
       "    </tr>\n",
       "    <tr>\n",
       "      <th>6475</th>\n",
       "      <td>6.343384</td>\n",
       "      <td>0.058032</td>\n",
       "      <td>6.230657</td>\n",
       "      <td>6.458150</td>\n",
       "    </tr>\n",
       "    <tr>\n",
       "      <th>1433</th>\n",
       "      <td>5.234776</td>\n",
       "      <td>0.063651</td>\n",
       "      <td>5.111496</td>\n",
       "      <td>5.361029</td>\n",
       "    </tr>\n",
       "    <tr>\n",
       "      <th>2707</th>\n",
       "      <td>7.300552</td>\n",
       "      <td>0.059762</td>\n",
       "      <td>7.184355</td>\n",
       "      <td>7.418628</td>\n",
       "    </tr>\n",
       "    <tr>\n",
       "      <th>2887</th>\n",
       "      <td>7.199875</td>\n",
       "      <td>0.059111</td>\n",
       "      <td>7.084946</td>\n",
       "      <td>7.316668</td>\n",
       "    </tr>\n",
       "  </tbody>\n",
       "</table>\n",
       "<p>1300 rows × 4 columns</p>\n",
       "</div>"
      ],
      "text/plain": [
       "          mean   mean_se  mean_ci_lower  mean_ci_upper\n",
       "5316  5.237430  0.057587       5.125770       5.351523\n",
       "5210  6.707855  0.069396       6.573212       6.845256\n",
       "3518  5.556085  0.068945       5.422586       5.692871\n",
       "1622  3.833391  0.056067       3.725062       3.944870\n",
       "2443  6.271286  0.049134       6.175721       6.368329\n",
       "...        ...       ...            ...            ...\n",
       "5710  6.673660  0.057183       6.562519       6.786683\n",
       "6475  6.343384  0.058032       6.230657       6.458150\n",
       "1433  5.234776  0.063651       5.111496       5.361029\n",
       "2707  7.300552  0.059762       7.184355       7.418628\n",
       "2887  7.199875  0.059111       7.084946       7.316668\n",
       "\n",
       "[1300 rows x 4 columns]"
      ]
     },
     "metadata": {},
     "output_type": "display_data"
    }
   ],
   "source": [
    "poisson_predictions_adasyn = poisson_training_results_adasyn.get_prediction(X_test_quality)\n",
    "predictions_summary_frame_adasyn = poisson_predictions_adasyn.summary_frame()\n",
    "display(predictions_summary_frame_adasyn)"
   ]
  },
  {
   "cell_type": "markdown",
   "id": "141f4da3",
   "metadata": {},
   "source": [
    "We can see that our predictions are more accurate when we try different algorithms."
   ]
  },
  {
   "cell_type": "markdown",
   "id": "21f1ab06",
   "metadata": {},
   "source": [
    "Now let us compare the results."
   ]
  },
  {
   "cell_type": "code",
   "execution_count": 72,
   "id": "be7b8ecd",
   "metadata": {},
   "outputs": [
    {
     "data": {
      "image/png": "[encoded data removed]",
      "text/plain": [
       "<Figure size 1080x576 with 4 Axes>"
      ]
     },
     "metadata": {
      "needs_background": "light"
     },
     "output_type": "display_data"
    }
   ],
   "source": [
    "plt.figure(figsize=(15,8))\n",
    "\n",
    "plt.subplot(2,2,1)\n",
    "predicted_counts=predictions_summary_frame['mean']\n",
    "actual_counts = y_test_quality\n",
    "plt.title('Predicted versus actual quality on wines')\n",
    "predicted, = plt.plot(X_test_quality.index, predicted_counts, 'o', label='Predicted counts')\n",
    "actual, = plt.plot(X_test_quality.index, actual_counts, 'o', label='Actual counts')\n",
    "plt.legend(handles=[predicted, actual])\n",
    "\n",
    "plt.subplot(2,2,2)\n",
    "predicted_counts_up=predictions_summary_frame_up['mean']\n",
    "actual_counts_up = y_test_quality\n",
    "plt.title('Predicted versus actual quality on wines(upsampled)')\n",
    "predicted_up, = plt.plot(X_test_quality.index, predicted_counts_up, 'o', label='Predicted counts')\n",
    "actual_up, = plt.plot(X_test_quality.index, actual_counts_up, 'o', label='Actual counts')\n",
    "plt.legend(handles=[predicted_up, actual_up])\n",
    "\n",
    "plt.subplot(2,2,3)\n",
    "predicted_counts_smote=predictions_summary_frame_smote['mean']\n",
    "actual_counts_smote = y_test_quality\n",
    "plt.title('Predicted versus actual quality on wines(smote)')\n",
    "predicted_smote, = plt.plot(X_test_quality.index, predicted_counts_smote, 'o', label='Predicted counts')\n",
    "actual_smote, = plt.plot(X_test_quality.index, actual_counts_smote, 'o', label='Actual counts')\n",
    "plt.legend(handles=[predicted_smote, actual_smote])\n",
    "\n",
    "plt.subplot(2,2,4)\n",
    "predicted_counts_adasyn=predictions_summary_frame_adasyn['mean']\n",
    "actual_counts_adasyn = y_test_quality\n",
    "plt.title('Predicted versus actual quality on wines(adasyn)')\n",
    "predicted_adasyn, = plt.plot(X_test_quality.index, predicted_counts_adasyn, 'o', label='Predicted counts')\n",
    "actual_adasyn, = plt.plot(X_test_quality.index, actual_counts_adasyn, 'o', label='Actual counts')\n",
    "plt.legend(handles=[predicted_adasyn, actual_adasyn])\n",
    "\n",
    "plt.tight_layout()\n",
    "plt.show()"
   ]
  },
  {
   "cell_type": "code",
   "execution_count": 73,
   "id": "fcb70733",
   "metadata": {},
   "outputs": [
    {
     "data": {
      "text/plain": [
       "<Figure size 432x288 with 0 Axes>"
      ]
     },
     "metadata": {},
     "output_type": "display_data"
    },
    {
     "data": {
      "image/png": "[encoded data removed]",
      "text/plain": [
       "<Figure size 1296x720 with 4 Axes>"
      ]
     },
     "metadata": {
      "needs_background": "light"
     },
     "output_type": "display_data"
    }
   ],
   "source": [
    "plt.clf()\n",
    "plt.figure(figsize=(18,10))\n",
    "\n",
    "plt.subplot(2,2,1)\n",
    "plt.title('Scatter plot of Actual versus Predicted counts')\n",
    "plt.scatter(x=predicted_counts, y=actual_counts, marker='.')\n",
    "plt.xlabel('Predicted counts')\n",
    "plt.ylabel('Actual counts')\n",
    "\n",
    "plt.subplot(2,2,2)\n",
    "plt.title('Scatter plot of Actual versus Predicted counts(upsampled)')\n",
    "plt.scatter(x=predicted_counts_up, y=actual_counts_up, marker='.')\n",
    "plt.xlabel('Predicted counts')\n",
    "plt.ylabel('Actual counts')\n",
    "\n",
    "plt.subplot(2,2,3)\n",
    "plt.title('Scatter plot of Actual versus Predicted counts(smote)')\n",
    "plt.scatter(x=predicted_counts_smote, y=actual_counts_smote, marker='.')\n",
    "plt.xlabel('Predicted counts')\n",
    "plt.ylabel('Actual counts')\n",
    "\n",
    "plt.subplot(2,2,4)\n",
    "plt.title('Scatter plot of Actual versus Predicted counts(ADASYN)')\n",
    "plt.scatter(x=predicted_counts_adasyn, y=actual_counts_adasyn, marker='.')\n",
    "plt.xlabel('Predicted counts')\n",
    "plt.ylabel('Actual counts')\n",
    "\n",
    "\n",
    "\n",
    "plt.tight_layout()\n",
    "plt.show()"
   ]
  },
  {
   "cell_type": "markdown",
   "id": "5fd79df7",
   "metadata": {},
   "source": [
    "As we see from the figures, our first model predicted values around mostly 5-7. As we applied different algorithms, we can see that our predictions are distributed around 3-9. To conclude this part, i would choose ADASYN because they seem more accurate. "
   ]
  },
  {
   "cell_type": "code",
   "execution_count": 81,
   "id": "6b8de037",
   "metadata": {},
   "outputs": [
    {
     "name": "stdout",
     "output_type": "stream",
     "text": [
      "Collecting tensorflow\n",
      "  Using cached tensorflow-2.8.0-cp38-cp38-win_amd64.whl (438.0 MB)\n",
      "Requirement already satisfied: six>=1.12.0 in c:\\users\\hp\\anaconda3\\lib\\site-packages (from tensorflow) (1.16.0)\n",
      "Collecting tensorboard<2.9,>=2.8\n",
      "  Using cached tensorboard-2.8.0-py3-none-any.whl (5.8 MB)\n",
      "Collecting termcolor>=1.1.0\n",
      "  Using cached termcolor-1.1.0-py3-none-any.whl\n",
      "Collecting keras-preprocessing>=1.1.1\n",
      "  Using cached Keras_Preprocessing-1.1.2-py2.py3-none-any.whl (42 kB)\n",
      "Requirement already satisfied: h5py>=2.9.0 in c:\\users\\hp\\anaconda3\\lib\\site-packages (from tensorflow) (2.10.0)\n",
      "Collecting flatbuffers>=1.12\n",
      "  Using cached flatbuffers-2.0-py2.py3-none-any.whl (26 kB)\n",
      "Collecting absl-py>=0.4.0\n",
      "  Using cached absl_py-1.0.0-py3-none-any.whl (126 kB)\n",
      "Collecting tf-estimator-nightly==2.8.0.dev2021122109\n",
      "  Using cached tf_estimator_nightly-2.8.0.dev2021122109-py2.py3-none-any.whl (462 kB)\n",
      "Collecting opt-einsum>=2.3.2\n",
      "  Using cached opt_einsum-3.3.0-py3-none-any.whl (65 kB)\n",
      "Collecting keras<2.9,>=2.8.0rc0\n",
      "  Using cached keras-2.8.0-py2.py3-none-any.whl (1.4 MB)\n",
      "Collecting tensorflow-io-gcs-filesystem>=0.23.1\n",
      "  Using cached tensorflow_io_gcs_filesystem-0.24.0-cp38-cp38-win_amd64.whl (1.5 MB)\n",
      "Requirement already satisfied: protobuf>=3.9.2 in c:\\users\\hp\\anaconda3\\lib\\site-packages (from tensorflow) (3.19.4)\n",
      "Collecting astunparse>=1.6.0\n",
      "  Using cached astunparse-1.6.3-py2.py3-none-any.whl (12 kB)\n",
      "Collecting gast>=0.2.1\n",
      "  Using cached gast-0.5.3-py3-none-any.whl (19 kB)\n",
      "Collecting grpcio<2.0,>=1.24.3\n",
      "  Using cached grpcio-1.43.0-cp38-cp38-win_amd64.whl (3.4 MB)\n",
      "Requirement already satisfied: setuptools in c:\\users\\hp\\anaconda3\\lib\\site-packages (from tensorflow) (60.9.2)\n",
      "Requirement already satisfied: numpy>=1.20 in c:\\users\\hp\\anaconda3\\lib\\site-packages (from tensorflow) (1.20.1)\n",
      "Requirement already satisfied: typing-extensions>=3.6.6 in c:\\users\\hp\\anaconda3\\lib\\site-packages (from tensorflow) (3.7.4.3)\n",
      "Collecting google-pasta>=0.1.1\n",
      "  Using cached google_pasta-0.2.0-py3-none-any.whl (57 kB)\n",
      "Requirement already satisfied: wrapt>=1.11.0 in c:\\users\\hp\\anaconda3\\lib\\site-packages (from tensorflow) (1.12.1)\n",
      "Collecting libclang>=9.0.1\n",
      "  Using cached libclang-13.0.0-py2.py3-none-win_amd64.whl (13.9 MB)\n",
      "Requirement already satisfied: wheel<1.0,>=0.23.0 in c:\\users\\hp\\anaconda3\\lib\\site-packages (from astunparse>=1.6.0->tensorflow) (0.37.1)\n",
      "Note: you may need to restart the kernel to use updated packages.\n",
      "Collecting google-auth-oauthlib<0.5,>=0.4.1\n",
      "  Using cached google_auth_oauthlib-0.4.6-py2.py3-none-any.whl (18 kB)\n",
      "Requirement already satisfied: tensorboard-data-server<0.7.0,>=0.6.0 in c:\\users\\hp\\anaconda3\\lib\\site-packages (from tensorboard<2.9,>=2.8->tensorflow) (0.6.1)\n",
      "Requirement already satisfied: requests<3,>=2.21.0 in c:\\users\\hp\\anaconda3\\lib\\site-packages (from tensorboard<2.9,>=2.8->tensorflow) (2.27.1)\n",
      "Requirement already satisfied: google-auth<3,>=1.6.3 in c:\\users\\hp\\anaconda3\\lib\\site-packages (from tensorboard<2.9,>=2.8->tensorflow) (2.6.0)\n",
      "Requirement already satisfied: tensorboard-plugin-wit>=1.6.0 in c:\\users\\hp\\anaconda3\\lib\\site-packages (from tensorboard<2.9,>=2.8->tensorflow) (1.8.1)\n",
      "Collecting markdown>=2.6.8\n",
      "  Using cached Markdown-3.3.6-py3-none-any.whl (97 kB)\n",
      "Requirement already satisfied: werkzeug>=0.11.15 in c:\\users\\hp\\anaconda3\\lib\\site-packages (from tensorboard<2.9,>=2.8->tensorflow) (2.0.3)\n",
      "Requirement already satisfied: cachetools<6.0,>=2.0.0 in c:\\users\\hp\\anaconda3\\lib\\site-packages (from google-auth<3,>=1.6.3->tensorboard<2.9,>=2.8->tensorflow) (5.0.0)\n",
      "Requirement already satisfied: pyasn1-modules>=0.2.1 in c:\\users\\hp\\anaconda3\\lib\\site-packages (from google-auth<3,>=1.6.3->tensorboard<2.9,>=2.8->tensorflow) (0.2.8)\n",
      "Requirement already satisfied: rsa<5,>=3.1.4 in c:\\users\\hp\\anaconda3\\lib\\site-packages (from google-auth<3,>=1.6.3->tensorboard<2.9,>=2.8->tensorflow) (4.8)\n",
      "Requirement already satisfied: requests-oauthlib>=0.7.0 in c:\\users\\hp\\anaconda3\\lib\\site-packages (from google-auth-oauthlib<0.5,>=0.4.1->tensorboard<2.9,>=2.8->tensorflow) (1.3.1)\n",
      "Requirement already satisfied: importlib-metadata>=4.4 in c:\\users\\hp\\anaconda3\\lib\\site-packages (from markdown>=2.6.8->tensorboard<2.9,>=2.8->tensorflow) (4.11.1)\n",
      "Requirement already satisfied: zipp>=0.5 in c:\\users\\hp\\anaconda3\\lib\\site-packages (from importlib-metadata>=4.4->markdown>=2.6.8->tensorboard<2.9,>=2.8->tensorflow) (3.7.0)\n",
      "Requirement already satisfied: pyasn1<0.5.0,>=0.4.6 in c:\\users\\hp\\anaconda3\\lib\\site-packages (from pyasn1-modules>=0.2.1->google-auth<3,>=1.6.3->tensorboard<2.9,>=2.8->tensorflow) (0.4.8)\n",
      "Requirement already satisfied: certifi>=2017.4.17 in c:\\users\\hp\\anaconda3\\lib\\site-packages (from requests<3,>=2.21.0->tensorboard<2.9,>=2.8->tensorflow) (2021.10.8)\n",
      "Requirement already satisfied: charset-normalizer~=2.0.0 in c:\\users\\hp\\anaconda3\\lib\\site-packages (from requests<3,>=2.21.0->tensorboard<2.9,>=2.8->tensorflow) (2.0.12)\n",
      "Requirement already satisfied: idna<4,>=2.5 in c:\\users\\hp\\anaconda3\\lib\\site-packages (from requests<3,>=2.21.0->tensorboard<2.9,>=2.8->tensorflow) (3.3)\n",
      "Requirement already satisfied: urllib3<1.27,>=1.21.1 in c:\\users\\hp\\anaconda3\\lib\\site-packages (from requests<3,>=2.21.0->tensorboard<2.9,>=2.8->tensorflow) (1.26.8)\n",
      "Requirement already satisfied: oauthlib>=3.0.0 in c:\\users\\hp\\anaconda3\\lib\\site-packages (from requests-oauthlib>=0.7.0->google-auth-oauthlib<0.5,>=0.4.1->tensorboard<2.9,>=2.8->tensorflow) (3.2.0)\n",
      "Installing collected packages: markdown, grpcio, google-auth-oauthlib, absl-py, tf-estimator-nightly, termcolor, tensorflow-io-gcs-filesystem, tensorboard, opt-einsum, libclang, keras-preprocessing, keras, google-pasta, gast, flatbuffers, astunparse, tensorflow\n",
      "Successfully installed absl-py-1.0.0 astunparse-1.6.3 flatbuffers-2.0 gast-0.5.3 google-auth-oauthlib-0.4.6 google-pasta-0.2.0 grpcio-1.43.0 keras-2.8.0 keras-preprocessing-1.1.2 libclang-13.0.0 markdown-3.3.6 opt-einsum-3.3.0 tensorboard-2.8.0 tensorflow-2.8.0 tensorflow-io-gcs-filesystem-0.24.0 termcolor-1.1.0 tf-estimator-nightly-2.8.0.dev2021122109\n"
     ]
    }
   ],
   "source": [
    "pip install tensorflow"
   ]
  },
  {
   "cell_type": "code",
   "execution_count": 139,
   "id": "ffdfe432",
   "metadata": {},
   "outputs": [
    {
     "name": "stdout",
     "output_type": "stream",
     "text": [
      "Shape of train set (X) : (5197, 11)\n",
      "Shape of train set (y) : (5197,)\n",
      "Shape of test set  (X) : (1300, 11)\n",
      "Shape of test set  (y) : (1300,)\n"
     ]
    }
   ],
   "source": [
    "from tensorflow.keras.datasets import mnist\n",
    "print(\"Shape of train set (X) :\", X_train_quality.shape)\n",
    "print(\"Shape of train set (y) :\", y_train_quality.shape)\n",
    "print(\"Shape of test set  (X) :\", X_test_quality.shape)\n",
    "print(\"Shape of test set  (y) :\", y_test_quality.shape)"
   ]
  },
  {
   "cell_type": "code",
   "execution_count": 141,
   "id": "1894683c",
   "metadata": {},
   "outputs": [],
   "source": [
    "input_number = X_train_quality.shape[1]"
   ]
  },
  {
   "cell_type": "code",
   "execution_count": 142,
   "id": "98eee516",
   "metadata": {},
   "outputs": [],
   "source": [
    "mnist_model = Sequential()\n",
    "mnist_model.add(Dense(32,\n",
    "                      activation='relu', \n",
    "                      input_shape = (input_number,), \n",
    "                      name = \"Hidden_Layer_1\"))\n",
    "mnist_model.add(Dense(8,\n",
    "                      activation='relu', \n",
    "                      name = \"Hidden_Layer_2\"))\n",
    "mnist_model.add(Dense(10,\n",
    "                      activation='softmax',\n",
    "                      name = \"Output\"))"
   ]
  },
  {
   "cell_type": "code",
   "execution_count": 143,
   "id": "4afb9dc0",
   "metadata": {},
   "outputs": [
    {
     "name": "stdout",
     "output_type": "stream",
     "text": [
      "Model: \"sequential_4\"\n",
      "_________________________________________________________________\n",
      " Layer (type)                Output Shape              Param #   \n",
      "=================================================================\n",
      " Hidden_Layer_1 (Dense)      (None, 32)                384       \n",
      "                                                                 \n",
      " Hidden_Layer_2 (Dense)      (None, 8)                 264       \n",
      "                                                                 \n",
      " Output (Dense)              (None, 10)                90        \n",
      "                                                                 \n",
      "=================================================================\n",
      "Total params: 738\n",
      "Trainable params: 738\n",
      "Non-trainable params: 0\n",
      "_________________________________________________________________\n"
     ]
    }
   ],
   "source": [
    "mnist_model.summary()"
   ]
  },
  {
   "cell_type": "code",
   "execution_count": 144,
   "id": "cf6d7d3d",
   "metadata": {},
   "outputs": [],
   "source": [
    "mnist_model.compile(optimizer='sgd', loss='categorical_crossentropy', metrics=['accuracy'])"
   ]
  },
  {
   "cell_type": "code",
   "execution_count": 145,
   "id": "87be041d",
   "metadata": {},
   "outputs": [
    {
     "name": "stdout",
     "output_type": "stream",
     "text": [
      "Shape of target :  (5197, 10)\n"
     ]
    }
   ],
   "source": [
    "from tensorflow.keras.utils import to_categorical\n",
    "y_train_categorical = to_categorical(y_train_quality, 10)\n",
    "y_test_categorical = to_categorical(y_test_quality, 10)\n",
    "\n",
    "print(\"Shape of target : \", y_train_categorical.shape)"
   ]
  },
  {
   "cell_type": "code",
   "execution_count": 148,
   "id": "0e88f7eb",
   "metadata": {},
   "outputs": [
    {
     "data": {
      "text/plain": [
       "<keras.callbacks.History at 0x201c99e7820>"
      ]
     },
     "execution_count": 148,
     "metadata": {},
     "output_type": "execute_result"
    }
   ],
   "source": [
    "mnist_model.fit(X_train_quality, y_train_categorical, epochs=20, verbose=0)"
   ]
  },
  {
   "cell_type": "code",
   "execution_count": 149,
   "id": "325c74a1",
   "metadata": {},
   "outputs": [
    {
     "name": "stdout",
     "output_type": "stream",
     "text": [
      "\n",
      "Accuracy for train set : 0.440\n",
      "\n",
      "Accuracy for train set : 0.458\n"
     ]
    }
   ],
   "source": [
    "accuracy_train = mnist_model.evaluate(X_train_quality, y_train_categorical, verbose = 0)[1]\n",
    "accuracy_test = mnist_model.evaluate(X_test_quality, y_test_categorical, verbose = 0)[1]\n",
    "\n",
    "print(\"\\nAccuracy for train set : {:.3f}\".format(accuracy_train))\n",
    "print(\"\\nAccuracy for train set : {:.3f}\".format(accuracy_test))"
   ]
  }
 ],
 "metadata": {
  "kernelspec": {
   "display_name": "Python 3",
   "language": "python",
   "name": "python3"
  },
  "language_info": {
   "codemirror_mode": {
    "name": "ipython",
    "version": 3
   },
   "file_extension": ".py",
   "mimetype": "text/x-python",
   "name": "python",
   "nbconvert_exporter": "python",
   "pygments_lexer": "ipython3",
   "version": "3.8.8"
  }
 },
 "nbformat": 4,
 "nbformat_minor": 5
}
