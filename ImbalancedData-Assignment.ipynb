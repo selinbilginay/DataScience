{
 "cells": [
  {
   "cell_type": "code",
   "execution_count": 137,
   "id": "8f41e5b7",
   "metadata": {},
   "outputs": [],
   "source": [
    "import pandas as pd\n",
    "import numpy as np\n",
    "import matplotlib.pyplot as plt\n",
    "import seaborn as sns\n",
    "import warnings\n",
    "warnings.filterwarnings('ignore')"
   ]
  },
  {
   "cell_type": "code",
   "execution_count": 30,
   "id": "04be5aca",
   "metadata": {},
   "outputs": [],
   "source": [
    "risk_heart=pd.read_csv('C:/Users/Hp/Desktop/risk_heart.txt')"
   ]
  },
  {
   "cell_type": "code",
   "execution_count": 31,
   "id": "5ded0223",
   "metadata": {},
   "outputs": [
    {
     "data": {
      "text/html": [
       "<div>\n",
       "<style scoped>\n",
       "    .dataframe tbody tr th:only-of-type {\n",
       "        vertical-align: middle;\n",
       "    }\n",
       "\n",
       "    .dataframe tbody tr th {\n",
       "        vertical-align: top;\n",
       "    }\n",
       "\n",
       "    .dataframe thead th {\n",
       "        text-align: right;\n",
       "    }\n",
       "</style>\n",
       "<table border=\"1\" class=\"dataframe\">\n",
       "  <thead>\n",
       "    <tr style=\"text-align: right;\">\n",
       "      <th></th>\n",
       "      <th>Age</th>\n",
       "      <th>Sex</th>\n",
       "      <th>CP</th>\n",
       "      <th>Trestbps</th>\n",
       "      <th>Chol</th>\n",
       "      <th>Fbs</th>\n",
       "      <th>Restecg</th>\n",
       "      <th>Thalach</th>\n",
       "      <th>Exang</th>\n",
       "      <th>Oldpeak</th>\n",
       "      <th>Slope</th>\n",
       "      <th>Ca</th>\n",
       "      <th>Thal</th>\n",
       "      <th>Num</th>\n",
       "    </tr>\n",
       "  </thead>\n",
       "  <tbody>\n",
       "    <tr>\n",
       "      <th>0</th>\n",
       "      <td>63.0</td>\n",
       "      <td>1.0</td>\n",
       "      <td>1.0</td>\n",
       "      <td>145.0</td>\n",
       "      <td>233.0</td>\n",
       "      <td>1.0</td>\n",
       "      <td>2.0</td>\n",
       "      <td>150.0</td>\n",
       "      <td>0.0</td>\n",
       "      <td>2.3</td>\n",
       "      <td>3.0</td>\n",
       "      <td>0.0</td>\n",
       "      <td>6.0</td>\n",
       "      <td>negative</td>\n",
       "    </tr>\n",
       "    <tr>\n",
       "      <th>1</th>\n",
       "      <td>37.0</td>\n",
       "      <td>1.0</td>\n",
       "      <td>3.0</td>\n",
       "      <td>130.0</td>\n",
       "      <td>250.0</td>\n",
       "      <td>0.0</td>\n",
       "      <td>0.0</td>\n",
       "      <td>187.0</td>\n",
       "      <td>0.0</td>\n",
       "      <td>3.5</td>\n",
       "      <td>3.0</td>\n",
       "      <td>0.0</td>\n",
       "      <td>3.0</td>\n",
       "      <td>negative</td>\n",
       "    </tr>\n",
       "    <tr>\n",
       "      <th>2</th>\n",
       "      <td>41.0</td>\n",
       "      <td>0.0</td>\n",
       "      <td>2.0</td>\n",
       "      <td>130.0</td>\n",
       "      <td>204.0</td>\n",
       "      <td>0.0</td>\n",
       "      <td>2.0</td>\n",
       "      <td>172.0</td>\n",
       "      <td>0.0</td>\n",
       "      <td>1.4</td>\n",
       "      <td>1.0</td>\n",
       "      <td>0.0</td>\n",
       "      <td>3.0</td>\n",
       "      <td>negative</td>\n",
       "    </tr>\n",
       "    <tr>\n",
       "      <th>3</th>\n",
       "      <td>56.0</td>\n",
       "      <td>1.0</td>\n",
       "      <td>2.0</td>\n",
       "      <td>120.0</td>\n",
       "      <td>236.0</td>\n",
       "      <td>0.0</td>\n",
       "      <td>0.0</td>\n",
       "      <td>178.0</td>\n",
       "      <td>0.0</td>\n",
       "      <td>0.8</td>\n",
       "      <td>1.0</td>\n",
       "      <td>0.0</td>\n",
       "      <td>3.0</td>\n",
       "      <td>negative</td>\n",
       "    </tr>\n",
       "    <tr>\n",
       "      <th>4</th>\n",
       "      <td>57.0</td>\n",
       "      <td>0.0</td>\n",
       "      <td>4.0</td>\n",
       "      <td>120.0</td>\n",
       "      <td>354.0</td>\n",
       "      <td>0.0</td>\n",
       "      <td>0.0</td>\n",
       "      <td>163.0</td>\n",
       "      <td>1.0</td>\n",
       "      <td>0.6</td>\n",
       "      <td>1.0</td>\n",
       "      <td>0.0</td>\n",
       "      <td>3.0</td>\n",
       "      <td>negative</td>\n",
       "    </tr>\n",
       "    <tr>\n",
       "      <th>...</th>\n",
       "      <td>...</td>\n",
       "      <td>...</td>\n",
       "      <td>...</td>\n",
       "      <td>...</td>\n",
       "      <td>...</td>\n",
       "      <td>...</td>\n",
       "      <td>...</td>\n",
       "      <td>...</td>\n",
       "      <td>...</td>\n",
       "      <td>...</td>\n",
       "      <td>...</td>\n",
       "      <td>...</td>\n",
       "      <td>...</td>\n",
       "      <td>...</td>\n",
       "    </tr>\n",
       "    <tr>\n",
       "      <th>172</th>\n",
       "      <td>64.0</td>\n",
       "      <td>1.0</td>\n",
       "      <td>4.0</td>\n",
       "      <td>145.0</td>\n",
       "      <td>212.0</td>\n",
       "      <td>0.0</td>\n",
       "      <td>2.0</td>\n",
       "      <td>132.0</td>\n",
       "      <td>0.0</td>\n",
       "      <td>2.0</td>\n",
       "      <td>2.0</td>\n",
       "      <td>2.0</td>\n",
       "      <td>6.0</td>\n",
       "      <td>positive</td>\n",
       "    </tr>\n",
       "    <tr>\n",
       "      <th>173</th>\n",
       "      <td>38.0</td>\n",
       "      <td>1.0</td>\n",
       "      <td>1.0</td>\n",
       "      <td>120.0</td>\n",
       "      <td>231.0</td>\n",
       "      <td>0.0</td>\n",
       "      <td>0.0</td>\n",
       "      <td>182.0</td>\n",
       "      <td>1.0</td>\n",
       "      <td>3.8</td>\n",
       "      <td>2.0</td>\n",
       "      <td>0.0</td>\n",
       "      <td>7.0</td>\n",
       "      <td>positive</td>\n",
       "    </tr>\n",
       "    <tr>\n",
       "      <th>174</th>\n",
       "      <td>61.0</td>\n",
       "      <td>1.0</td>\n",
       "      <td>4.0</td>\n",
       "      <td>138.0</td>\n",
       "      <td>166.0</td>\n",
       "      <td>0.0</td>\n",
       "      <td>2.0</td>\n",
       "      <td>125.0</td>\n",
       "      <td>1.0</td>\n",
       "      <td>3.6</td>\n",
       "      <td>2.0</td>\n",
       "      <td>1.0</td>\n",
       "      <td>3.0</td>\n",
       "      <td>positive</td>\n",
       "    </tr>\n",
       "    <tr>\n",
       "      <th>175</th>\n",
       "      <td>58.0</td>\n",
       "      <td>1.0</td>\n",
       "      <td>4.0</td>\n",
       "      <td>114.0</td>\n",
       "      <td>318.0</td>\n",
       "      <td>0.0</td>\n",
       "      <td>1.0</td>\n",
       "      <td>140.0</td>\n",
       "      <td>0.0</td>\n",
       "      <td>4.4</td>\n",
       "      <td>3.0</td>\n",
       "      <td>3.0</td>\n",
       "      <td>6.0</td>\n",
       "      <td>positive</td>\n",
       "    </tr>\n",
       "    <tr>\n",
       "      <th>176</th>\n",
       "      <td>70.0</td>\n",
       "      <td>1.0</td>\n",
       "      <td>4.0</td>\n",
       "      <td>145.0</td>\n",
       "      <td>174.0</td>\n",
       "      <td>0.0</td>\n",
       "      <td>0.0</td>\n",
       "      <td>125.0</td>\n",
       "      <td>1.0</td>\n",
       "      <td>2.6</td>\n",
       "      <td>3.0</td>\n",
       "      <td>0.0</td>\n",
       "      <td>7.0</td>\n",
       "      <td>positive</td>\n",
       "    </tr>\n",
       "  </tbody>\n",
       "</table>\n",
       "<p>177 rows × 14 columns</p>\n",
       "</div>"
      ],
      "text/plain": [
       "      Age  Sex   CP  Trestbps   Chol  Fbs  Restecg  Thalach  Exang  Oldpeak  \\\n",
       "0    63.0  1.0  1.0     145.0  233.0  1.0      2.0    150.0    0.0      2.3   \n",
       "1    37.0  1.0  3.0     130.0  250.0  0.0      0.0    187.0    0.0      3.5   \n",
       "2    41.0  0.0  2.0     130.0  204.0  0.0      2.0    172.0    0.0      1.4   \n",
       "3    56.0  1.0  2.0     120.0  236.0  0.0      0.0    178.0    0.0      0.8   \n",
       "4    57.0  0.0  4.0     120.0  354.0  0.0      0.0    163.0    1.0      0.6   \n",
       "..    ...  ...  ...       ...    ...  ...      ...      ...    ...      ...   \n",
       "172  64.0  1.0  4.0     145.0  212.0  0.0      2.0    132.0    0.0      2.0   \n",
       "173  38.0  1.0  1.0     120.0  231.0  0.0      0.0    182.0    1.0      3.8   \n",
       "174  61.0  1.0  4.0     138.0  166.0  0.0      2.0    125.0    1.0      3.6   \n",
       "175  58.0  1.0  4.0     114.0  318.0  0.0      1.0    140.0    0.0      4.4   \n",
       "176  70.0  1.0  4.0     145.0  174.0  0.0      0.0    125.0    1.0      2.6   \n",
       "\n",
       "     Slope   Ca Thal       Num  \n",
       "0      3.0  0.0  6.0  negative  \n",
       "1      3.0  0.0  3.0  negative  \n",
       "2      1.0  0.0  3.0  negative  \n",
       "3      1.0  0.0  3.0  negative  \n",
       "4      1.0  0.0  3.0  negative  \n",
       "..     ...  ...  ...       ...  \n",
       "172    2.0  2.0  6.0  positive  \n",
       "173    2.0  0.0  7.0  positive  \n",
       "174    2.0  1.0  3.0  positive  \n",
       "175    3.0  3.0  6.0  positive  \n",
       "176    3.0  0.0  7.0  positive  \n",
       "\n",
       "[177 rows x 14 columns]"
      ]
     },
     "execution_count": 31,
     "metadata": {},
     "output_type": "execute_result"
    }
   ],
   "source": [
    "risk_heart"
   ]
  },
  {
   "cell_type": "code",
   "execution_count": 32,
   "id": "9f1945e7",
   "metadata": {},
   "outputs": [
    {
     "name": "stdout",
     "output_type": "stream",
     "text": [
      "<class 'pandas.core.frame.DataFrame'>\n",
      "RangeIndex: 177 entries, 0 to 176\n",
      "Data columns (total 14 columns):\n",
      " #   Column    Non-Null Count  Dtype  \n",
      "---  ------    --------------  -----  \n",
      " 0   Age       177 non-null    float64\n",
      " 1   Sex       177 non-null    float64\n",
      " 2   CP        177 non-null    float64\n",
      " 3   Trestbps  177 non-null    float64\n",
      " 4   Chol      177 non-null    float64\n",
      " 5   Fbs       177 non-null    float64\n",
      " 6   Restecg   177 non-null    float64\n",
      " 7   Thalach   177 non-null    float64\n",
      " 8   Exang     177 non-null    float64\n",
      " 9   Oldpeak   177 non-null    float64\n",
      " 10  Slope     177 non-null    float64\n",
      " 11  Ca        177 non-null    object \n",
      " 12  Thal      177 non-null    object \n",
      " 13  Num       177 non-null    object \n",
      "dtypes: float64(11), object(3)\n",
      "memory usage: 19.5+ KB\n"
     ]
    }
   ],
   "source": [
    "risk_heart.info()"
   ]
  },
  {
   "cell_type": "code",
   "execution_count": 37,
   "id": "9c1ae62e",
   "metadata": {},
   "outputs": [],
   "source": [
    "risk_heart['Age']=risk_heart['Age'].astype(\"int\")\n",
    "risk_heart['Sex']=risk_heart['Sex'].astype(\"int\")\n",
    "risk_heart['CP']=risk_heart['CP'].astype(\"int\")\n",
    "risk_heart['Trestbps']=risk_heart['Trestbps'].astype(\"int\")\n",
    "risk_heart['Chol']=risk_heart['Chol'].astype(\"int\")\n",
    "risk_heart['Fbs']=risk_heart['Fbs'].astype(\"int\")\n",
    "risk_heart['Restecg']=risk_heart['Restecg'].astype(\"int\")\n",
    "risk_heart['Thalach']=risk_heart['Thalach'].astype(\"int\")\n",
    "risk_heart['Exang']=risk_heart['Exang'].astype(\"int\")\n",
    "risk_heart['Slope']=risk_heart['Slope'].astype(\"int\")"
   ]
  },
  {
   "cell_type": "code",
   "execution_count": 38,
   "id": "6c4a54e8",
   "metadata": {},
   "outputs": [
    {
     "name": "stdout",
     "output_type": "stream",
     "text": [
      "<class 'pandas.core.frame.DataFrame'>\n",
      "RangeIndex: 177 entries, 0 to 176\n",
      "Data columns (total 14 columns):\n",
      " #   Column    Non-Null Count  Dtype  \n",
      "---  ------    --------------  -----  \n",
      " 0   Age       177 non-null    int32  \n",
      " 1   Sex       177 non-null    int32  \n",
      " 2   CP        177 non-null    int32  \n",
      " 3   Trestbps  177 non-null    int32  \n",
      " 4   Chol      177 non-null    int32  \n",
      " 5   Fbs       177 non-null    int32  \n",
      " 6   Restecg   177 non-null    int32  \n",
      " 7   Thalach   177 non-null    int32  \n",
      " 8   Exang     177 non-null    int32  \n",
      " 9   Oldpeak   177 non-null    float64\n",
      " 10  Slope     177 non-null    int32  \n",
      " 11  Ca        177 non-null    object \n",
      " 12  Thal      177 non-null    object \n",
      " 13  Num       177 non-null    object \n",
      "dtypes: float64(1), int32(10), object(3)\n",
      "memory usage: 12.6+ KB\n"
     ]
    }
   ],
   "source": [
    "risk_heart.info()"
   ]
  },
  {
   "cell_type": "code",
   "execution_count": 51,
   "id": "dd68cf37",
   "metadata": {},
   "outputs": [
    {
     "data": {
      "text/plain": [
       "array(['0.0', '2.0', '1.0', '3.0'], dtype=object)"
      ]
     },
     "execution_count": 51,
     "metadata": {},
     "output_type": "execute_result"
    }
   ],
   "source": [
    "risk_heart.Ca.unique()"
   ]
  },
  {
   "cell_type": "code",
   "execution_count": 52,
   "id": "db500da6",
   "metadata": {},
   "outputs": [
    {
     "data": {
      "text/plain": [
       "array(['6.0', '3.0', '7.0'], dtype=object)"
      ]
     },
     "execution_count": 52,
     "metadata": {},
     "output_type": "execute_result"
    }
   ],
   "source": [
    "risk_heart.Thal.unique()"
   ]
  },
  {
   "cell_type": "code",
   "execution_count": 44,
   "id": "b9160ab2",
   "metadata": {},
   "outputs": [
    {
     "data": {
      "text/plain": [
       "array(['negative', 'positive'], dtype=object)"
      ]
     },
     "execution_count": 44,
     "metadata": {},
     "output_type": "execute_result"
    }
   ],
   "source": [
    "risk_heart.Num.unique()"
   ]
  },
  {
   "cell_type": "code",
   "execution_count": 45,
   "id": "8fdc6290",
   "metadata": {},
   "outputs": [
    {
     "data": {
      "text/html": [
       "<div>\n",
       "<style scoped>\n",
       "    .dataframe tbody tr th:only-of-type {\n",
       "        vertical-align: middle;\n",
       "    }\n",
       "\n",
       "    .dataframe tbody tr th {\n",
       "        vertical-align: top;\n",
       "    }\n",
       "\n",
       "    .dataframe thead th {\n",
       "        text-align: right;\n",
       "    }\n",
       "</style>\n",
       "<table border=\"1\" class=\"dataframe\">\n",
       "  <thead>\n",
       "    <tr style=\"text-align: right;\">\n",
       "      <th></th>\n",
       "      <th>Age</th>\n",
       "      <th>Sex</th>\n",
       "      <th>CP</th>\n",
       "      <th>Trestbps</th>\n",
       "      <th>Chol</th>\n",
       "      <th>Fbs</th>\n",
       "      <th>Restecg</th>\n",
       "      <th>Thalach</th>\n",
       "      <th>Exang</th>\n",
       "      <th>Oldpeak</th>\n",
       "      <th>Slope</th>\n",
       "      <th>Ca</th>\n",
       "      <th>Thal</th>\n",
       "      <th>Num</th>\n",
       "    </tr>\n",
       "  </thead>\n",
       "  <tbody>\n",
       "    <tr>\n",
       "      <th>44</th>\n",
       "      <td>53</td>\n",
       "      <td>0</td>\n",
       "      <td>3</td>\n",
       "      <td>128</td>\n",
       "      <td>216</td>\n",
       "      <td>0</td>\n",
       "      <td>2</td>\n",
       "      <td>115</td>\n",
       "      <td>0</td>\n",
       "      <td>0.0</td>\n",
       "      <td>1</td>\n",
       "      <td>0.0</td>\n",
       "      <td>&lt;null&gt;</td>\n",
       "      <td>negative</td>\n",
       "    </tr>\n",
       "  </tbody>\n",
       "</table>\n",
       "</div>"
      ],
      "text/plain": [
       "    Age  Sex  CP  Trestbps  Chol  Fbs  Restecg  Thalach  Exang  Oldpeak  \\\n",
       "44   53    0   3       128   216    0        2      115      0      0.0   \n",
       "\n",
       "    Slope   Ca    Thal       Num  \n",
       "44      1  0.0  <null>  negative  "
      ]
     },
     "execution_count": 45,
     "metadata": {},
     "output_type": "execute_result"
    }
   ],
   "source": [
    "risk_heart[risk_heart['Thal']==\"<null>\"]"
   ]
  },
  {
   "cell_type": "code",
   "execution_count": 46,
   "id": "4c9c6d97",
   "metadata": {},
   "outputs": [
    {
     "data": {
      "text/html": [
       "<div>\n",
       "<style scoped>\n",
       "    .dataframe tbody tr th:only-of-type {\n",
       "        vertical-align: middle;\n",
       "    }\n",
       "\n",
       "    .dataframe tbody tr th {\n",
       "        vertical-align: top;\n",
       "    }\n",
       "\n",
       "    .dataframe thead th {\n",
       "        text-align: right;\n",
       "    }\n",
       "</style>\n",
       "<table border=\"1\" class=\"dataframe\">\n",
       "  <thead>\n",
       "    <tr style=\"text-align: right;\">\n",
       "      <th></th>\n",
       "      <th>Age</th>\n",
       "      <th>Sex</th>\n",
       "      <th>CP</th>\n",
       "      <th>Trestbps</th>\n",
       "      <th>Chol</th>\n",
       "      <th>Fbs</th>\n",
       "      <th>Restecg</th>\n",
       "      <th>Thalach</th>\n",
       "      <th>Exang</th>\n",
       "      <th>Oldpeak</th>\n",
       "      <th>Slope</th>\n",
       "      <th>Ca</th>\n",
       "      <th>Thal</th>\n",
       "      <th>Num</th>\n",
       "    </tr>\n",
       "  </thead>\n",
       "  <tbody>\n",
       "    <tr>\n",
       "      <th>85</th>\n",
       "      <td>52</td>\n",
       "      <td>1</td>\n",
       "      <td>3</td>\n",
       "      <td>138</td>\n",
       "      <td>223</td>\n",
       "      <td>0</td>\n",
       "      <td>0</td>\n",
       "      <td>169</td>\n",
       "      <td>0</td>\n",
       "      <td>0.0</td>\n",
       "      <td>1</td>\n",
       "      <td>&lt;null&gt;</td>\n",
       "      <td>3.0</td>\n",
       "      <td>negative</td>\n",
       "    </tr>\n",
       "    <tr>\n",
       "      <th>142</th>\n",
       "      <td>58</td>\n",
       "      <td>1</td>\n",
       "      <td>2</td>\n",
       "      <td>125</td>\n",
       "      <td>220</td>\n",
       "      <td>0</td>\n",
       "      <td>0</td>\n",
       "      <td>144</td>\n",
       "      <td>0</td>\n",
       "      <td>0.4</td>\n",
       "      <td>2</td>\n",
       "      <td>&lt;null&gt;</td>\n",
       "      <td>7.0</td>\n",
       "      <td>negative</td>\n",
       "    </tr>\n",
       "    <tr>\n",
       "      <th>146</th>\n",
       "      <td>38</td>\n",
       "      <td>1</td>\n",
       "      <td>3</td>\n",
       "      <td>138</td>\n",
       "      <td>175</td>\n",
       "      <td>0</td>\n",
       "      <td>0</td>\n",
       "      <td>173</td>\n",
       "      <td>0</td>\n",
       "      <td>0.0</td>\n",
       "      <td>1</td>\n",
       "      <td>&lt;null&gt;</td>\n",
       "      <td>3.0</td>\n",
       "      <td>negative</td>\n",
       "    </tr>\n",
       "  </tbody>\n",
       "</table>\n",
       "</div>"
      ],
      "text/plain": [
       "     Age  Sex  CP  Trestbps  Chol  Fbs  Restecg  Thalach  Exang  Oldpeak  \\\n",
       "85    52    1   3       138   223    0        0      169      0      0.0   \n",
       "142   58    1   2       125   220    0        0      144      0      0.4   \n",
       "146   38    1   3       138   175    0        0      173      0      0.0   \n",
       "\n",
       "     Slope      Ca Thal       Num  \n",
       "85       1  <null>  3.0  negative  \n",
       "142      2  <null>  7.0  negative  \n",
       "146      1  <null>  3.0  negative  "
      ]
     },
     "execution_count": 46,
     "metadata": {},
     "output_type": "execute_result"
    }
   ],
   "source": [
    "risk_heart[risk_heart['Ca']==\"<null>\"]"
   ]
  },
  {
   "cell_type": "code",
   "execution_count": 47,
   "id": "7289e49b",
   "metadata": {},
   "outputs": [],
   "source": [
    "risk_heart=risk_heart.drop([risk_heart.index[44],risk_heart.index[85],risk_heart.index[142],risk_heart.index[146],])"
   ]
  },
  {
   "cell_type": "code",
   "execution_count": 48,
   "id": "2a79bf82",
   "metadata": {},
   "outputs": [
    {
     "data": {
      "text/html": [
       "<div>\n",
       "<style scoped>\n",
       "    .dataframe tbody tr th:only-of-type {\n",
       "        vertical-align: middle;\n",
       "    }\n",
       "\n",
       "    .dataframe tbody tr th {\n",
       "        vertical-align: top;\n",
       "    }\n",
       "\n",
       "    .dataframe thead th {\n",
       "        text-align: right;\n",
       "    }\n",
       "</style>\n",
       "<table border=\"1\" class=\"dataframe\">\n",
       "  <thead>\n",
       "    <tr style=\"text-align: right;\">\n",
       "      <th></th>\n",
       "      <th>index</th>\n",
       "      <th>Age</th>\n",
       "      <th>Sex</th>\n",
       "      <th>CP</th>\n",
       "      <th>Trestbps</th>\n",
       "      <th>Chol</th>\n",
       "      <th>Fbs</th>\n",
       "      <th>Restecg</th>\n",
       "      <th>Thalach</th>\n",
       "      <th>Exang</th>\n",
       "      <th>Oldpeak</th>\n",
       "      <th>Slope</th>\n",
       "      <th>Ca</th>\n",
       "      <th>Thal</th>\n",
       "      <th>Num</th>\n",
       "    </tr>\n",
       "  </thead>\n",
       "  <tbody>\n",
       "    <tr>\n",
       "      <th>0</th>\n",
       "      <td>0</td>\n",
       "      <td>63</td>\n",
       "      <td>1</td>\n",
       "      <td>1</td>\n",
       "      <td>145</td>\n",
       "      <td>233</td>\n",
       "      <td>1</td>\n",
       "      <td>2</td>\n",
       "      <td>150</td>\n",
       "      <td>0</td>\n",
       "      <td>2.3</td>\n",
       "      <td>3</td>\n",
       "      <td>0.0</td>\n",
       "      <td>6.0</td>\n",
       "      <td>negative</td>\n",
       "    </tr>\n",
       "    <tr>\n",
       "      <th>1</th>\n",
       "      <td>1</td>\n",
       "      <td>37</td>\n",
       "      <td>1</td>\n",
       "      <td>3</td>\n",
       "      <td>130</td>\n",
       "      <td>250</td>\n",
       "      <td>0</td>\n",
       "      <td>0</td>\n",
       "      <td>187</td>\n",
       "      <td>0</td>\n",
       "      <td>3.5</td>\n",
       "      <td>3</td>\n",
       "      <td>0.0</td>\n",
       "      <td>3.0</td>\n",
       "      <td>negative</td>\n",
       "    </tr>\n",
       "    <tr>\n",
       "      <th>2</th>\n",
       "      <td>2</td>\n",
       "      <td>41</td>\n",
       "      <td>0</td>\n",
       "      <td>2</td>\n",
       "      <td>130</td>\n",
       "      <td>204</td>\n",
       "      <td>0</td>\n",
       "      <td>2</td>\n",
       "      <td>172</td>\n",
       "      <td>0</td>\n",
       "      <td>1.4</td>\n",
       "      <td>1</td>\n",
       "      <td>0.0</td>\n",
       "      <td>3.0</td>\n",
       "      <td>negative</td>\n",
       "    </tr>\n",
       "    <tr>\n",
       "      <th>3</th>\n",
       "      <td>3</td>\n",
       "      <td>56</td>\n",
       "      <td>1</td>\n",
       "      <td>2</td>\n",
       "      <td>120</td>\n",
       "      <td>236</td>\n",
       "      <td>0</td>\n",
       "      <td>0</td>\n",
       "      <td>178</td>\n",
       "      <td>0</td>\n",
       "      <td>0.8</td>\n",
       "      <td>1</td>\n",
       "      <td>0.0</td>\n",
       "      <td>3.0</td>\n",
       "      <td>negative</td>\n",
       "    </tr>\n",
       "    <tr>\n",
       "      <th>4</th>\n",
       "      <td>4</td>\n",
       "      <td>57</td>\n",
       "      <td>0</td>\n",
       "      <td>4</td>\n",
       "      <td>120</td>\n",
       "      <td>354</td>\n",
       "      <td>0</td>\n",
       "      <td>0</td>\n",
       "      <td>163</td>\n",
       "      <td>1</td>\n",
       "      <td>0.6</td>\n",
       "      <td>1</td>\n",
       "      <td>0.0</td>\n",
       "      <td>3.0</td>\n",
       "      <td>negative</td>\n",
       "    </tr>\n",
       "    <tr>\n",
       "      <th>...</th>\n",
       "      <td>...</td>\n",
       "      <td>...</td>\n",
       "      <td>...</td>\n",
       "      <td>...</td>\n",
       "      <td>...</td>\n",
       "      <td>...</td>\n",
       "      <td>...</td>\n",
       "      <td>...</td>\n",
       "      <td>...</td>\n",
       "      <td>...</td>\n",
       "      <td>...</td>\n",
       "      <td>...</td>\n",
       "      <td>...</td>\n",
       "      <td>...</td>\n",
       "      <td>...</td>\n",
       "    </tr>\n",
       "    <tr>\n",
       "      <th>168</th>\n",
       "      <td>172</td>\n",
       "      <td>64</td>\n",
       "      <td>1</td>\n",
       "      <td>4</td>\n",
       "      <td>145</td>\n",
       "      <td>212</td>\n",
       "      <td>0</td>\n",
       "      <td>2</td>\n",
       "      <td>132</td>\n",
       "      <td>0</td>\n",
       "      <td>2.0</td>\n",
       "      <td>2</td>\n",
       "      <td>2.0</td>\n",
       "      <td>6.0</td>\n",
       "      <td>positive</td>\n",
       "    </tr>\n",
       "    <tr>\n",
       "      <th>169</th>\n",
       "      <td>173</td>\n",
       "      <td>38</td>\n",
       "      <td>1</td>\n",
       "      <td>1</td>\n",
       "      <td>120</td>\n",
       "      <td>231</td>\n",
       "      <td>0</td>\n",
       "      <td>0</td>\n",
       "      <td>182</td>\n",
       "      <td>1</td>\n",
       "      <td>3.8</td>\n",
       "      <td>2</td>\n",
       "      <td>0.0</td>\n",
       "      <td>7.0</td>\n",
       "      <td>positive</td>\n",
       "    </tr>\n",
       "    <tr>\n",
       "      <th>170</th>\n",
       "      <td>174</td>\n",
       "      <td>61</td>\n",
       "      <td>1</td>\n",
       "      <td>4</td>\n",
       "      <td>138</td>\n",
       "      <td>166</td>\n",
       "      <td>0</td>\n",
       "      <td>2</td>\n",
       "      <td>125</td>\n",
       "      <td>1</td>\n",
       "      <td>3.6</td>\n",
       "      <td>2</td>\n",
       "      <td>1.0</td>\n",
       "      <td>3.0</td>\n",
       "      <td>positive</td>\n",
       "    </tr>\n",
       "    <tr>\n",
       "      <th>171</th>\n",
       "      <td>175</td>\n",
       "      <td>58</td>\n",
       "      <td>1</td>\n",
       "      <td>4</td>\n",
       "      <td>114</td>\n",
       "      <td>318</td>\n",
       "      <td>0</td>\n",
       "      <td>1</td>\n",
       "      <td>140</td>\n",
       "      <td>0</td>\n",
       "      <td>4.4</td>\n",
       "      <td>3</td>\n",
       "      <td>3.0</td>\n",
       "      <td>6.0</td>\n",
       "      <td>positive</td>\n",
       "    </tr>\n",
       "    <tr>\n",
       "      <th>172</th>\n",
       "      <td>176</td>\n",
       "      <td>70</td>\n",
       "      <td>1</td>\n",
       "      <td>4</td>\n",
       "      <td>145</td>\n",
       "      <td>174</td>\n",
       "      <td>0</td>\n",
       "      <td>0</td>\n",
       "      <td>125</td>\n",
       "      <td>1</td>\n",
       "      <td>2.6</td>\n",
       "      <td>3</td>\n",
       "      <td>0.0</td>\n",
       "      <td>7.0</td>\n",
       "      <td>positive</td>\n",
       "    </tr>\n",
       "  </tbody>\n",
       "</table>\n",
       "<p>173 rows × 15 columns</p>\n",
       "</div>"
      ],
      "text/plain": [
       "     index  Age  Sex  CP  Trestbps  Chol  Fbs  Restecg  Thalach  Exang  \\\n",
       "0        0   63    1   1       145   233    1        2      150      0   \n",
       "1        1   37    1   3       130   250    0        0      187      0   \n",
       "2        2   41    0   2       130   204    0        2      172      0   \n",
       "3        3   56    1   2       120   236    0        0      178      0   \n",
       "4        4   57    0   4       120   354    0        0      163      1   \n",
       "..     ...  ...  ...  ..       ...   ...  ...      ...      ...    ...   \n",
       "168    172   64    1   4       145   212    0        2      132      0   \n",
       "169    173   38    1   1       120   231    0        0      182      1   \n",
       "170    174   61    1   4       138   166    0        2      125      1   \n",
       "171    175   58    1   4       114   318    0        1      140      0   \n",
       "172    176   70    1   4       145   174    0        0      125      1   \n",
       "\n",
       "     Oldpeak  Slope   Ca Thal       Num  \n",
       "0        2.3      3  0.0  6.0  negative  \n",
       "1        3.5      3  0.0  3.0  negative  \n",
       "2        1.4      1  0.0  3.0  negative  \n",
       "3        0.8      1  0.0  3.0  negative  \n",
       "4        0.6      1  0.0  3.0  negative  \n",
       "..       ...    ...  ...  ...       ...  \n",
       "168      2.0      2  2.0  6.0  positive  \n",
       "169      3.8      2  0.0  7.0  positive  \n",
       "170      3.6      2  1.0  3.0  positive  \n",
       "171      4.4      3  3.0  6.0  positive  \n",
       "172      2.6      3  0.0  7.0  positive  \n",
       "\n",
       "[173 rows x 15 columns]"
      ]
     },
     "execution_count": 48,
     "metadata": {},
     "output_type": "execute_result"
    }
   ],
   "source": [
    "risk_heart.reset_index()"
   ]
  },
  {
   "cell_type": "code",
   "execution_count": 56,
   "id": "f12c2da3",
   "metadata": {},
   "outputs": [],
   "source": [
    "risk_heart['Thal']=risk_heart['Thal'].astype(\"int\")\n",
    "risk_heart['Ca']=risk_heart['Ca'].astype(\"int\")"
   ]
  },
  {
   "cell_type": "code",
   "execution_count": 63,
   "id": "4f8f5094",
   "metadata": {},
   "outputs": [
    {
     "name": "stdout",
     "output_type": "stream",
     "text": [
      "<class 'pandas.core.frame.DataFrame'>\n",
      "Int64Index: 173 entries, 0 to 176\n",
      "Data columns (total 14 columns):\n",
      " #   Column    Non-Null Count  Dtype  \n",
      "---  ------    --------------  -----  \n",
      " 0   Age       173 non-null    int32  \n",
      " 1   Sex       173 non-null    int32  \n",
      " 2   CP        173 non-null    int32  \n",
      " 3   Trestbps  173 non-null    int32  \n",
      " 4   Chol      173 non-null    int32  \n",
      " 5   Fbs       173 non-null    int32  \n",
      " 6   Restecg   173 non-null    int32  \n",
      " 7   Thalach   173 non-null    int32  \n",
      " 8   Exang     173 non-null    int32  \n",
      " 9   Oldpeak   173 non-null    float64\n",
      " 10  Slope     173 non-null    int32  \n",
      " 11  Ca        173 non-null    int32  \n",
      " 12  Thal      173 non-null    int32  \n",
      " 13  Num       173 non-null    int32  \n",
      "dtypes: float64(1), int32(13)\n",
      "memory usage: 11.5 KB\n"
     ]
    }
   ],
   "source": [
    "risk_heart.info()"
   ]
  },
  {
   "cell_type": "code",
   "execution_count": 131,
   "id": "ac114073",
   "metadata": {},
   "outputs": [],
   "source": [
    "from sklearn.decomposition import PCA\n",
    "from sklearn.preprocessing import StandardScaler"
   ]
  },
  {
   "cell_type": "code",
   "execution_count": 132,
   "id": "d3f79c35",
   "metadata": {},
   "outputs": [
    {
     "data": {
      "text/plain": [
       "14"
      ]
     },
     "execution_count": 132,
     "metadata": {},
     "output_type": "execute_result"
    }
   ],
   "source": [
    "len(risk_heart.columns)"
   ]
  },
  {
   "cell_type": "code",
   "execution_count": 133,
   "id": "d6aa67b8",
   "metadata": {},
   "outputs": [],
   "source": [
    "X=risk_heart.values"
   ]
  },
  {
   "cell_type": "code",
   "execution_count": 134,
   "id": "ca1c1654",
   "metadata": {},
   "outputs": [],
   "source": [
    "X = StandardScaler().fit_transform(risk_heart)\n",
    "pca = PCA(n_components=14)\n",
    "principalComponents=pca.fit_transform(X)"
   ]
  },
  {
   "cell_type": "code",
   "execution_count": 135,
   "id": "5ab03511",
   "metadata": {},
   "outputs": [
    {
     "name": "stdout",
     "output_type": "stream",
     "text": [
      "[0.21284761 0.12031266 0.10025165 0.08710013 0.07990995 0.07141217\n",
      " 0.06084345 0.05541416 0.05427777 0.04810676 0.03437761 0.0293291\n",
      " 0.0238972  0.02191978]\n",
      "[21.28 33.31 43.34 52.05 60.04 67.18 73.26 78.8  84.23 89.04 92.48 95.41\n",
      " 97.8  99.99]\n"
     ]
    }
   ],
   "source": [
    "exp_var= pca.explained_variance_ratio_\n",
    "cumsum_var=np.cumsum(np.round(pca.explained_variance_ratio_, decimals=4)*100)\n",
    "print(exp_var)\n",
    "print(cumsum_var)"
   ]
  },
  {
   "cell_type": "code",
   "execution_count": 139,
   "id": "7f1702a5",
   "metadata": {},
   "outputs": [
    {
     "data": {
      "text/plain": [
       "Text(0, 0.5, '% of Variance Explained')"
      ]
     },
     "execution_count": 139,
     "metadata": {},
     "output_type": "execute_result"
    },
    {
     "data": {
      "image/png": "[encoded data removed]",
      "text/plain": [
       "<Figure size 432x288 with 1 Axes>"
      ]
     },
     "metadata": {
      "needs_background": "light"
     },
     "output_type": "display_data"
    }
   ],
   "source": [
    "plt.plot(cumsum_var)\n",
    "plt.xlabel('Number of Components')\n",
    "plt.ylabel('% of Variance Explained')"
   ]
  },
  {
   "cell_type": "code",
   "execution_count": 141,
   "id": "a43a84c2",
   "metadata": {},
   "outputs": [],
   "source": [
    "X = StandardScaler().fit_transform(risk_heart)\n",
    "pca = PCA(n_components=8)\n",
    "principalComponents=pca.fit_transform(X)"
   ]
  },
  {
   "cell_type": "code",
   "execution_count": 142,
   "id": "3311c78c",
   "metadata": {},
   "outputs": [
    {
     "data": {
      "image/png": "[encoded data removed]",
      "text/plain": [
       "<Figure size 432x288 with 1 Axes>"
      ]
     },
     "metadata": {
      "needs_background": "light"
     },
     "output_type": "display_data"
    }
   ],
   "source": [
    "percent_variance = np.round(pca.explained_variance_ratio_* 100, decimals =2)\n",
    "columns = ['PC1', 'PC2','PC3','PC4','PC5','PC6','PC7','PC8']\n",
    "plt.bar(x= range(1,9), height=percent_variance, tick_label=columns)\n",
    "plt.ylabel('Percentate of Variance Explained')\n",
    "plt.xlabel('Principal Component')\n",
    "plt.title('PCA Scree Plot')\n",
    "plt.show()"
   ]
  },
  {
   "cell_type": "code",
   "execution_count": 144,
   "id": "f0997ba1",
   "metadata": {},
   "outputs": [],
   "source": [
    "X = pd.DataFrame(X, columns=risk_heart.columns)"
   ]
  },
  {
   "cell_type": "code",
   "execution_count": 145,
   "id": "bfdad95e",
   "metadata": {},
   "outputs": [],
   "source": [
    "def myplot(score,coeff,labels=None):\n",
    "    xs = score[:,0]\n",
    "    ys = score[:,1]\n",
    "    n = coeff.shape[0]\n",
    "    scalex = 1.0/(xs.max() - xs.min())\n",
    "    scaley = 1.0/(ys.max() - ys.min())\n",
    "    fig = plt.figure(figsize=(12,6), dpi=100)\n",
    "    plt.scatter(xs * scalex,ys * scaley,s=5)\n",
    "    for i in range(n):\n",
    "        plt.arrow(0, 0, coeff[i,0], coeff[i,1],color = 'r',alpha = 0.5)\n",
    "        if labels is None:\n",
    "            plt.text(coeff[i,0]* 1.15, coeff[i,1] * 1.15, \"Var\"+str(i+1), color = 'green', ha = 'center', va = 'center')\n",
    "        else:\n",
    "            plt.text(coeff[i,0]* 1.15, coeff[i,1] * 1.15, labels[i], color = 'g', ha = 'center', va = 'center')\n",
    " \n",
    "    plt.xlabel(\"PC{}\".format(1))\n",
    "    plt.ylabel(\"PC{}\".format(2))\n",
    "    plt.grid()"
   ]
  },
  {
   "cell_type": "code",
   "execution_count": 146,
   "id": "6feac6c1",
   "metadata": {},
   "outputs": [
    {
     "data": {
      "image/png": "[encoded data removed]",
      "text/plain": [
       "<Figure size 1200x600 with 1 Axes>"
      ]
     },
     "metadata": {
      "needs_background": "light"
     },
     "output_type": "display_data"
    }
   ],
   "source": [
    "myplot(np.array(X)[:,0:2],np.transpose(pca.components_[0:2, :]),list(X.columns))\n",
    "plt.show()"
   ]
  },
  {
   "cell_type": "code",
   "execution_count": 147,
   "id": "c8adf65e",
   "metadata": {},
   "outputs": [],
   "source": [
    "from sklearn.preprocessing import LabelEncoder"
   ]
  },
  {
   "cell_type": "code",
   "execution_count": 148,
   "id": "c0df39b4",
   "metadata": {},
   "outputs": [],
   "source": [
    "labelencoder=LabelEncoder()\n",
    "risk_heart['Num']=labelencoder.fit_transform(risk_heart['Num'])"
   ]
  },
  {
   "cell_type": "code",
   "execution_count": 149,
   "id": "e67abb95",
   "metadata": {},
   "outputs": [],
   "source": [
    "from sklearn.model_selection import train_test_split\n",
    "from sklearn.linear_model import LogisticRegression\n",
    "from sklearn.metrics import confusion_matrix\n",
    "from sklearn.metrics import classification_report"
   ]
  },
  {
   "cell_type": "code",
   "execution_count": 150,
   "id": "b373de53",
   "metadata": {},
   "outputs": [
    {
     "name": "stdout",
     "output_type": "stream",
     "text": [
      "Fraudulent shopping ratio : %7.51\n",
      "Normal shopping ratio     : %92.49\n"
     ]
    },
    {
     "data": {
      "image/png": "[encoded data removed]",
      "text/plain": [
       "<Figure size 432x288 with 1 Axes>"
      ]
     },
     "metadata": {
      "needs_background": "light"
     },
     "output_type": "display_data"
    }
   ],
   "source": [
    "sns.countplot(risk_heart.Num)\n",
    "\n",
    "print(\"Fraudulent shopping ratio : %{:.2f}\".format(sum(risk_heart.Num)/len(risk_heart.Num)*100))\n",
    "print(\"Normal shopping ratio     : %{:.2f}\".format((len(risk_heart.Num)-sum(risk_heart.Num))/len(risk_heart.Num)*100))"
   ]
  },
  {
   "cell_type": "code",
   "execution_count": 151,
   "id": "bb6ad86f",
   "metadata": {},
   "outputs": [],
   "source": [
    "def create_model(X, y):\n",
    "    X_train, X_test, y_train, y_test =  train_test_split(X, y, test_size=0.1, random_state=111, stratify = y)\n",
    "    \n",
    "    logreg_model = LogisticRegression(max_iter=3000)\n",
    "    logreg_model.fit(X_train, y_train)\n",
    "\n",
    "    pred_train = logreg_model.predict(X_train)\n",
    "    pred_test = logreg_model.predict(X_test)\n",
    "    \n",
    "    conf_mtx_train = confusion_matrix(y_train, pred_train)\n",
    "    conf_mtx_test = confusion_matrix(y_test, pred_test)\n",
    "    \n",
    "    print(\"Accuracy : {}\\n\".format(logreg_model.score(X_test, y_test)))\n",
    "    \n",
    "    print(\"Train Dataset\")\n",
    "    print(classification_report(y_train, pred_train))\n",
    "    \n",
    "    print(\"Test Dataset\")\n",
    "    print(classification_report(y_test, pred_test))\n",
    "    \n",
    "    return  None"
   ]
  },
  {
   "cell_type": "code",
   "execution_count": 153,
   "id": "9768e05e",
   "metadata": {},
   "outputs": [
    {
     "name": "stdout",
     "output_type": "stream",
     "text": [
      "Accuracy : 0.9444444444444444\n",
      "\n",
      "Train Dataset\n",
      "              precision    recall  f1-score   support\n",
      "\n",
      "           0       0.97      0.99      0.98       143\n",
      "           1       0.80      0.67      0.73        12\n",
      "\n",
      "    accuracy                           0.96       155\n",
      "   macro avg       0.89      0.83      0.85       155\n",
      "weighted avg       0.96      0.96      0.96       155\n",
      "\n",
      "Test Dataset\n",
      "              precision    recall  f1-score   support\n",
      "\n",
      "           0       0.94      1.00      0.97        17\n",
      "           1       0.00      0.00      0.00         1\n",
      "\n",
      "    accuracy                           0.94        18\n",
      "   macro avg       0.47      0.50      0.49        18\n",
      "weighted avg       0.89      0.94      0.92        18\n",
      "\n"
     ]
    }
   ],
   "source": [
    "X = risk_heart[['Chol','Age','Ca','Sex','Slope','Trestbps','Exang','Thal','Thalach']]\n",
    "y = risk_heart['Num']\n",
    "\n",
    "create_model(X,y)"
   ]
  },
  {
   "cell_type": "code",
   "execution_count": 154,
   "id": "556ae6a6",
   "metadata": {},
   "outputs": [],
   "source": [
    "from sklearn.utils import resample"
   ]
  },
  {
   "cell_type": "code",
   "execution_count": 155,
   "id": "832d2527",
   "metadata": {},
   "outputs": [
    {
     "data": {
      "text/plain": [
       "0    160\n",
       "1    160\n",
       "Name: Num, dtype: int64"
      ]
     },
     "execution_count": 155,
     "metadata": {},
     "output_type": "execute_result"
    }
   ],
   "source": [
    "normal_shopping = risk_heart[risk_heart.Num == 0]\n",
    "fraudulent_shopping = risk_heart[risk_heart.Num == 1]\n",
    "\n",
    "fraudulent_shopping_upsampled = resample(fraudulent_shopping,\n",
    "                                         replace = True,\n",
    "                                         n_samples = len(normal_shopping),\n",
    "                                         random_state = 111)\n",
    "\n",
    "upsampled_risk_heart = pd.concat([normal_shopping, fraudulent_shopping_upsampled])\n",
    "upsampled_risk_heart.Num.value_counts()"
   ]
  },
  {
   "cell_type": "code",
   "execution_count": 165,
   "id": "fd96477f",
   "metadata": {},
   "outputs": [
    {
     "name": "stdout",
     "output_type": "stream",
     "text": [
      "Accuracy : 0.96875\n",
      "\n",
      "Train Dataset\n",
      "              precision    recall  f1-score   support\n",
      "\n",
      "           0       1.00      0.94      0.97       144\n",
      "           1       0.94      1.00      0.97       144\n",
      "\n",
      "    accuracy                           0.97       288\n",
      "   macro avg       0.97      0.97      0.97       288\n",
      "weighted avg       0.97      0.97      0.97       288\n",
      "\n",
      "Test Dataset\n",
      "              precision    recall  f1-score   support\n",
      "\n",
      "           0       1.00      0.94      0.97        16\n",
      "           1       0.94      1.00      0.97        16\n",
      "\n",
      "    accuracy                           0.97        32\n",
      "   macro avg       0.97      0.97      0.97        32\n",
      "weighted avg       0.97      0.97      0.97        32\n",
      "\n"
     ]
    }
   ],
   "source": [
    "X = upsampled_risk_heart.drop(upsampled_risk_heart[['Num','CP','Fbs','Restecg','Oldpeak']], axis=1)\n",
    "y = upsampled_risk_heart['Num']\n",
    "\n",
    "create_model(X,y)"
   ]
  },
  {
   "cell_type": "code",
   "execution_count": 157,
   "id": "c7778225",
   "metadata": {},
   "outputs": [
    {
     "data": {
      "text/plain": [
       "0    13\n",
       "1    13\n",
       "Name: Num, dtype: int64"
      ]
     },
     "execution_count": 157,
     "metadata": {},
     "output_type": "execute_result"
    }
   ],
   "source": [
    "normal_shopping = risk_heart[risk_heart.Num == 0]\n",
    "fraudulent_shopping = risk_heart[risk_heart.Num == 1]\n",
    "\n",
    "fraudulent_shopping_downsampled = resample(normal_shopping,\n",
    "                                         replace = True,\n",
    "                                         n_samples = len(fraudulent_shopping),\n",
    "                                         random_state = 111)\n",
    "\n",
    "downsampled_risk_heart = pd.concat([fraudulent_shopping, fraudulent_shopping_downsampled])\n",
    "downsampled_risk_heart.Num.value_counts()"
   ]
  },
  {
   "cell_type": "code",
   "execution_count": 166,
   "id": "a4fdfe13",
   "metadata": {},
   "outputs": [
    {
     "name": "stdout",
     "output_type": "stream",
     "text": [
      "Accuracy : 1.0\n",
      "\n",
      "Train Dataset\n",
      "              precision    recall  f1-score   support\n",
      "\n",
      "           0       1.00      1.00      1.00        11\n",
      "           1       1.00      1.00      1.00        12\n",
      "\n",
      "    accuracy                           1.00        23\n",
      "   macro avg       1.00      1.00      1.00        23\n",
      "weighted avg       1.00      1.00      1.00        23\n",
      "\n",
      "Test Dataset\n",
      "              precision    recall  f1-score   support\n",
      "\n",
      "           0       1.00      1.00      1.00         2\n",
      "           1       1.00      1.00      1.00         1\n",
      "\n",
      "    accuracy                           1.00         3\n",
      "   macro avg       1.00      1.00      1.00         3\n",
      "weighted avg       1.00      1.00      1.00         3\n",
      "\n"
     ]
    }
   ],
   "source": [
    "X = downsampled_risk_heart.drop(downsampled_risk_heart[['Num','CP','Fbs','Restecg','Oldpeak']], axis=1)\n",
    "y = downsampled_risk_heart['Num']\n",
    "\n",
    "create_model(X,y)"
   ]
  },
  {
   "cell_type": "code",
   "execution_count": 159,
   "id": "e8c303b7",
   "metadata": {},
   "outputs": [],
   "source": [
    "from imblearn.over_sampling import SMOTE\n",
    "\n",
    "y = risk_heart.Num\n",
    "X = risk_heart.drop('Num', axis=1)\n",
    "\n",
    "sm = SMOTE(random_state=27, sampling_strategy=1.0)\n",
    "X_smote, y_smote = sm.fit_resample(X, y)"
   ]
  },
  {
   "cell_type": "code",
   "execution_count": 160,
   "id": "245b1e03",
   "metadata": {},
   "outputs": [
    {
     "name": "stdout",
     "output_type": "stream",
     "text": [
      "Accuracy : 0.96875\n",
      "\n",
      "Train Dataset\n",
      "              precision    recall  f1-score   support\n",
      "\n",
      "           0       0.98      0.96      0.97       144\n",
      "           1       0.96      0.98      0.97       144\n",
      "\n",
      "    accuracy                           0.97       288\n",
      "   macro avg       0.97      0.97      0.97       288\n",
      "weighted avg       0.97      0.97      0.97       288\n",
      "\n",
      "Test Dataset\n",
      "              precision    recall  f1-score   support\n",
      "\n",
      "           0       0.94      1.00      0.97        16\n",
      "           1       1.00      0.94      0.97        16\n",
      "\n",
      "    accuracy                           0.97        32\n",
      "   macro avg       0.97      0.97      0.97        32\n",
      "weighted avg       0.97      0.97      0.97        32\n",
      "\n"
     ]
    }
   ],
   "source": [
    "create_model(X_smote, y_smote)"
   ]
  },
  {
   "cell_type": "code",
   "execution_count": 161,
   "id": "e4a07110",
   "metadata": {},
   "outputs": [],
   "source": [
    "from imblearn.over_sampling import ADASYN"
   ]
  },
  {
   "cell_type": "code",
   "execution_count": 167,
   "id": "a162c240",
   "metadata": {},
   "outputs": [],
   "source": [
    "y = risk_heart.Num\n",
    "X = risk_heart.drop(risk_heart[['Num','CP','Fbs','Restecg','Oldpeak']], axis=1)\n",
    "\n",
    "ad = ADASYN()\n",
    "X_adasyn, y_adasyn = ad.fit_resample(X, y)"
   ]
  },
  {
   "cell_type": "code",
   "execution_count": 168,
   "id": "7211d409",
   "metadata": {},
   "outputs": [
    {
     "name": "stdout",
     "output_type": "stream",
     "text": [
      "Accuracy : 0.8125\n",
      "\n",
      "Train Dataset\n",
      "              precision    recall  f1-score   support\n",
      "\n",
      "           0       0.88      0.85      0.87       144\n",
      "           1       0.86      0.88      0.87       143\n",
      "\n",
      "    accuracy                           0.87       287\n",
      "   macro avg       0.87      0.87      0.87       287\n",
      "weighted avg       0.87      0.87      0.87       287\n",
      "\n",
      "Test Dataset\n",
      "              precision    recall  f1-score   support\n",
      "\n",
      "           0       0.78      0.88      0.82        16\n",
      "           1       0.86      0.75      0.80        16\n",
      "\n",
      "    accuracy                           0.81        32\n",
      "   macro avg       0.82      0.81      0.81        32\n",
      "weighted avg       0.82      0.81      0.81        32\n",
      "\n"
     ]
    }
   ],
   "source": [
    "create_model(X_adasyn, y_adasyn)"
   ]
  },
  {
   "cell_type": "markdown",
   "id": "aa98f75e",
   "metadata": {},
   "source": [
    "It seems that most accurate algorithm to apply to this dataset is ADASYN. Other one seems a little suspicious. "
   ]
  }
 ],
 "metadata": {
  "kernelspec": {
   "display_name": "Python 3",
   "language": "python",
   "name": "python3"
  },
  "language_info": {
   "codemirror_mode": {
    "name": "ipython",
    "version": 3
   },
   "file_extension": ".py",
   "mimetype": "text/x-python",
   "name": "python",
   "nbconvert_exporter": "python",
   "pygments_lexer": "ipython3",
   "version": "3.8.8"
  }
 },
 "nbformat": 4,
 "nbformat_minor": 5
}
