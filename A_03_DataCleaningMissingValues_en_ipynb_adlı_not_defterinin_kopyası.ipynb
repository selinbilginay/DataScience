{
  "nbformat": 4,
  "nbformat_minor": 0,
  "metadata": {
    "kernelspec": {
      "display_name": "Python 3",
      "language": "python",
      "name": "python3"
    },
    "language_info": {
      "codemirror_mode": {
        "name": "ipython",
        "version": 3
      },
      "file_extension": ".py",
      "mimetype": "text/x-python",
      "name": "python",
      "nbconvert_exporter": "python",
      "pygments_lexer": "ipython3",
      "version": "3.8.2"
    },
    "colab": {
      "name": "A_03_DataCleaningMissingValues_en.ipynb adlı not defterinin kopyası",
      "provenance": [],
      "include_colab_link": true
    }
  },
  "cells": [
    {
      "cell_type": "markdown",
      "metadata": {
        "id": "view-in-github",
        "colab_type": "text"
      },
      "source": [
        "<a href=\"https://colab.research.google.com/github/selinbilginay/DataScience/blob/main/A_03_DataCleaningMissingValues_en_ipynb_adl%C4%B1_not_defterinin_kopyas%C4%B1.ipynb\" target=\"_parent\"><img src=\"https://colab.research.google.com/assets/colab-badge.svg\" alt=\"Open In Colab\"/></a>"
      ]
    },
    {
      "cell_type": "markdown",
      "metadata": {
        "id": "7vAUgwlccDCn"
      },
      "source": [
        "# <font color=blue>Assignments for \"Data Cleaning - Missing Values\"</font>"
      ]
    },
    {
      "cell_type": "markdown",
      "metadata": {
        "id": "mKN1NgWAcDDC"
      },
      "source": [
        "In this assignment, you are going to use a dataset related to the US education system. Please download the ([dataset](https://www.kaggle.com/noriuk/us-education-datasets-unification-project/home)) from Kaggle. You are going to use `states_all.csv` within this dataset.\n",
        "\n",
        "To complete this assignment, submit the Github link of the Jupyter notebook file containing solutions to the questions below. You can talk to your mentor on your head or ask Slack at office time."
      ]
    },
    {
      "cell_type": "markdown",
      "metadata": {
        "id": "14YqG3zTcDDE"
      },
      "source": [
        "**(1)** Find the types of variables in the dataset and the missing (null) ratio of each variable."
      ]
    },
    {
      "cell_type": "code",
      "metadata": {
        "id": "mv41O8nfcDDG",
        "colab": {
          "base_uri": "https://localhost:8080/"
        },
        "outputId": "1af22644-abc0-4de7-d3e8-a1326b524f6d"
      },
      "source": [
        "import pandas as pd\n",
        "import numpy as np\n",
        "states_all = pd.read_csv(\"/content/states_all.csv\")\n",
        "states_all.info()"
      ],
      "execution_count": 3,
      "outputs": [
        {
          "output_type": "stream",
          "name": "stdout",
          "text": [
            "<class 'pandas.core.frame.DataFrame'>\n",
            "RangeIndex: 1715 entries, 0 to 1714\n",
            "Data columns (total 25 columns):\n",
            " #   Column                        Non-Null Count  Dtype  \n",
            "---  ------                        --------------  -----  \n",
            " 0   PRIMARY_KEY                   1715 non-null   object \n",
            " 1   STATE                         1715 non-null   object \n",
            " 2   YEAR                          1715 non-null   int64  \n",
            " 3   ENROLL                        1224 non-null   float64\n",
            " 4   TOTAL_REVENUE                 1275 non-null   float64\n",
            " 5   FEDERAL_REVENUE               1275 non-null   float64\n",
            " 6   STATE_REVENUE                 1275 non-null   float64\n",
            " 7   LOCAL_REVENUE                 1275 non-null   float64\n",
            " 8   TOTAL_EXPENDITURE             1275 non-null   float64\n",
            " 9   INSTRUCTION_EXPENDITURE       1275 non-null   float64\n",
            " 10  SUPPORT_SERVICES_EXPENDITURE  1275 non-null   float64\n",
            " 11  OTHER_EXPENDITURE             1224 non-null   float64\n",
            " 12  CAPITAL_OUTLAY_EXPENDITURE    1275 non-null   float64\n",
            " 13  GRADES_PK_G                   1542 non-null   float64\n",
            " 14  GRADES_KG_G                   1632 non-null   float64\n",
            " 15  GRADES_4_G                    1632 non-null   float64\n",
            " 16  GRADES_8_G                    1632 non-null   float64\n",
            " 17  GRADES_12_G                   1632 non-null   float64\n",
            " 18  GRADES_1_8_G                  1020 non-null   float64\n",
            " 19  GRADES_9_12_G                 1071 non-null   float64\n",
            " 20  GRADES_ALL_G                  1632 non-null   float64\n",
            " 21  AVG_MATH_4_SCORE              565 non-null    float64\n",
            " 22  AVG_MATH_8_SCORE              602 non-null    float64\n",
            " 23  AVG_READING_4_SCORE           650 non-null    float64\n",
            " 24  AVG_READING_8_SCORE           562 non-null    float64\n",
            "dtypes: float64(22), int64(1), object(2)\n",
            "memory usage: 335.1+ KB\n"
          ]
        }
      ]
    },
    {
      "cell_type": "code",
      "source": [
        "states_all"
      ],
      "metadata": {
        "colab": {
          "base_uri": "https://localhost:8080/",
          "height": 488
        },
        "id": "G4ETUV5ZPXnQ",
        "outputId": "bb98a44f-9d8a-48d6-fcfc-705ac9b5c9bb"
      },
      "execution_count": 17,
      "outputs": [
        {
          "output_type": "execute_result",
          "data": {
            "text/html": [
              "\n",
              "  <div id=\"df-92d8ddb6-70b7-4356-81d5-97726b1a9828\">\n",
              "    <div class=\"colab-df-container\">\n",
              "      <div>\n",
              "<style scoped>\n",
              "    .dataframe tbody tr th:only-of-type {\n",
              "        vertical-align: middle;\n",
              "    }\n",
              "\n",
              "    .dataframe tbody tr th {\n",
              "        vertical-align: top;\n",
              "    }\n",
              "\n",
              "    .dataframe thead th {\n",
              "        text-align: right;\n",
              "    }\n",
              "</style>\n",
              "<table border=\"1\" class=\"dataframe\">\n",
              "  <thead>\n",
              "    <tr style=\"text-align: right;\">\n",
              "      <th></th>\n",
              "      <th>PRIMARY_KEY</th>\n",
              "      <th>STATE</th>\n",
              "      <th>YEAR</th>\n",
              "      <th>ENROLL</th>\n",
              "      <th>TOTAL_REVENUE</th>\n",
              "      <th>FEDERAL_REVENUE</th>\n",
              "      <th>STATE_REVENUE</th>\n",
              "      <th>LOCAL_REVENUE</th>\n",
              "      <th>TOTAL_EXPENDITURE</th>\n",
              "      <th>INSTRUCTION_EXPENDITURE</th>\n",
              "      <th>SUPPORT_SERVICES_EXPENDITURE</th>\n",
              "      <th>OTHER_EXPENDITURE</th>\n",
              "      <th>CAPITAL_OUTLAY_EXPENDITURE</th>\n",
              "      <th>GRADES_PK_G</th>\n",
              "      <th>GRADES_KG_G</th>\n",
              "      <th>GRADES_4_G</th>\n",
              "      <th>GRADES_8_G</th>\n",
              "      <th>GRADES_12_G</th>\n",
              "      <th>GRADES_1_8_G</th>\n",
              "      <th>GRADES_9_12_G</th>\n",
              "      <th>GRADES_ALL_G</th>\n",
              "      <th>AVG_MATH_4_SCORE</th>\n",
              "      <th>AVG_MATH_8_SCORE</th>\n",
              "      <th>AVG_READING_4_SCORE</th>\n",
              "      <th>AVG_READING_8_SCORE</th>\n",
              "    </tr>\n",
              "  </thead>\n",
              "  <tbody>\n",
              "    <tr>\n",
              "      <th>0</th>\n",
              "      <td>1992_ALABAMA</td>\n",
              "      <td>ALABAMA</td>\n",
              "      <td>1992</td>\n",
              "      <td>NaN</td>\n",
              "      <td>2678885.0</td>\n",
              "      <td>304177.0</td>\n",
              "      <td>1659028.0</td>\n",
              "      <td>715680.0</td>\n",
              "      <td>2653798.0</td>\n",
              "      <td>1481703.0</td>\n",
              "      <td>735036.0</td>\n",
              "      <td>NaN</td>\n",
              "      <td>174053.0</td>\n",
              "      <td>8224.0</td>\n",
              "      <td>55460.0</td>\n",
              "      <td>57948.0</td>\n",
              "      <td>58025.0</td>\n",
              "      <td>41167.0</td>\n",
              "      <td>NaN</td>\n",
              "      <td>NaN</td>\n",
              "      <td>731634.0</td>\n",
              "      <td>208.0</td>\n",
              "      <td>252.0</td>\n",
              "      <td>207.0</td>\n",
              "      <td>NaN</td>\n",
              "    </tr>\n",
              "    <tr>\n",
              "      <th>1</th>\n",
              "      <td>1992_ALASKA</td>\n",
              "      <td>ALASKA</td>\n",
              "      <td>1992</td>\n",
              "      <td>NaN</td>\n",
              "      <td>1049591.0</td>\n",
              "      <td>106780.0</td>\n",
              "      <td>720711.0</td>\n",
              "      <td>222100.0</td>\n",
              "      <td>972488.0</td>\n",
              "      <td>498362.0</td>\n",
              "      <td>350902.0</td>\n",
              "      <td>NaN</td>\n",
              "      <td>37451.0</td>\n",
              "      <td>2371.0</td>\n",
              "      <td>10152.0</td>\n",
              "      <td>9748.0</td>\n",
              "      <td>8789.0</td>\n",
              "      <td>6714.0</td>\n",
              "      <td>NaN</td>\n",
              "      <td>NaN</td>\n",
              "      <td>122487.0</td>\n",
              "      <td>NaN</td>\n",
              "      <td>NaN</td>\n",
              "      <td>NaN</td>\n",
              "      <td>NaN</td>\n",
              "    </tr>\n",
              "    <tr>\n",
              "      <th>2</th>\n",
              "      <td>1992_ARIZONA</td>\n",
              "      <td>ARIZONA</td>\n",
              "      <td>1992</td>\n",
              "      <td>NaN</td>\n",
              "      <td>3258079.0</td>\n",
              "      <td>297888.0</td>\n",
              "      <td>1369815.0</td>\n",
              "      <td>1590376.0</td>\n",
              "      <td>3401580.0</td>\n",
              "      <td>1435908.0</td>\n",
              "      <td>1007732.0</td>\n",
              "      <td>NaN</td>\n",
              "      <td>609114.0</td>\n",
              "      <td>2544.0</td>\n",
              "      <td>53497.0</td>\n",
              "      <td>55433.0</td>\n",
              "      <td>49081.0</td>\n",
              "      <td>37410.0</td>\n",
              "      <td>NaN</td>\n",
              "      <td>NaN</td>\n",
              "      <td>673477.0</td>\n",
              "      <td>215.0</td>\n",
              "      <td>265.0</td>\n",
              "      <td>209.0</td>\n",
              "      <td>NaN</td>\n",
              "    </tr>\n",
              "    <tr>\n",
              "      <th>3</th>\n",
              "      <td>1992_ARKANSAS</td>\n",
              "      <td>ARKANSAS</td>\n",
              "      <td>1992</td>\n",
              "      <td>NaN</td>\n",
              "      <td>1711959.0</td>\n",
              "      <td>178571.0</td>\n",
              "      <td>958785.0</td>\n",
              "      <td>574603.0</td>\n",
              "      <td>1743022.0</td>\n",
              "      <td>964323.0</td>\n",
              "      <td>483488.0</td>\n",
              "      <td>NaN</td>\n",
              "      <td>145212.0</td>\n",
              "      <td>808.0</td>\n",
              "      <td>33511.0</td>\n",
              "      <td>34632.0</td>\n",
              "      <td>36011.0</td>\n",
              "      <td>27651.0</td>\n",
              "      <td>NaN</td>\n",
              "      <td>NaN</td>\n",
              "      <td>441490.0</td>\n",
              "      <td>210.0</td>\n",
              "      <td>256.0</td>\n",
              "      <td>211.0</td>\n",
              "      <td>NaN</td>\n",
              "    </tr>\n",
              "    <tr>\n",
              "      <th>4</th>\n",
              "      <td>1992_CALIFORNIA</td>\n",
              "      <td>CALIFORNIA</td>\n",
              "      <td>1992</td>\n",
              "      <td>NaN</td>\n",
              "      <td>26260025.0</td>\n",
              "      <td>2072470.0</td>\n",
              "      <td>16546514.0</td>\n",
              "      <td>7641041.0</td>\n",
              "      <td>27138832.0</td>\n",
              "      <td>14358922.0</td>\n",
              "      <td>8520926.0</td>\n",
              "      <td>NaN</td>\n",
              "      <td>2044688.0</td>\n",
              "      <td>59067.0</td>\n",
              "      <td>431763.0</td>\n",
              "      <td>418418.0</td>\n",
              "      <td>363296.0</td>\n",
              "      <td>270675.0</td>\n",
              "      <td>NaN</td>\n",
              "      <td>NaN</td>\n",
              "      <td>5254844.0</td>\n",
              "      <td>208.0</td>\n",
              "      <td>261.0</td>\n",
              "      <td>202.0</td>\n",
              "      <td>NaN</td>\n",
              "    </tr>\n",
              "    <tr>\n",
              "      <th>...</th>\n",
              "      <td>...</td>\n",
              "      <td>...</td>\n",
              "      <td>...</td>\n",
              "      <td>...</td>\n",
              "      <td>...</td>\n",
              "      <td>...</td>\n",
              "      <td>...</td>\n",
              "      <td>...</td>\n",
              "      <td>...</td>\n",
              "      <td>...</td>\n",
              "      <td>...</td>\n",
              "      <td>...</td>\n",
              "      <td>...</td>\n",
              "      <td>...</td>\n",
              "      <td>...</td>\n",
              "      <td>...</td>\n",
              "      <td>...</td>\n",
              "      <td>...</td>\n",
              "      <td>...</td>\n",
              "      <td>...</td>\n",
              "      <td>...</td>\n",
              "      <td>...</td>\n",
              "      <td>...</td>\n",
              "      <td>...</td>\n",
              "      <td>...</td>\n",
              "    </tr>\n",
              "    <tr>\n",
              "      <th>1710</th>\n",
              "      <td>2019_VIRGINIA</td>\n",
              "      <td>VIRGINIA</td>\n",
              "      <td>2019</td>\n",
              "      <td>NaN</td>\n",
              "      <td>NaN</td>\n",
              "      <td>NaN</td>\n",
              "      <td>NaN</td>\n",
              "      <td>NaN</td>\n",
              "      <td>NaN</td>\n",
              "      <td>NaN</td>\n",
              "      <td>NaN</td>\n",
              "      <td>NaN</td>\n",
              "      <td>NaN</td>\n",
              "      <td>NaN</td>\n",
              "      <td>NaN</td>\n",
              "      <td>NaN</td>\n",
              "      <td>NaN</td>\n",
              "      <td>NaN</td>\n",
              "      <td>NaN</td>\n",
              "      <td>NaN</td>\n",
              "      <td>NaN</td>\n",
              "      <td>247.0</td>\n",
              "      <td>287.0</td>\n",
              "      <td>224.0</td>\n",
              "      <td>262.0</td>\n",
              "    </tr>\n",
              "    <tr>\n",
              "      <th>1711</th>\n",
              "      <td>2019_WASHINGTON</td>\n",
              "      <td>WASHINGTON</td>\n",
              "      <td>2019</td>\n",
              "      <td>NaN</td>\n",
              "      <td>NaN</td>\n",
              "      <td>NaN</td>\n",
              "      <td>NaN</td>\n",
              "      <td>NaN</td>\n",
              "      <td>NaN</td>\n",
              "      <td>NaN</td>\n",
              "      <td>NaN</td>\n",
              "      <td>NaN</td>\n",
              "      <td>NaN</td>\n",
              "      <td>NaN</td>\n",
              "      <td>NaN</td>\n",
              "      <td>NaN</td>\n",
              "      <td>NaN</td>\n",
              "      <td>NaN</td>\n",
              "      <td>NaN</td>\n",
              "      <td>NaN</td>\n",
              "      <td>NaN</td>\n",
              "      <td>240.0</td>\n",
              "      <td>286.0</td>\n",
              "      <td>220.0</td>\n",
              "      <td>266.0</td>\n",
              "    </tr>\n",
              "    <tr>\n",
              "      <th>1712</th>\n",
              "      <td>2019_WEST_VIRGINIA</td>\n",
              "      <td>WEST_VIRGINIA</td>\n",
              "      <td>2019</td>\n",
              "      <td>NaN</td>\n",
              "      <td>NaN</td>\n",
              "      <td>NaN</td>\n",
              "      <td>NaN</td>\n",
              "      <td>NaN</td>\n",
              "      <td>NaN</td>\n",
              "      <td>NaN</td>\n",
              "      <td>NaN</td>\n",
              "      <td>NaN</td>\n",
              "      <td>NaN</td>\n",
              "      <td>NaN</td>\n",
              "      <td>NaN</td>\n",
              "      <td>NaN</td>\n",
              "      <td>NaN</td>\n",
              "      <td>NaN</td>\n",
              "      <td>NaN</td>\n",
              "      <td>NaN</td>\n",
              "      <td>NaN</td>\n",
              "      <td>231.0</td>\n",
              "      <td>272.0</td>\n",
              "      <td>213.0</td>\n",
              "      <td>256.0</td>\n",
              "    </tr>\n",
              "    <tr>\n",
              "      <th>1713</th>\n",
              "      <td>2019_WISCONSIN</td>\n",
              "      <td>WISCONSIN</td>\n",
              "      <td>2019</td>\n",
              "      <td>NaN</td>\n",
              "      <td>NaN</td>\n",
              "      <td>NaN</td>\n",
              "      <td>NaN</td>\n",
              "      <td>NaN</td>\n",
              "      <td>NaN</td>\n",
              "      <td>NaN</td>\n",
              "      <td>NaN</td>\n",
              "      <td>NaN</td>\n",
              "      <td>NaN</td>\n",
              "      <td>NaN</td>\n",
              "      <td>NaN</td>\n",
              "      <td>NaN</td>\n",
              "      <td>NaN</td>\n",
              "      <td>NaN</td>\n",
              "      <td>NaN</td>\n",
              "      <td>NaN</td>\n",
              "      <td>NaN</td>\n",
              "      <td>242.0</td>\n",
              "      <td>289.0</td>\n",
              "      <td>220.0</td>\n",
              "      <td>267.0</td>\n",
              "    </tr>\n",
              "    <tr>\n",
              "      <th>1714</th>\n",
              "      <td>2019_WYOMING</td>\n",
              "      <td>WYOMING</td>\n",
              "      <td>2019</td>\n",
              "      <td>NaN</td>\n",
              "      <td>NaN</td>\n",
              "      <td>NaN</td>\n",
              "      <td>NaN</td>\n",
              "      <td>NaN</td>\n",
              "      <td>NaN</td>\n",
              "      <td>NaN</td>\n",
              "      <td>NaN</td>\n",
              "      <td>NaN</td>\n",
              "      <td>NaN</td>\n",
              "      <td>NaN</td>\n",
              "      <td>NaN</td>\n",
              "      <td>NaN</td>\n",
              "      <td>NaN</td>\n",
              "      <td>NaN</td>\n",
              "      <td>NaN</td>\n",
              "      <td>NaN</td>\n",
              "      <td>NaN</td>\n",
              "      <td>246.0</td>\n",
              "      <td>286.0</td>\n",
              "      <td>227.0</td>\n",
              "      <td>265.0</td>\n",
              "    </tr>\n",
              "  </tbody>\n",
              "</table>\n",
              "<p>1715 rows × 25 columns</p>\n",
              "</div>\n",
              "      <button class=\"colab-df-convert\" onclick=\"convertToInteractive('df-92d8ddb6-70b7-4356-81d5-97726b1a9828')\"\n",
              "              title=\"Convert this dataframe to an interactive table.\"\n",
              "              style=\"display:none;\">\n",
              "        \n",
              "  <svg xmlns=\"http://www.w3.org/2000/svg\" height=\"24px\"viewBox=\"0 0 24 24\"\n",
              "       width=\"24px\">\n",
              "    <path d=\"M0 0h24v24H0V0z\" fill=\"none\"/>\n",
              "    <path d=\"M18.56 5.44l.94 2.06.94-2.06 2.06-.94-2.06-.94-.94-2.06-.94 2.06-2.06.94zm-11 1L8.5 8.5l.94-2.06 2.06-.94-2.06-.94L8.5 2.5l-.94 2.06-2.06.94zm10 10l.94 2.06.94-2.06 2.06-.94-2.06-.94-.94-2.06-.94 2.06-2.06.94z\"/><path d=\"M17.41 7.96l-1.37-1.37c-.4-.4-.92-.59-1.43-.59-.52 0-1.04.2-1.43.59L10.3 9.45l-7.72 7.72c-.78.78-.78 2.05 0 2.83L4 21.41c.39.39.9.59 1.41.59.51 0 1.02-.2 1.41-.59l7.78-7.78 2.81-2.81c.8-.78.8-2.07 0-2.86zM5.41 20L4 18.59l7.72-7.72 1.47 1.35L5.41 20z\"/>\n",
              "  </svg>\n",
              "      </button>\n",
              "      \n",
              "  <style>\n",
              "    .colab-df-container {\n",
              "      display:flex;\n",
              "      flex-wrap:wrap;\n",
              "      gap: 12px;\n",
              "    }\n",
              "\n",
              "    .colab-df-convert {\n",
              "      background-color: #E8F0FE;\n",
              "      border: none;\n",
              "      border-radius: 50%;\n",
              "      cursor: pointer;\n",
              "      display: none;\n",
              "      fill: #1967D2;\n",
              "      height: 32px;\n",
              "      padding: 0 0 0 0;\n",
              "      width: 32px;\n",
              "    }\n",
              "\n",
              "    .colab-df-convert:hover {\n",
              "      background-color: #E2EBFA;\n",
              "      box-shadow: 0px 1px 2px rgba(60, 64, 67, 0.3), 0px 1px 3px 1px rgba(60, 64, 67, 0.15);\n",
              "      fill: #174EA6;\n",
              "    }\n",
              "\n",
              "    [theme=dark] .colab-df-convert {\n",
              "      background-color: #3B4455;\n",
              "      fill: #D2E3FC;\n",
              "    }\n",
              "\n",
              "    [theme=dark] .colab-df-convert:hover {\n",
              "      background-color: #434B5C;\n",
              "      box-shadow: 0px 1px 3px 1px rgba(0, 0, 0, 0.15);\n",
              "      filter: drop-shadow(0px 1px 2px rgba(0, 0, 0, 0.3));\n",
              "      fill: #FFFFFF;\n",
              "    }\n",
              "  </style>\n",
              "\n",
              "      <script>\n",
              "        const buttonEl =\n",
              "          document.querySelector('#df-92d8ddb6-70b7-4356-81d5-97726b1a9828 button.colab-df-convert');\n",
              "        buttonEl.style.display =\n",
              "          google.colab.kernel.accessAllowed ? 'block' : 'none';\n",
              "\n",
              "        async function convertToInteractive(key) {\n",
              "          const element = document.querySelector('#df-92d8ddb6-70b7-4356-81d5-97726b1a9828');\n",
              "          const dataTable =\n",
              "            await google.colab.kernel.invokeFunction('convertToInteractive',\n",
              "                                                     [key], {});\n",
              "          if (!dataTable) return;\n",
              "\n",
              "          const docLinkHtml = 'Like what you see? Visit the ' +\n",
              "            '<a target=\"_blank\" href=https://colab.research.google.com/notebooks/data_table.ipynb>data table notebook</a>'\n",
              "            + ' to learn more about interactive tables.';\n",
              "          element.innerHTML = '';\n",
              "          dataTable['output_type'] = 'display_data';\n",
              "          await google.colab.output.renderOutput(dataTable, element);\n",
              "          const docLink = document.createElement('div');\n",
              "          docLink.innerHTML = docLinkHtml;\n",
              "          element.appendChild(docLink);\n",
              "        }\n",
              "      </script>\n",
              "    </div>\n",
              "  </div>\n",
              "  "
            ],
            "text/plain": [
              "             PRIMARY_KEY  ... AVG_READING_8_SCORE\n",
              "0           1992_ALABAMA  ...                 NaN\n",
              "1            1992_ALASKA  ...                 NaN\n",
              "2           1992_ARIZONA  ...                 NaN\n",
              "3          1992_ARKANSAS  ...                 NaN\n",
              "4        1992_CALIFORNIA  ...                 NaN\n",
              "...                  ...  ...                 ...\n",
              "1710       2019_VIRGINIA  ...               262.0\n",
              "1711     2019_WASHINGTON  ...               266.0\n",
              "1712  2019_WEST_VIRGINIA  ...               256.0\n",
              "1713      2019_WISCONSIN  ...               267.0\n",
              "1714        2019_WYOMING  ...               265.0\n",
              "\n",
              "[1715 rows x 25 columns]"
            ]
          },
          "metadata": {},
          "execution_count": 17
        }
      ]
    },
    {
      "cell_type": "code",
      "source": [
        "states_all.isnull().sum()*100/states_all.shape[0]"
      ],
      "metadata": {
        "colab": {
          "base_uri": "https://localhost:8080/"
        },
        "id": "XVltyzEASN6s",
        "outputId": "6d0a6269-8d73-427a-9cd9-61830683ad42"
      },
      "execution_count": 47,
      "outputs": [
        {
          "output_type": "execute_result",
          "data": {
            "text/plain": [
              "PRIMARY_KEY                      0.000000\n",
              "STATE                            0.000000\n",
              "YEAR                             0.000000\n",
              "ENROLL                          28.629738\n",
              "TOTAL_REVENUE                    0.000000\n",
              "FEDERAL_REVENUE                 25.655977\n",
              "STATE_REVENUE                   25.655977\n",
              "LOCAL_REVENUE                   25.655977\n",
              "TOTAL_EXPENDITURE               25.655977\n",
              "INSTRUCTION_EXPENDITURE         25.655977\n",
              "SUPPORT_SERVICES_EXPENDITURE    25.655977\n",
              "OTHER_EXPENDITURE               28.629738\n",
              "CAPITAL_OUTLAY_EXPENDITURE      25.655977\n",
              "GRADES_PK_G                     10.087464\n",
              "GRADES_KG_G                      4.839650\n",
              "GRADES_4_G                       4.839650\n",
              "GRADES_8_G                       4.839650\n",
              "GRADES_12_G                      4.839650\n",
              "GRADES_1_8_G                    40.524781\n",
              "GRADES_9_12_G                   37.551020\n",
              "GRADES_ALL_G                     4.839650\n",
              "AVG_MATH_4_SCORE                67.055394\n",
              "AVG_MATH_8_SCORE                64.897959\n",
              "AVG_READING_4_SCORE             62.099125\n",
              "AVG_READING_8_SCORE             67.230321\n",
              "dtype: float64"
            ]
          },
          "metadata": {},
          "execution_count": 47
        }
      ]
    },
    {
      "cell_type": "code",
      "source": [
        "indices=np.where(np.isnan(states_all.ENROLL))[0].tolist()\n",
        "states_all.YEAR[indices]"
      ],
      "metadata": {
        "colab": {
          "base_uri": "https://localhost:8080/"
        },
        "id": "wRctEXWzVgz0",
        "outputId": "d9951d8c-a4bd-4ec5-dba6-84de2cbfc358"
      },
      "execution_count": 34,
      "outputs": [
        {
          "output_type": "execute_result",
          "data": {
            "text/plain": [
              "0       1992\n",
              "1       1992\n",
              "2       1992\n",
              "3       1992\n",
              "4       1992\n",
              "        ... \n",
              "1710    2019\n",
              "1711    2019\n",
              "1712    2019\n",
              "1713    2019\n",
              "1714    2019\n",
              "Name: YEAR, Length: 491, dtype: int64"
            ]
          },
          "metadata": {},
          "execution_count": 34
        }
      ]
    },
    {
      "cell_type": "markdown",
      "metadata": {
        "id": "0P8mZt0CcDDG"
      },
      "source": [
        "**(2)** You may have noticed that our data has a year column. For now, forget about the year data and assume that each observation was made in the same year. Consider how you can fill in missing values for each variable. Filling in the missing values with a value is meaningful for which variables and for which ones?"
      ]
    },
    {
      "cell_type": "code",
      "metadata": {
        "id": "yDrJvPmCcDDH"
      },
      "source": [
        "#I would fill the missing values with the mean of each states. "
      ],
      "execution_count": null,
      "outputs": []
    },
    {
      "cell_type": "markdown",
      "metadata": {
        "id": "PTFns1NOcDDH"
      },
      "source": [
        "**(3)** Now it's time to consider the factor of time! Review your answer in question 2 and fill in the missing data based on the values observed during that year. For example, if you want to fill a value with an average value, calculate the average of that year."
      ]
    },
    {
      "cell_type": "code",
      "metadata": {
        "id": "xqv98ZIvcDDH",
        "colab": {
          "base_uri": "https://localhost:8080/"
        },
        "outputId": "ec932bc4-d872-4fef-cb0f-de713c855e9d"
      },
      "source": [
        "states_all.nunique()"
      ],
      "execution_count": 35,
      "outputs": [
        {
          "output_type": "execute_result",
          "data": {
            "text/plain": [
              "PRIMARY_KEY                     1715\n",
              "STATE                             53\n",
              "YEAR                              33\n",
              "ENROLL                          1224\n",
              "TOTAL_REVENUE                   1274\n",
              "FEDERAL_REVENUE                 1275\n",
              "STATE_REVENUE                   1251\n",
              "LOCAL_REVENUE                   1275\n",
              "TOTAL_EXPENDITURE               1275\n",
              "INSTRUCTION_EXPENDITURE         1275\n",
              "SUPPORT_SERVICES_EXPENDITURE    1275\n",
              "OTHER_EXPENDITURE               1222\n",
              "CAPITAL_OUTLAY_EXPENDITURE      1275\n",
              "GRADES_PK_G                     1483\n",
              "GRADES_KG_G                     1613\n",
              "GRADES_4_G                      1612\n",
              "GRADES_8_G                      1620\n",
              "GRADES_12_G                     1608\n",
              "GRADES_1_8_G                    1020\n",
              "GRADES_9_12_G                   1070\n",
              "GRADES_ALL_G                    1629\n",
              "AVG_MATH_4_SCORE                  50\n",
              "AVG_MATH_8_SCORE                  57\n",
              "AVG_READING_4_SCORE               43\n",
              "AVG_READING_8_SCORE               39\n",
              "dtype: int64"
            ]
          },
          "metadata": {},
          "execution_count": 35
        }
      ]
    },
    {
      "cell_type": "code",
      "source": [
        "states_all[\"TOTAL_REVENUE\"].fillna(states_all[\"TOTAL_REVENUE\"].mean(),inplace=True)\n",
        "#i tried to fill na according to year but i couldnt find a proper solution so i fill them with overall average."
      ],
      "metadata": {
        "id": "MuQltoa4j2-i"
      },
      "execution_count": 42,
      "outputs": []
    },
    {
      "cell_type": "markdown",
      "metadata": {
        "id": "vO-MlrtjcDDI"
      },
      "source": [
        "**(4)** This time, fill in the missing values by interpolating."
      ]
    },
    {
      "cell_type": "code",
      "metadata": {
        "id": "PCw2g9-hcDDI",
        "colab": {
          "base_uri": "https://localhost:8080/"
        },
        "outputId": "2d356893-2bd9-47f1-f559-2e0ef8bc92c5"
      },
      "source": [
        "states_all.OTHER_EXPENDITURE.interpolate(method='linear',limit_direction='forward')"
      ],
      "execution_count": 48,
      "outputs": [
        {
          "output_type": "execute_result",
          "data": {
            "text/plain": [
              "0           NaN\n",
              "1           NaN\n",
              "2           NaN\n",
              "3           NaN\n",
              "4           NaN\n",
              "         ...   \n",
              "1710    53570.0\n",
              "1711    53570.0\n",
              "1712    53570.0\n",
              "1713    53570.0\n",
              "1714    53570.0\n",
              "Name: OTHER_EXPENDITURE, Length: 1715, dtype: float64"
            ]
          },
          "metadata": {},
          "execution_count": 48
        }
      ]
    },
    {
      "cell_type": "markdown",
      "metadata": {
        "id": "zexfIx8RcDDI"
      },
      "source": [
        "**(5)** Compare your answers on the second, third and fourth questions. Do you notice a meaningful difference?"
      ]
    },
    {
      "cell_type": "code",
      "metadata": {
        "id": "2QrCAsAGcDDJ"
      },
      "source": [
        "#with fill na all the missing data are covered but with interpolation since it fill the data with the average between two values, there are still missing values in our data."
      ],
      "execution_count": null,
      "outputs": []
    }
  ]
}